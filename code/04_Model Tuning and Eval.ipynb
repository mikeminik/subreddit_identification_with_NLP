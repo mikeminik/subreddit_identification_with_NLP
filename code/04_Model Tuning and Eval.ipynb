{
 "cells": [
  {
   "cell_type": "code",
   "execution_count": 1,
   "id": "f8605919-f2d5-4c6b-9205-d89bbcdc7a06",
   "metadata": {
    "tags": []
   },
   "outputs": [],
   "source": [
    "import pandas as pd\n",
    "\n",
    "\n",
    "import nltk\n",
    "from nltk.tokenize import sent_tokenize, word_tokenize, RegexpTokenizer\n",
    "from nltk.stem import PorterStemmer, WordNetLemmatizer\n",
    "from nltk.corpus import stopwords, wordnet\n",
    "\n",
    "from sklearn.feature_extraction.text import CountVectorizer, TfidfVectorizer\n",
    "from sklearn.compose import ColumnTransformer\n",
    "from sklearn.pipeline import Pipeline\n",
    "from sklearn.model_selection import GridSearchCV\n",
    "from sklearn.naive_bayes import MultinomialNB\n",
    "from sklearn.model_selection import train_test_split\n",
    "from sklearn.preprocessing import OneHotEncoder\n",
    "from sklearn.metrics import confusion_matrix, ConfusionMatrixDisplay"
   ]
  },
  {
   "cell_type": "code",
   "execution_count": 2,
   "id": "8722d4e0-5f85-462d-8c7d-15977d0e3840",
   "metadata": {
    "tags": []
   },
   "outputs": [],
   "source": [
    "reddit_data_df = pd.read_csv('../datasets/reddit_data_engineered.csv')"
   ]
  },
  {
   "cell_type": "code",
   "execution_count": 3,
   "id": "7cef1621-161c-47bb-8ee9-083c6054f9c3",
   "metadata": {
    "tags": []
   },
   "outputs": [],
   "source": [
    "# reddit_data_df.set_index('id', inplace = True)"
   ]
  },
  {
   "cell_type": "code",
   "execution_count": 4,
   "id": "85a1b5f2-de9a-4c05-a38e-7a35b948a190",
   "metadata": {
    "tags": []
   },
   "outputs": [],
   "source": [
    "\n",
    "wn = WordNetLemmatizer()"
   ]
  },
  {
   "cell_type": "code",
   "execution_count": 5,
   "id": "481938b3-88ef-4774-9816-ac2ea4cf65da",
   "metadata": {
    "tags": []
   },
   "outputs": [],
   "source": [
    "## custom Tim funcion for mapping nltk POS_TAG for wordnet lemmatizing\n",
    "def custom_lemmatize(word, tag):\n",
    "    mapper = {\n",
    "        'J': wordnet.ADJ,\n",
    "        'V': wordnet.VERB,\n",
    "        'N': wordnet.NOUN,\n",
    "        'R': wordnet.ADV\n",
    "    }\n",
    "    pos = mapper.get(tag[0])\n",
    "    \n",
    "    return wn.lemmatize(word, pos) if pos else word"
   ]
  },
  {
   "cell_type": "markdown",
   "id": "7063776c-5387-4bf3-b1ae-f04621498dad",
   "metadata": {},
   "source": [
    "### Stem"
   ]
  },
  {
   "cell_type": "code",
   "execution_count": 6,
   "id": "879255f6-1701-4113-a9e0-a0baf540d904",
   "metadata": {
    "tags": []
   },
   "outputs": [],
   "source": [
    "# reddit_data_df['title'].apply(lambda title: [ps.stem(word) for word in title.split()])"
   ]
  },
  {
   "cell_type": "code",
   "execution_count": null,
   "id": "8cbeb2f2-2901-4080-acf0-cc21c01ca0db",
   "metadata": {
    "tags": []
   },
   "outputs": [],
   "source": []
  },
  {
   "cell_type": "markdown",
   "id": "e183b8c2-b87c-4cd3-8fd2-27c7ac5781fc",
   "metadata": {},
   "source": [
    "### Lemmatize"
   ]
  },
  {
   "cell_type": "code",
   "execution_count": null,
   "id": "4ec087d4-522c-46a9-8e8c-daf1ff6f222b",
   "metadata": {
    "tags": []
   },
   "outputs": [],
   "source": []
  },
  {
   "cell_type": "code",
   "execution_count": 7,
   "id": "7b103ceb-ca05-4c5b-9b4a-e4989a35f867",
   "metadata": {
    "tags": []
   },
   "outputs": [],
   "source": [
    "reddit_data_df['title'] = reddit_data_df['title'].apply(lambda title : ' '.join([custom_lemmatize(word,tag) for word, tag in nltk.pos_tag(title.split())]))"
   ]
  },
  {
   "cell_type": "code",
   "execution_count": 8,
   "id": "89b1b8e7-a891-419c-aaa8-15e146c58bf4",
   "metadata": {},
   "outputs": [],
   "source": [
    "# reddit_data_df['url_content_lem'] = reddit_data_df['url_content'].apply(lambda content : ' '.join([custom_lemmatize(word,tag) for word, tag in nltk.pos_tag(content.split())]))"
   ]
  },
  {
   "cell_type": "code",
   "execution_count": 9,
   "id": "f53e0822-0c9c-4b64-b078-84d2c254c948",
   "metadata": {
    "tags": []
   },
   "outputs": [],
   "source": [
    "reddit_data_df['subreddit'] = reddit_data_df['subreddit'].str.contains('Futurology').astype(int)"
   ]
  },
  {
   "cell_type": "code",
   "execution_count": 10,
   "id": "90b11363-ec85-4f5c-a34b-3290cb7a642d",
   "metadata": {
    "tags": []
   },
   "outputs": [],
   "source": [
    "reddit_data_df.fillna('NA', inplace = True)"
   ]
  },
  {
   "cell_type": "code",
   "execution_count": 11,
   "id": "68cb5473-1a2d-43a4-ae31-c2fc91f83d89",
   "metadata": {
    "tags": []
   },
   "outputs": [
    {
     "data": {
      "text/plain": [
       "id                       0\n",
       "type                     0\n",
       "title                    0\n",
       "self_text                0\n",
       "subreddit                0\n",
       "upvote_ratio             0\n",
       "link_address             0\n",
       "user                     0\n",
       "datetime                 0\n",
       "title_length_chars       0\n",
       "title_length_words       0\n",
       "title_avg_word_length    0\n",
       "url_content              0\n",
       "url_domain               0\n",
       "external_link            0\n",
       "dtype: int64"
      ]
     },
     "execution_count": 11,
     "metadata": {},
     "output_type": "execute_result"
    }
   ],
   "source": [
    "reddit_data_df.isnull().sum()"
   ]
  },
  {
   "cell_type": "markdown",
   "id": "59f22633-eb7b-475f-ab84-19052f770da9",
   "metadata": {},
   "source": [
    "### Column transformer "
   ]
  },
  {
   "cell_type": "code",
   "execution_count": 12,
   "id": "070e3276-f743-4963-9add-5ac098d33102",
   "metadata": {
    "tags": []
   },
   "outputs": [
    {
     "data": {
      "text/plain": [
       "(3656, 4)"
      ]
     },
     "execution_count": 12,
     "metadata": {},
     "output_type": "execute_result"
    }
   ],
   "source": [
    "X = reddit_data_df.loc[: , ['title', 'title_avg_word_length', 'url_content', 'url_domain']]\n",
    "X.shape"
   ]
  },
  {
   "cell_type": "code",
   "execution_count": 13,
   "id": "b270f27c-bac5-4aee-b2f6-98e62a5f01fd",
   "metadata": {
    "tags": []
   },
   "outputs": [],
   "source": [
    "# X = reddit_data_df['title']"
   ]
  },
  {
   "cell_type": "code",
   "execution_count": 14,
   "id": "b9825dbc-cf74-401b-9444-720faeb479fe",
   "metadata": {
    "tags": []
   },
   "outputs": [],
   "source": [
    "y = reddit_data_df['subreddit']"
   ]
  },
  {
   "cell_type": "code",
   "execution_count": 15,
   "id": "06f9d5e7-ef0c-4e9e-9e02-1b2a22cf22dd",
   "metadata": {
    "tags": []
   },
   "outputs": [],
   "source": [
    "X_train, X_test, y_train, y_test = train_test_split(X, y, random_state=2023)"
   ]
  },
  {
   "cell_type": "code",
   "execution_count": 16,
   "id": "60b17b5f-7313-4da8-a6f6-9c1e5d44377a",
   "metadata": {
    "tags": []
   },
   "outputs": [
    {
     "data": {
      "text/plain": [
       "(2742, 4)"
      ]
     },
     "execution_count": 16,
     "metadata": {},
     "output_type": "execute_result"
    }
   ],
   "source": [
    "X_train.shape"
   ]
  },
  {
   "cell_type": "code",
   "execution_count": 17,
   "id": "b8234b22-70ed-42eb-a43a-33f26095bd66",
   "metadata": {
    "tags": []
   },
   "outputs": [
    {
     "data": {
      "text/plain": [
       "(2742,)"
      ]
     },
     "execution_count": 17,
     "metadata": {},
     "output_type": "execute_result"
    }
   ],
   "source": [
    "y_train.shape"
   ]
  },
  {
   "cell_type": "code",
   "execution_count": null,
   "id": "8017888c-68dc-410b-9775-90bf7d6372c6",
   "metadata": {
    "tags": []
   },
   "outputs": [],
   "source": [
    "\n"
   ]
  },
  {
   "cell_type": "markdown",
   "id": "dd87ebf2-f71e-41b7-9a16-51037c654223",
   "metadata": {},
   "source": [
    "## Model 1 - Naive Bayes with Count Vectorizers"
   ]
  },
  {
   "cell_type": "code",
   "execution_count": null,
   "id": "e8c5a75d-d4f9-4b69-a825-608b00334f89",
   "metadata": {},
   "outputs": [],
   "source": []
  },
  {
   "cell_type": "code",
   "execution_count": 18,
   "id": "982b22fd-4333-4f22-a8e6-60cdbe7a1231",
   "metadata": {
    "tags": []
   },
   "outputs": [],
   "source": [
    "# transformers = [\n",
    "#     ('title_vectorizer', CountVectorizer(), 'title'),\n",
    "#     ('url_content_vectorizer', CountVectorizer(), 'url_content'),\n",
    "#     ('domain_one_hot', OneHotEncoder(drop='first', handle_unknown = 'ignore'), ['url_domain'])\n",
    "# ]"
   ]
  },
  {
   "cell_type": "code",
   "execution_count": 19,
   "id": "ca12822f-f196-4fd6-bb72-814c4842b58f",
   "metadata": {
    "tags": []
   },
   "outputs": [],
   "source": [
    "# pipe_nb = Pipeline([\n",
    "#     ('cvecs', ColumnTransformer(transformers, remainder = 'passthrough')),\n",
    "#     ('nb', MultinomialNB())\n",
    "# ])"
   ]
  },
  {
   "cell_type": "code",
   "execution_count": null,
   "id": "ae9de05a-f1a4-4bba-9e49-883ddd22346e",
   "metadata": {},
   "outputs": [],
   "source": [
    "# pgrid = {\n",
    "#     'cvecs__title_vectorizer__stop_words' : [None], \n",
    "#     'cvecs__title_vectorizer__max_df' : [0.7, 0.8, 0.9], \n",
    "#     'cvecs__title_vectorizer__min_df' : [1, 2],\n",
    "#     'cvecs__title_vectorizer__ngram_range': [(1,1)],\n",
    "#     'cvecs__title_vectorizer__binary' : [False, True],\n",
    "#     'cvecs__url_content_vectorizer__stop_words' : ['english'],\n",
    "#     'cvecs__url_content_vectorizer__max_df' : [0.7, 0.8, 0.9],\n",
    "#     'cvecs__url_content_vectorizer__min_df' : [1, 2, 3],\n",
    "#     'cvecs__url_content_vectorizer__ngram_range': [(2,2)],\n",
    "#     'cvecs__url_content_vectorizer__binary' : [False, True]\n",
    "# }"
   ]
  },
  {
   "cell_type": "markdown",
   "id": "379010f1-6855-45e0-b058-196b5dfe71a8",
   "metadata": {},
   "source": [
    "## Model 2 - Naive Bayes with TFIDF Vectorizers"
   ]
  },
  {
   "cell_type": "code",
   "execution_count": 20,
   "id": "678d79ab-46eb-4231-be88-3a9f66064675",
   "metadata": {
    "tags": []
   },
   "outputs": [],
   "source": [
    "# transformers = [\n",
    "#     ('title_vectorizer', TfidfVectorizer(), 'title'),\n",
    "#     ('url_content_vectorizer', TfidfVectorizer(), 'url_content'),\n",
    "#     ('domain_one_hot', OneHotEncoder(drop='first', handle_unknown = 'ignore'), ['url_domain'])\n",
    "# ]"
   ]
  },
  {
   "cell_type": "code",
   "execution_count": 21,
   "id": "65cd7cd8-995d-491a-aaa4-1ccc9f8e583b",
   "metadata": {
    "tags": []
   },
   "outputs": [],
   "source": [
    "# pipe_nb = Pipeline([\n",
    "#     ('tvecs', ColumnTransformer(transformers, remainder = 'passthrough')),\n",
    "#     ('nb', MultinomialNB())\n",
    "# ])"
   ]
  },
  {
   "cell_type": "code",
   "execution_count": null,
   "id": "454ef335-2b5f-4807-9ebf-5d37e7fe7f89",
   "metadata": {},
   "outputs": [],
   "source": []
  },
  {
   "cell_type": "code",
   "execution_count": 28,
   "id": "f48a493e-4843-42d9-9d2b-a3047cd45a48",
   "metadata": {
    "tags": []
   },
   "outputs": [],
   "source": [
    "# pgrid = {\n",
    "#     'tvecs__title_vectorizer__stop_words' : [None, 'english'], \n",
    "#     'tvecs__title_vectorizer__max_df' : [0.7, 0.8, 0.9], \n",
    "#     'tvecs__title_vectorizer__min_df' : [1, 2],\n",
    "#     'tvecs__title_vectorizer__ngram_range': [(1,1), (1,2), (2,2)],\n",
    "#     'tvecs__title_vectorizer__binary' : [False, True],\n",
    "#     'tvecs__title_vectorizer__max_features' : [None, 2000, 3000],\n",
    "#     'tvecs__url_content_vectorizer__stop_words' : [None, 'english'],\n",
    "#     'tvecs__url_content_vectorizer__max_df' : [0.7, 0.8, 0.9, 0.95],\n",
    "#     'tvecs__url_content_vectorizer__min_df' : [1, 2, 3],\n",
    "#     'tvecs__url_content_vectorizer__ngram_range': [(1,1), (1,2), (2,2)],\n",
    "#     'tvecs__url_content_vectorizer__binary' : [False, True]\n",
    "# }"
   ]
  },
  {
   "cell_type": "code",
   "execution_count": 36,
   "id": "0edb2847-371f-4018-a0e9-e361002ef9e3",
   "metadata": {
    "tags": []
   },
   "outputs": [
    {
     "data": {
      "text/plain": [
       "155521"
      ]
     },
     "execution_count": 36,
     "metadata": {},
     "output_type": "execute_result"
    }
   ],
   "source": [
    "2 * 3 * 2 * 3 * 2 * 3 * 2 * 4 * 3 * 3 * 2 * 5 + 1"
   ]
  },
  {
   "cell_type": "code",
   "execution_count": 22,
   "id": "38495c4c-a4b5-4f0b-bc90-6d4625198bff",
   "metadata": {
    "tags": []
   },
   "outputs": [
    {
     "data": {
      "text/html": [
       "<style>#sk-container-id-1 {color: black;}#sk-container-id-1 pre{padding: 0;}#sk-container-id-1 div.sk-toggleable {background-color: white;}#sk-container-id-1 label.sk-toggleable__label {cursor: pointer;display: block;width: 100%;margin-bottom: 0;padding: 0.3em;box-sizing: border-box;text-align: center;}#sk-container-id-1 label.sk-toggleable__label-arrow:before {content: \"▸\";float: left;margin-right: 0.25em;color: #696969;}#sk-container-id-1 label.sk-toggleable__label-arrow:hover:before {color: black;}#sk-container-id-1 div.sk-estimator:hover label.sk-toggleable__label-arrow:before {color: black;}#sk-container-id-1 div.sk-toggleable__content {max-height: 0;max-width: 0;overflow: hidden;text-align: left;background-color: #f0f8ff;}#sk-container-id-1 div.sk-toggleable__content pre {margin: 0.2em;color: black;border-radius: 0.25em;background-color: #f0f8ff;}#sk-container-id-1 input.sk-toggleable__control:checked~div.sk-toggleable__content {max-height: 200px;max-width: 100%;overflow: auto;}#sk-container-id-1 input.sk-toggleable__control:checked~label.sk-toggleable__label-arrow:before {content: \"▾\";}#sk-container-id-1 div.sk-estimator input.sk-toggleable__control:checked~label.sk-toggleable__label {background-color: #d4ebff;}#sk-container-id-1 div.sk-label input.sk-toggleable__control:checked~label.sk-toggleable__label {background-color: #d4ebff;}#sk-container-id-1 input.sk-hidden--visually {border: 0;clip: rect(1px 1px 1px 1px);clip: rect(1px, 1px, 1px, 1px);height: 1px;margin: -1px;overflow: hidden;padding: 0;position: absolute;width: 1px;}#sk-container-id-1 div.sk-estimator {font-family: monospace;background-color: #f0f8ff;border: 1px dotted black;border-radius: 0.25em;box-sizing: border-box;margin-bottom: 0.5em;}#sk-container-id-1 div.sk-estimator:hover {background-color: #d4ebff;}#sk-container-id-1 div.sk-parallel-item::after {content: \"\";width: 100%;border-bottom: 1px solid gray;flex-grow: 1;}#sk-container-id-1 div.sk-label:hover label.sk-toggleable__label {background-color: #d4ebff;}#sk-container-id-1 div.sk-serial::before {content: \"\";position: absolute;border-left: 1px solid gray;box-sizing: border-box;top: 0;bottom: 0;left: 50%;z-index: 0;}#sk-container-id-1 div.sk-serial {display: flex;flex-direction: column;align-items: center;background-color: white;padding-right: 0.2em;padding-left: 0.2em;position: relative;}#sk-container-id-1 div.sk-item {position: relative;z-index: 1;}#sk-container-id-1 div.sk-parallel {display: flex;align-items: stretch;justify-content: center;background-color: white;position: relative;}#sk-container-id-1 div.sk-item::before, #sk-container-id-1 div.sk-parallel-item::before {content: \"\";position: absolute;border-left: 1px solid gray;box-sizing: border-box;top: 0;bottom: 0;left: 50%;z-index: -1;}#sk-container-id-1 div.sk-parallel-item {display: flex;flex-direction: column;z-index: 1;position: relative;background-color: white;}#sk-container-id-1 div.sk-parallel-item:first-child::after {align-self: flex-end;width: 50%;}#sk-container-id-1 div.sk-parallel-item:last-child::after {align-self: flex-start;width: 50%;}#sk-container-id-1 div.sk-parallel-item:only-child::after {width: 0;}#sk-container-id-1 div.sk-dashed-wrapped {border: 1px dashed gray;margin: 0 0.4em 0.5em 0.4em;box-sizing: border-box;padding-bottom: 0.4em;background-color: white;}#sk-container-id-1 div.sk-label label {font-family: monospace;font-weight: bold;display: inline-block;line-height: 1.2em;}#sk-container-id-1 div.sk-label-container {text-align: center;}#sk-container-id-1 div.sk-container {/* jupyter's `normalize.less` sets `[hidden] { display: none; }` but bootstrap.min.css set `[hidden] { display: none !important; }` so we also need the `!important` here to be able to override the default hidden behavior on the sphinx rendered scikit-learn.org. See: https://github.com/scikit-learn/scikit-learn/issues/21755 */display: inline-block !important;position: relative;}#sk-container-id-1 div.sk-text-repr-fallback {display: none;}</style><div id=\"sk-container-id-1\" class=\"sk-top-container\"><div class=\"sk-text-repr-fallback\"><pre>Pipeline(steps=[(&#x27;tvecs&#x27;,\n",
       "                 ColumnTransformer(remainder=&#x27;passthrough&#x27;,\n",
       "                                   transformers=[(&#x27;title_vectorizer&#x27;,\n",
       "                                                  TfidfVectorizer(), &#x27;title&#x27;),\n",
       "                                                 (&#x27;url_content_vectorizer&#x27;,\n",
       "                                                  TfidfVectorizer(),\n",
       "                                                  &#x27;url_content&#x27;),\n",
       "                                                 (&#x27;domain_one_hot&#x27;,\n",
       "                                                  OneHotEncoder(drop=&#x27;first&#x27;,\n",
       "                                                                handle_unknown=&#x27;ignore&#x27;),\n",
       "                                                  [&#x27;url_domain&#x27;])])),\n",
       "                (&#x27;nb&#x27;, MultinomialNB())])</pre><b>In a Jupyter environment, please rerun this cell to show the HTML representation or trust the notebook. <br />On GitHub, the HTML representation is unable to render, please try loading this page with nbviewer.org.</b></div><div class=\"sk-container\" hidden><div class=\"sk-item sk-dashed-wrapped\"><div class=\"sk-label-container\"><div class=\"sk-label sk-toggleable\"><input class=\"sk-toggleable__control sk-hidden--visually\" id=\"sk-estimator-id-1\" type=\"checkbox\" ><label for=\"sk-estimator-id-1\" class=\"sk-toggleable__label sk-toggleable__label-arrow\">Pipeline</label><div class=\"sk-toggleable__content\"><pre>Pipeline(steps=[(&#x27;tvecs&#x27;,\n",
       "                 ColumnTransformer(remainder=&#x27;passthrough&#x27;,\n",
       "                                   transformers=[(&#x27;title_vectorizer&#x27;,\n",
       "                                                  TfidfVectorizer(), &#x27;title&#x27;),\n",
       "                                                 (&#x27;url_content_vectorizer&#x27;,\n",
       "                                                  TfidfVectorizer(),\n",
       "                                                  &#x27;url_content&#x27;),\n",
       "                                                 (&#x27;domain_one_hot&#x27;,\n",
       "                                                  OneHotEncoder(drop=&#x27;first&#x27;,\n",
       "                                                                handle_unknown=&#x27;ignore&#x27;),\n",
       "                                                  [&#x27;url_domain&#x27;])])),\n",
       "                (&#x27;nb&#x27;, MultinomialNB())])</pre></div></div></div><div class=\"sk-serial\"><div class=\"sk-item sk-dashed-wrapped\"><div class=\"sk-label-container\"><div class=\"sk-label sk-toggleable\"><input class=\"sk-toggleable__control sk-hidden--visually\" id=\"sk-estimator-id-2\" type=\"checkbox\" ><label for=\"sk-estimator-id-2\" class=\"sk-toggleable__label sk-toggleable__label-arrow\">tvecs: ColumnTransformer</label><div class=\"sk-toggleable__content\"><pre>ColumnTransformer(remainder=&#x27;passthrough&#x27;,\n",
       "                  transformers=[(&#x27;title_vectorizer&#x27;, TfidfVectorizer(),\n",
       "                                 &#x27;title&#x27;),\n",
       "                                (&#x27;url_content_vectorizer&#x27;, TfidfVectorizer(),\n",
       "                                 &#x27;url_content&#x27;),\n",
       "                                (&#x27;domain_one_hot&#x27;,\n",
       "                                 OneHotEncoder(drop=&#x27;first&#x27;,\n",
       "                                               handle_unknown=&#x27;ignore&#x27;),\n",
       "                                 [&#x27;url_domain&#x27;])])</pre></div></div></div><div class=\"sk-parallel\"><div class=\"sk-parallel-item\"><div class=\"sk-item\"><div class=\"sk-label-container\"><div class=\"sk-label sk-toggleable\"><input class=\"sk-toggleable__control sk-hidden--visually\" id=\"sk-estimator-id-3\" type=\"checkbox\" ><label for=\"sk-estimator-id-3\" class=\"sk-toggleable__label sk-toggleable__label-arrow\">title_vectorizer</label><div class=\"sk-toggleable__content\"><pre>title</pre></div></div></div><div class=\"sk-serial\"><div class=\"sk-item\"><div class=\"sk-estimator sk-toggleable\"><input class=\"sk-toggleable__control sk-hidden--visually\" id=\"sk-estimator-id-4\" type=\"checkbox\" ><label for=\"sk-estimator-id-4\" class=\"sk-toggleable__label sk-toggleable__label-arrow\">TfidfVectorizer</label><div class=\"sk-toggleable__content\"><pre>TfidfVectorizer()</pre></div></div></div></div></div></div><div class=\"sk-parallel-item\"><div class=\"sk-item\"><div class=\"sk-label-container\"><div class=\"sk-label sk-toggleable\"><input class=\"sk-toggleable__control sk-hidden--visually\" id=\"sk-estimator-id-5\" type=\"checkbox\" ><label for=\"sk-estimator-id-5\" class=\"sk-toggleable__label sk-toggleable__label-arrow\">url_content_vectorizer</label><div class=\"sk-toggleable__content\"><pre>url_content</pre></div></div></div><div class=\"sk-serial\"><div class=\"sk-item\"><div class=\"sk-estimator sk-toggleable\"><input class=\"sk-toggleable__control sk-hidden--visually\" id=\"sk-estimator-id-6\" type=\"checkbox\" ><label for=\"sk-estimator-id-6\" class=\"sk-toggleable__label sk-toggleable__label-arrow\">TfidfVectorizer</label><div class=\"sk-toggleable__content\"><pre>TfidfVectorizer()</pre></div></div></div></div></div></div><div class=\"sk-parallel-item\"><div class=\"sk-item\"><div class=\"sk-label-container\"><div class=\"sk-label sk-toggleable\"><input class=\"sk-toggleable__control sk-hidden--visually\" id=\"sk-estimator-id-7\" type=\"checkbox\" ><label for=\"sk-estimator-id-7\" class=\"sk-toggleable__label sk-toggleable__label-arrow\">domain_one_hot</label><div class=\"sk-toggleable__content\"><pre>[&#x27;url_domain&#x27;]</pre></div></div></div><div class=\"sk-serial\"><div class=\"sk-item\"><div class=\"sk-estimator sk-toggleable\"><input class=\"sk-toggleable__control sk-hidden--visually\" id=\"sk-estimator-id-8\" type=\"checkbox\" ><label for=\"sk-estimator-id-8\" class=\"sk-toggleable__label sk-toggleable__label-arrow\">OneHotEncoder</label><div class=\"sk-toggleable__content\"><pre>OneHotEncoder(drop=&#x27;first&#x27;, handle_unknown=&#x27;ignore&#x27;)</pre></div></div></div></div></div></div><div class=\"sk-parallel-item\"><div class=\"sk-item\"><div class=\"sk-label-container\"><div class=\"sk-label sk-toggleable\"><input class=\"sk-toggleable__control sk-hidden--visually\" id=\"sk-estimator-id-9\" type=\"checkbox\" ><label for=\"sk-estimator-id-9\" class=\"sk-toggleable__label sk-toggleable__label-arrow\">remainder</label><div class=\"sk-toggleable__content\"><pre>[&#x27;title_avg_word_length&#x27;]</pre></div></div></div><div class=\"sk-serial\"><div class=\"sk-item\"><div class=\"sk-estimator sk-toggleable\"><input class=\"sk-toggleable__control sk-hidden--visually\" id=\"sk-estimator-id-10\" type=\"checkbox\" ><label for=\"sk-estimator-id-10\" class=\"sk-toggleable__label sk-toggleable__label-arrow\">passthrough</label><div class=\"sk-toggleable__content\"><pre>passthrough</pre></div></div></div></div></div></div></div></div><div class=\"sk-item\"><div class=\"sk-estimator sk-toggleable\"><input class=\"sk-toggleable__control sk-hidden--visually\" id=\"sk-estimator-id-11\" type=\"checkbox\" ><label for=\"sk-estimator-id-11\" class=\"sk-toggleable__label sk-toggleable__label-arrow\">MultinomialNB</label><div class=\"sk-toggleable__content\"><pre>MultinomialNB()</pre></div></div></div></div></div></div></div>"
      ],
      "text/plain": [
       "Pipeline(steps=[('tvecs',\n",
       "                 ColumnTransformer(remainder='passthrough',\n",
       "                                   transformers=[('title_vectorizer',\n",
       "                                                  TfidfVectorizer(), 'title'),\n",
       "                                                 ('url_content_vectorizer',\n",
       "                                                  TfidfVectorizer(),\n",
       "                                                  'url_content'),\n",
       "                                                 ('domain_one_hot',\n",
       "                                                  OneHotEncoder(drop='first',\n",
       "                                                                handle_unknown='ignore'),\n",
       "                                                  ['url_domain'])])),\n",
       "                ('nb', MultinomialNB())])"
      ]
     },
     "execution_count": 22,
     "metadata": {},
     "output_type": "execute_result"
    }
   ],
   "source": [
    "pipe_nb.fit(X_train, y_train)"
   ]
  },
  {
   "cell_type": "code",
   "execution_count": 25,
   "id": "1d59c144-6f27-4d54-88b9-e0567df6f9c9",
   "metadata": {
    "tags": []
   },
   "outputs": [
    {
     "data": {
      "text/plain": [
       "{'memory': None,\n",
       " 'steps': [('tvecs', ColumnTransformer(remainder='passthrough',\n",
       "                     transformers=[('title_vectorizer', TfidfVectorizer(),\n",
       "                                    'title'),\n",
       "                                   ('url_content_vectorizer', TfidfVectorizer(),\n",
       "                                    'url_content'),\n",
       "                                   ('domain_one_hot',\n",
       "                                    OneHotEncoder(drop='first',\n",
       "                                                  handle_unknown='ignore'),\n",
       "                                    ['url_domain'])])),\n",
       "  ('nb', MultinomialNB())],\n",
       " 'verbose': False,\n",
       " 'tvecs': ColumnTransformer(remainder='passthrough',\n",
       "                   transformers=[('title_vectorizer', TfidfVectorizer(),\n",
       "                                  'title'),\n",
       "                                 ('url_content_vectorizer', TfidfVectorizer(),\n",
       "                                  'url_content'),\n",
       "                                 ('domain_one_hot',\n",
       "                                  OneHotEncoder(drop='first',\n",
       "                                                handle_unknown='ignore'),\n",
       "                                  ['url_domain'])]),\n",
       " 'nb': MultinomialNB(),\n",
       " 'tvecs__n_jobs': None,\n",
       " 'tvecs__remainder': 'passthrough',\n",
       " 'tvecs__sparse_threshold': 0.3,\n",
       " 'tvecs__transformer_weights': None,\n",
       " 'tvecs__transformers': [('title_vectorizer', TfidfVectorizer(), 'title'),\n",
       "  ('url_content_vectorizer', TfidfVectorizer(), 'url_content'),\n",
       "  ('domain_one_hot',\n",
       "   OneHotEncoder(drop='first', handle_unknown='ignore'),\n",
       "   ['url_domain'])],\n",
       " 'tvecs__verbose': False,\n",
       " 'tvecs__verbose_feature_names_out': True,\n",
       " 'tvecs__title_vectorizer': TfidfVectorizer(),\n",
       " 'tvecs__url_content_vectorizer': TfidfVectorizer(),\n",
       " 'tvecs__domain_one_hot': OneHotEncoder(drop='first', handle_unknown='ignore'),\n",
       " 'tvecs__title_vectorizer__analyzer': 'word',\n",
       " 'tvecs__title_vectorizer__binary': False,\n",
       " 'tvecs__title_vectorizer__decode_error': 'strict',\n",
       " 'tvecs__title_vectorizer__dtype': numpy.float64,\n",
       " 'tvecs__title_vectorizer__encoding': 'utf-8',\n",
       " 'tvecs__title_vectorizer__input': 'content',\n",
       " 'tvecs__title_vectorizer__lowercase': True,\n",
       " 'tvecs__title_vectorizer__max_df': 1.0,\n",
       " 'tvecs__title_vectorizer__max_features': None,\n",
       " 'tvecs__title_vectorizer__min_df': 1,\n",
       " 'tvecs__title_vectorizer__ngram_range': (1, 1),\n",
       " 'tvecs__title_vectorizer__norm': 'l2',\n",
       " 'tvecs__title_vectorizer__preprocessor': None,\n",
       " 'tvecs__title_vectorizer__smooth_idf': True,\n",
       " 'tvecs__title_vectorizer__stop_words': None,\n",
       " 'tvecs__title_vectorizer__strip_accents': None,\n",
       " 'tvecs__title_vectorizer__sublinear_tf': False,\n",
       " 'tvecs__title_vectorizer__token_pattern': '(?u)\\\\b\\\\w\\\\w+\\\\b',\n",
       " 'tvecs__title_vectorizer__tokenizer': None,\n",
       " 'tvecs__title_vectorizer__use_idf': True,\n",
       " 'tvecs__title_vectorizer__vocabulary': None,\n",
       " 'tvecs__url_content_vectorizer__analyzer': 'word',\n",
       " 'tvecs__url_content_vectorizer__binary': False,\n",
       " 'tvecs__url_content_vectorizer__decode_error': 'strict',\n",
       " 'tvecs__url_content_vectorizer__dtype': numpy.float64,\n",
       " 'tvecs__url_content_vectorizer__encoding': 'utf-8',\n",
       " 'tvecs__url_content_vectorizer__input': 'content',\n",
       " 'tvecs__url_content_vectorizer__lowercase': True,\n",
       " 'tvecs__url_content_vectorizer__max_df': 1.0,\n",
       " 'tvecs__url_content_vectorizer__max_features': None,\n",
       " 'tvecs__url_content_vectorizer__min_df': 1,\n",
       " 'tvecs__url_content_vectorizer__ngram_range': (1, 1),\n",
       " 'tvecs__url_content_vectorizer__norm': 'l2',\n",
       " 'tvecs__url_content_vectorizer__preprocessor': None,\n",
       " 'tvecs__url_content_vectorizer__smooth_idf': True,\n",
       " 'tvecs__url_content_vectorizer__stop_words': None,\n",
       " 'tvecs__url_content_vectorizer__strip_accents': None,\n",
       " 'tvecs__url_content_vectorizer__sublinear_tf': False,\n",
       " 'tvecs__url_content_vectorizer__token_pattern': '(?u)\\\\b\\\\w\\\\w+\\\\b',\n",
       " 'tvecs__url_content_vectorizer__tokenizer': None,\n",
       " 'tvecs__url_content_vectorizer__use_idf': True,\n",
       " 'tvecs__url_content_vectorizer__vocabulary': None,\n",
       " 'tvecs__domain_one_hot__categories': 'auto',\n",
       " 'tvecs__domain_one_hot__drop': 'first',\n",
       " 'tvecs__domain_one_hot__dtype': numpy.float64,\n",
       " 'tvecs__domain_one_hot__feature_name_combiner': 'concat',\n",
       " 'tvecs__domain_one_hot__handle_unknown': 'ignore',\n",
       " 'tvecs__domain_one_hot__max_categories': None,\n",
       " 'tvecs__domain_one_hot__min_frequency': None,\n",
       " 'tvecs__domain_one_hot__sparse': 'deprecated',\n",
       " 'tvecs__domain_one_hot__sparse_output': True,\n",
       " 'nb__alpha': 1.0,\n",
       " 'nb__class_prior': None,\n",
       " 'nb__fit_prior': True,\n",
       " 'nb__force_alpha': 'warn'}"
      ]
     },
     "execution_count": 25,
     "metadata": {},
     "output_type": "execute_result"
    }
   ],
   "source": [
    "pipe_nb.get_params()"
   ]
  },
  {
   "cell_type": "code",
   "execution_count": null,
   "id": "488c80e4-8e72-4bcb-8045-18f9f1cba4e2",
   "metadata": {
    "tags": []
   },
   "outputs": [],
   "source": []
  },
  {
   "cell_type": "code",
   "execution_count": null,
   "id": "c8b51317-3d7a-46f5-8b94-9b397a678e35",
   "metadata": {
    "tags": []
   },
   "outputs": [],
   "source": []
  },
  {
   "cell_type": "code",
   "execution_count": null,
   "id": "2c7f5960-b00e-4ae4-9452-fa31bba37acc",
   "metadata": {
    "tags": []
   },
   "outputs": [],
   "source": []
  },
  {
   "cell_type": "code",
   "execution_count": null,
   "id": "e689b286-9772-491a-b0be-1db0819fed36",
   "metadata": {
    "tags": []
   },
   "outputs": [],
   "source": []
  },
  {
   "cell_type": "code",
   "execution_count": 323,
   "id": "185ff224-3698-4de7-81dc-147b071f934b",
   "metadata": {
    "tags": []
   },
   "outputs": [],
   "source": []
  },
  {
   "cell_type": "code",
   "execution_count": null,
   "id": "ea3bf913-6381-4e19-acb9-6d59d2927ec6",
   "metadata": {
    "tags": []
   },
   "outputs": [],
   "source": []
  },
  {
   "cell_type": "code",
   "execution_count": 30,
   "id": "53cde0de-bcae-43e0-bafe-1239172e6b17",
   "metadata": {
    "tags": []
   },
   "outputs": [],
   "source": [
    "gs = GridSearchCV(pipe_nb, pgrid, cv = 5, n_jobs = 12)"
   ]
  },
  {
   "cell_type": "code",
   "execution_count": 31,
   "id": "4c55caec-4947-4017-8c55-51b92cf5dcac",
   "metadata": {
    "tags": []
   },
   "outputs": [
    {
     "name": "stdout",
     "output_type": "stream",
     "text": [
      "CPU times: total: 5min 56s\n",
      "Wall time: 37min 6s\n"
     ]
    },
    {
     "data": {
      "text/html": [
       "<style>#sk-container-id-2 {color: black;}#sk-container-id-2 pre{padding: 0;}#sk-container-id-2 div.sk-toggleable {background-color: white;}#sk-container-id-2 label.sk-toggleable__label {cursor: pointer;display: block;width: 100%;margin-bottom: 0;padding: 0.3em;box-sizing: border-box;text-align: center;}#sk-container-id-2 label.sk-toggleable__label-arrow:before {content: \"▸\";float: left;margin-right: 0.25em;color: #696969;}#sk-container-id-2 label.sk-toggleable__label-arrow:hover:before {color: black;}#sk-container-id-2 div.sk-estimator:hover label.sk-toggleable__label-arrow:before {color: black;}#sk-container-id-2 div.sk-toggleable__content {max-height: 0;max-width: 0;overflow: hidden;text-align: left;background-color: #f0f8ff;}#sk-container-id-2 div.sk-toggleable__content pre {margin: 0.2em;color: black;border-radius: 0.25em;background-color: #f0f8ff;}#sk-container-id-2 input.sk-toggleable__control:checked~div.sk-toggleable__content {max-height: 200px;max-width: 100%;overflow: auto;}#sk-container-id-2 input.sk-toggleable__control:checked~label.sk-toggleable__label-arrow:before {content: \"▾\";}#sk-container-id-2 div.sk-estimator input.sk-toggleable__control:checked~label.sk-toggleable__label {background-color: #d4ebff;}#sk-container-id-2 div.sk-label input.sk-toggleable__control:checked~label.sk-toggleable__label {background-color: #d4ebff;}#sk-container-id-2 input.sk-hidden--visually {border: 0;clip: rect(1px 1px 1px 1px);clip: rect(1px, 1px, 1px, 1px);height: 1px;margin: -1px;overflow: hidden;padding: 0;position: absolute;width: 1px;}#sk-container-id-2 div.sk-estimator {font-family: monospace;background-color: #f0f8ff;border: 1px dotted black;border-radius: 0.25em;box-sizing: border-box;margin-bottom: 0.5em;}#sk-container-id-2 div.sk-estimator:hover {background-color: #d4ebff;}#sk-container-id-2 div.sk-parallel-item::after {content: \"\";width: 100%;border-bottom: 1px solid gray;flex-grow: 1;}#sk-container-id-2 div.sk-label:hover label.sk-toggleable__label {background-color: #d4ebff;}#sk-container-id-2 div.sk-serial::before {content: \"\";position: absolute;border-left: 1px solid gray;box-sizing: border-box;top: 0;bottom: 0;left: 50%;z-index: 0;}#sk-container-id-2 div.sk-serial {display: flex;flex-direction: column;align-items: center;background-color: white;padding-right: 0.2em;padding-left: 0.2em;position: relative;}#sk-container-id-2 div.sk-item {position: relative;z-index: 1;}#sk-container-id-2 div.sk-parallel {display: flex;align-items: stretch;justify-content: center;background-color: white;position: relative;}#sk-container-id-2 div.sk-item::before, #sk-container-id-2 div.sk-parallel-item::before {content: \"\";position: absolute;border-left: 1px solid gray;box-sizing: border-box;top: 0;bottom: 0;left: 50%;z-index: -1;}#sk-container-id-2 div.sk-parallel-item {display: flex;flex-direction: column;z-index: 1;position: relative;background-color: white;}#sk-container-id-2 div.sk-parallel-item:first-child::after {align-self: flex-end;width: 50%;}#sk-container-id-2 div.sk-parallel-item:last-child::after {align-self: flex-start;width: 50%;}#sk-container-id-2 div.sk-parallel-item:only-child::after {width: 0;}#sk-container-id-2 div.sk-dashed-wrapped {border: 1px dashed gray;margin: 0 0.4em 0.5em 0.4em;box-sizing: border-box;padding-bottom: 0.4em;background-color: white;}#sk-container-id-2 div.sk-label label {font-family: monospace;font-weight: bold;display: inline-block;line-height: 1.2em;}#sk-container-id-2 div.sk-label-container {text-align: center;}#sk-container-id-2 div.sk-container {/* jupyter's `normalize.less` sets `[hidden] { display: none; }` but bootstrap.min.css set `[hidden] { display: none !important; }` so we also need the `!important` here to be able to override the default hidden behavior on the sphinx rendered scikit-learn.org. See: https://github.com/scikit-learn/scikit-learn/issues/21755 */display: inline-block !important;position: relative;}#sk-container-id-2 div.sk-text-repr-fallback {display: none;}</style><div id=\"sk-container-id-2\" class=\"sk-top-container\"><div class=\"sk-text-repr-fallback\"><pre>GridSearchCV(cv=5,\n",
       "             estimator=Pipeline(steps=[(&#x27;tvecs&#x27;,\n",
       "                                        ColumnTransformer(remainder=&#x27;passthrough&#x27;,\n",
       "                                                          transformers=[(&#x27;title_vectorizer&#x27;,\n",
       "                                                                         TfidfVectorizer(),\n",
       "                                                                         &#x27;title&#x27;),\n",
       "                                                                        (&#x27;url_content_vectorizer&#x27;,\n",
       "                                                                         TfidfVectorizer(),\n",
       "                                                                         &#x27;url_content&#x27;),\n",
       "                                                                        (&#x27;domain_one_hot&#x27;,\n",
       "                                                                         OneHotEncoder(drop=&#x27;first&#x27;,\n",
       "                                                                                       handle_unknown=&#x27;ignore&#x27;),\n",
       "                                                                         [&#x27;url_domain&#x27;])])),\n",
       "                                       (&#x27;nb&#x27;, MultinomialNB())]),\n",
       "             n_jobs=12,\n",
       "             param_grid=...\n",
       "                                                                  (1, 2),\n",
       "                                                                  (2, 2)],\n",
       "                         &#x27;tvecs__title_vectorizer__stop_words&#x27;: [None,\n",
       "                                                                 &#x27;english&#x27;],\n",
       "                         &#x27;tvecs__url_content_vectorizer__binary&#x27;: [False, True],\n",
       "                         &#x27;tvecs__url_content_vectorizer__max_df&#x27;: [0.7, 0.8,\n",
       "                                                                   0.9, 0.95],\n",
       "                         &#x27;tvecs__url_content_vectorizer__min_df&#x27;: [1, 2, 3],\n",
       "                         &#x27;tvecs__url_content_vectorizer__ngram_range&#x27;: [(1, 1),\n",
       "                                                                        (1, 2),\n",
       "                                                                        (2, 2)],\n",
       "                         &#x27;tvecs__url_content_vectorizer__stop_words&#x27;: [None,\n",
       "                                                                       &#x27;english&#x27;]})</pre><b>In a Jupyter environment, please rerun this cell to show the HTML representation or trust the notebook. <br />On GitHub, the HTML representation is unable to render, please try loading this page with nbviewer.org.</b></div><div class=\"sk-container\" hidden><div class=\"sk-item sk-dashed-wrapped\"><div class=\"sk-label-container\"><div class=\"sk-label sk-toggleable\"><input class=\"sk-toggleable__control sk-hidden--visually\" id=\"sk-estimator-id-12\" type=\"checkbox\" ><label for=\"sk-estimator-id-12\" class=\"sk-toggleable__label sk-toggleable__label-arrow\">GridSearchCV</label><div class=\"sk-toggleable__content\"><pre>GridSearchCV(cv=5,\n",
       "             estimator=Pipeline(steps=[(&#x27;tvecs&#x27;,\n",
       "                                        ColumnTransformer(remainder=&#x27;passthrough&#x27;,\n",
       "                                                          transformers=[(&#x27;title_vectorizer&#x27;,\n",
       "                                                                         TfidfVectorizer(),\n",
       "                                                                         &#x27;title&#x27;),\n",
       "                                                                        (&#x27;url_content_vectorizer&#x27;,\n",
       "                                                                         TfidfVectorizer(),\n",
       "                                                                         &#x27;url_content&#x27;),\n",
       "                                                                        (&#x27;domain_one_hot&#x27;,\n",
       "                                                                         OneHotEncoder(drop=&#x27;first&#x27;,\n",
       "                                                                                       handle_unknown=&#x27;ignore&#x27;),\n",
       "                                                                         [&#x27;url_domain&#x27;])])),\n",
       "                                       (&#x27;nb&#x27;, MultinomialNB())]),\n",
       "             n_jobs=12,\n",
       "             param_grid=...\n",
       "                                                                  (1, 2),\n",
       "                                                                  (2, 2)],\n",
       "                         &#x27;tvecs__title_vectorizer__stop_words&#x27;: [None,\n",
       "                                                                 &#x27;english&#x27;],\n",
       "                         &#x27;tvecs__url_content_vectorizer__binary&#x27;: [False, True],\n",
       "                         &#x27;tvecs__url_content_vectorizer__max_df&#x27;: [0.7, 0.8,\n",
       "                                                                   0.9, 0.95],\n",
       "                         &#x27;tvecs__url_content_vectorizer__min_df&#x27;: [1, 2, 3],\n",
       "                         &#x27;tvecs__url_content_vectorizer__ngram_range&#x27;: [(1, 1),\n",
       "                                                                        (1, 2),\n",
       "                                                                        (2, 2)],\n",
       "                         &#x27;tvecs__url_content_vectorizer__stop_words&#x27;: [None,\n",
       "                                                                       &#x27;english&#x27;]})</pre></div></div></div><div class=\"sk-parallel\"><div class=\"sk-parallel-item\"><div class=\"sk-item\"><div class=\"sk-label-container\"><div class=\"sk-label sk-toggleable\"><input class=\"sk-toggleable__control sk-hidden--visually\" id=\"sk-estimator-id-13\" type=\"checkbox\" ><label for=\"sk-estimator-id-13\" class=\"sk-toggleable__label sk-toggleable__label-arrow\">estimator: Pipeline</label><div class=\"sk-toggleable__content\"><pre>Pipeline(steps=[(&#x27;tvecs&#x27;,\n",
       "                 ColumnTransformer(remainder=&#x27;passthrough&#x27;,\n",
       "                                   transformers=[(&#x27;title_vectorizer&#x27;,\n",
       "                                                  TfidfVectorizer(), &#x27;title&#x27;),\n",
       "                                                 (&#x27;url_content_vectorizer&#x27;,\n",
       "                                                  TfidfVectorizer(),\n",
       "                                                  &#x27;url_content&#x27;),\n",
       "                                                 (&#x27;domain_one_hot&#x27;,\n",
       "                                                  OneHotEncoder(drop=&#x27;first&#x27;,\n",
       "                                                                handle_unknown=&#x27;ignore&#x27;),\n",
       "                                                  [&#x27;url_domain&#x27;])])),\n",
       "                (&#x27;nb&#x27;, MultinomialNB())])</pre></div></div></div><div class=\"sk-serial\"><div class=\"sk-item\"><div class=\"sk-serial\"><div class=\"sk-item sk-dashed-wrapped\"><div class=\"sk-label-container\"><div class=\"sk-label sk-toggleable\"><input class=\"sk-toggleable__control sk-hidden--visually\" id=\"sk-estimator-id-14\" type=\"checkbox\" ><label for=\"sk-estimator-id-14\" class=\"sk-toggleable__label sk-toggleable__label-arrow\">tvecs: ColumnTransformer</label><div class=\"sk-toggleable__content\"><pre>ColumnTransformer(remainder=&#x27;passthrough&#x27;,\n",
       "                  transformers=[(&#x27;title_vectorizer&#x27;, TfidfVectorizer(),\n",
       "                                 &#x27;title&#x27;),\n",
       "                                (&#x27;url_content_vectorizer&#x27;, TfidfVectorizer(),\n",
       "                                 &#x27;url_content&#x27;),\n",
       "                                (&#x27;domain_one_hot&#x27;,\n",
       "                                 OneHotEncoder(drop=&#x27;first&#x27;,\n",
       "                                               handle_unknown=&#x27;ignore&#x27;),\n",
       "                                 [&#x27;url_domain&#x27;])])</pre></div></div></div><div class=\"sk-parallel\"><div class=\"sk-parallel-item\"><div class=\"sk-item\"><div class=\"sk-label-container\"><div class=\"sk-label sk-toggleable\"><input class=\"sk-toggleable__control sk-hidden--visually\" id=\"sk-estimator-id-15\" type=\"checkbox\" ><label for=\"sk-estimator-id-15\" class=\"sk-toggleable__label sk-toggleable__label-arrow\">title_vectorizer</label><div class=\"sk-toggleable__content\"><pre>title</pre></div></div></div><div class=\"sk-serial\"><div class=\"sk-item\"><div class=\"sk-estimator sk-toggleable\"><input class=\"sk-toggleable__control sk-hidden--visually\" id=\"sk-estimator-id-16\" type=\"checkbox\" ><label for=\"sk-estimator-id-16\" class=\"sk-toggleable__label sk-toggleable__label-arrow\">TfidfVectorizer</label><div class=\"sk-toggleable__content\"><pre>TfidfVectorizer()</pre></div></div></div></div></div></div><div class=\"sk-parallel-item\"><div class=\"sk-item\"><div class=\"sk-label-container\"><div class=\"sk-label sk-toggleable\"><input class=\"sk-toggleable__control sk-hidden--visually\" id=\"sk-estimator-id-17\" type=\"checkbox\" ><label for=\"sk-estimator-id-17\" class=\"sk-toggleable__label sk-toggleable__label-arrow\">url_content_vectorizer</label><div class=\"sk-toggleable__content\"><pre>url_content</pre></div></div></div><div class=\"sk-serial\"><div class=\"sk-item\"><div class=\"sk-estimator sk-toggleable\"><input class=\"sk-toggleable__control sk-hidden--visually\" id=\"sk-estimator-id-18\" type=\"checkbox\" ><label for=\"sk-estimator-id-18\" class=\"sk-toggleable__label sk-toggleable__label-arrow\">TfidfVectorizer</label><div class=\"sk-toggleable__content\"><pre>TfidfVectorizer()</pre></div></div></div></div></div></div><div class=\"sk-parallel-item\"><div class=\"sk-item\"><div class=\"sk-label-container\"><div class=\"sk-label sk-toggleable\"><input class=\"sk-toggleable__control sk-hidden--visually\" id=\"sk-estimator-id-19\" type=\"checkbox\" ><label for=\"sk-estimator-id-19\" class=\"sk-toggleable__label sk-toggleable__label-arrow\">domain_one_hot</label><div class=\"sk-toggleable__content\"><pre>[&#x27;url_domain&#x27;]</pre></div></div></div><div class=\"sk-serial\"><div class=\"sk-item\"><div class=\"sk-estimator sk-toggleable\"><input class=\"sk-toggleable__control sk-hidden--visually\" id=\"sk-estimator-id-20\" type=\"checkbox\" ><label for=\"sk-estimator-id-20\" class=\"sk-toggleable__label sk-toggleable__label-arrow\">OneHotEncoder</label><div class=\"sk-toggleable__content\"><pre>OneHotEncoder(drop=&#x27;first&#x27;, handle_unknown=&#x27;ignore&#x27;)</pre></div></div></div></div></div></div><div class=\"sk-parallel-item\"><div class=\"sk-item\"><div class=\"sk-label-container\"><div class=\"sk-label sk-toggleable\"><input class=\"sk-toggleable__control sk-hidden--visually\" id=\"sk-estimator-id-21\" type=\"checkbox\" ><label for=\"sk-estimator-id-21\" class=\"sk-toggleable__label sk-toggleable__label-arrow\">remainder</label><div class=\"sk-toggleable__content\"><pre>[&#x27;title_avg_word_length&#x27;]</pre></div></div></div><div class=\"sk-serial\"><div class=\"sk-item\"><div class=\"sk-estimator sk-toggleable\"><input class=\"sk-toggleable__control sk-hidden--visually\" id=\"sk-estimator-id-22\" type=\"checkbox\" ><label for=\"sk-estimator-id-22\" class=\"sk-toggleable__label sk-toggleable__label-arrow\">passthrough</label><div class=\"sk-toggleable__content\"><pre>passthrough</pre></div></div></div></div></div></div></div></div><div class=\"sk-item\"><div class=\"sk-estimator sk-toggleable\"><input class=\"sk-toggleable__control sk-hidden--visually\" id=\"sk-estimator-id-23\" type=\"checkbox\" ><label for=\"sk-estimator-id-23\" class=\"sk-toggleable__label sk-toggleable__label-arrow\">MultinomialNB</label><div class=\"sk-toggleable__content\"><pre>MultinomialNB()</pre></div></div></div></div></div></div></div></div></div></div></div></div>"
      ],
      "text/plain": [
       "GridSearchCV(cv=5,\n",
       "             estimator=Pipeline(steps=[('tvecs',\n",
       "                                        ColumnTransformer(remainder='passthrough',\n",
       "                                                          transformers=[('title_vectorizer',\n",
       "                                                                         TfidfVectorizer(),\n",
       "                                                                         'title'),\n",
       "                                                                        ('url_content_vectorizer',\n",
       "                                                                         TfidfVectorizer(),\n",
       "                                                                         'url_content'),\n",
       "                                                                        ('domain_one_hot',\n",
       "                                                                         OneHotEncoder(drop='first',\n",
       "                                                                                       handle_unknown='ignore'),\n",
       "                                                                         ['url_domain'])])),\n",
       "                                       ('nb', MultinomialNB())]),\n",
       "             n_jobs=12,\n",
       "             param_grid=...\n",
       "                                                                  (1, 2),\n",
       "                                                                  (2, 2)],\n",
       "                         'tvecs__title_vectorizer__stop_words': [None,\n",
       "                                                                 'english'],\n",
       "                         'tvecs__url_content_vectorizer__binary': [False, True],\n",
       "                         'tvecs__url_content_vectorizer__max_df': [0.7, 0.8,\n",
       "                                                                   0.9, 0.95],\n",
       "                         'tvecs__url_content_vectorizer__min_df': [1, 2, 3],\n",
       "                         'tvecs__url_content_vectorizer__ngram_range': [(1, 1),\n",
       "                                                                        (1, 2),\n",
       "                                                                        (2, 2)],\n",
       "                         'tvecs__url_content_vectorizer__stop_words': [None,\n",
       "                                                                       'english']})"
      ]
     },
     "execution_count": 31,
     "metadata": {},
     "output_type": "execute_result"
    }
   ],
   "source": [
    "%%time\n",
    "gs.fit(X_train, y_train)"
   ]
  },
  {
   "cell_type": "code",
   "execution_count": 32,
   "id": "4fa67e61-8c5b-40ef-a097-4a1bb5915526",
   "metadata": {
    "tags": []
   },
   "outputs": [],
   "source": [
    "best_params = gs.best_params_"
   ]
  },
  {
   "cell_type": "code",
   "execution_count": 33,
   "id": "2e5b415e-a7ba-47f5-b554-34f0b3cb57c9",
   "metadata": {
    "tags": []
   },
   "outputs": [
    {
     "data": {
      "text/plain": [
       "{'tvecs__title_vectorizer__binary': False,\n",
       " 'tvecs__title_vectorizer__max_df': 0.7,\n",
       " 'tvecs__title_vectorizer__max_features': 3000,\n",
       " 'tvecs__title_vectorizer__min_df': 2,\n",
       " 'tvecs__title_vectorizer__ngram_range': (1, 2),\n",
       " 'tvecs__title_vectorizer__stop_words': 'english',\n",
       " 'tvecs__url_content_vectorizer__binary': False,\n",
       " 'tvecs__url_content_vectorizer__max_df': 0.7,\n",
       " 'tvecs__url_content_vectorizer__min_df': 3,\n",
       " 'tvecs__url_content_vectorizer__ngram_range': (2, 2),\n",
       " 'tvecs__url_content_vectorizer__stop_words': None}"
      ]
     },
     "execution_count": 33,
     "metadata": {},
     "output_type": "execute_result"
    }
   ],
   "source": [
    "best_params"
   ]
  },
  {
   "cell_type": "code",
   "execution_count": null,
   "id": "66397d28-d3b3-4288-8330-8477016dde33",
   "metadata": {},
   "outputs": [],
   "source": []
  },
  {
   "cell_type": "code",
   "execution_count": 34,
   "id": "2ee2cd2b-50c0-4d62-8d32-b002ac967238",
   "metadata": {
    "tags": []
   },
   "outputs": [
    {
     "data": {
      "text/plain": [
       "0.9598832968636032"
      ]
     },
     "execution_count": 34,
     "metadata": {},
     "output_type": "execute_result"
    }
   ],
   "source": [
    "gs.score(X_train, y_train)"
   ]
  },
  {
   "cell_type": "code",
   "execution_count": 35,
   "id": "e72c27a9-7749-43e3-aa61-7aa40a16590f",
   "metadata": {
    "tags": []
   },
   "outputs": [
    {
     "name": "stderr",
     "output_type": "stream",
     "text": [
      "C:\\Users\\mikem\\anaconda3\\Lib\\site-packages\\sklearn\\preprocessing\\_encoders.py:227: UserWarning: Found unknown categories in columns [0] during transform. These unknown categories will be encoded as all zeros\n",
      "  warnings.warn(\n"
     ]
    },
    {
     "data": {
      "text/plain": [
       "0.9354485776805251"
      ]
     },
     "execution_count": 35,
     "metadata": {},
     "output_type": "execute_result"
    }
   ],
   "source": [
    "gs.score(X_test, y_test)"
   ]
  },
  {
   "cell_type": "code",
   "execution_count": 328,
   "id": "1572c262-d28d-429d-9ca2-4f692f584832",
   "metadata": {
    "tags": []
   },
   "outputs": [
    {
     "name": "stderr",
     "output_type": "stream",
     "text": [
      "C:\\Users\\mikem\\anaconda3\\Lib\\site-packages\\sklearn\\preprocessing\\_encoders.py:227: UserWarning: Found unknown categories in columns [0] during transform. These unknown categories will be encoded as all zeros\n",
      "  warnings.warn(\n"
     ]
    }
   ],
   "source": [
    "y_preds = gs.predict(X_test)"
   ]
  },
  {
   "cell_type": "code",
   "execution_count": 329,
   "id": "97f8dc1c-8b84-49ee-ae50-d2533975273c",
   "metadata": {
    "tags": []
   },
   "outputs": [
    {
     "data": {
      "text/plain": [
       "array([[482,  14],\n",
       "       [ 28, 390]], dtype=int64)"
      ]
     },
     "execution_count": 329,
     "metadata": {},
     "output_type": "execute_result"
    }
   ],
   "source": [
    "confusion_matrix(y_test, y_preds)"
   ]
  },
  {
   "cell_type": "code",
   "execution_count": 330,
   "id": "f8583194-bce8-4e8b-bcb0-84c5821dbe2e",
   "metadata": {
    "tags": []
   },
   "outputs": [
    {
     "data": {
      "text/plain": [
       "{'cvecs__title_vectorizer__binary': True,\n",
       " 'cvecs__title_vectorizer__max_df': 0.7,\n",
       " 'cvecs__title_vectorizer__min_df': 1,\n",
       " 'cvecs__title_vectorizer__ngram_range': (1, 1),\n",
       " 'cvecs__title_vectorizer__stop_words': None,\n",
       " 'cvecs__url_content_vectorizer__binary': False,\n",
       " 'cvecs__url_content_vectorizer__max_df': 0.7,\n",
       " 'cvecs__url_content_vectorizer__min_df': 3,\n",
       " 'cvecs__url_content_vectorizer__ngram_range': (2, 2),\n",
       " 'cvecs__url_content_vectorizer__stop_words': 'english'}"
      ]
     },
     "execution_count": 330,
     "metadata": {},
     "output_type": "execute_result"
    }
   ],
   "source": [
    "gs.best_params_"
   ]
  },
  {
   "cell_type": "code",
   "execution_count": 265,
   "id": "0d3a2c48-e5af-4444-871e-fe6f521be45b",
   "metadata": {
    "tags": []
   },
   "outputs": [
    {
     "data": {
      "text/plain": [
       "0.5363785557986871"
      ]
     },
     "execution_count": 265,
     "metadata": {},
     "output_type": "execute_result"
    }
   ],
   "source": [
    "1 - y.mean()"
   ]
  },
  {
   "cell_type": "code",
   "execution_count": 331,
   "id": "77ba380c-ab49-4c18-8955-8fa337f70b27",
   "metadata": {
    "tags": []
   },
   "outputs": [
    {
     "name": "stderr",
     "output_type": "stream",
     "text": [
      "C:\\Users\\mikem\\anaconda3\\Lib\\site-packages\\sklearn\\preprocessing\\_encoders.py:227: UserWarning: Found unknown categories in columns [0] during transform. These unknown categories will be encoded as all zeros\n",
      "  warnings.warn(\n"
     ]
    },
    {
     "data": {
      "text/plain": [
       "<sklearn.metrics._plot.confusion_matrix.ConfusionMatrixDisplay at 0x23f199644d0>"
      ]
     },
     "execution_count": 331,
     "metadata": {},
     "output_type": "execute_result"
    },
    {
     "data": {
      "image/png": "[encoded data removed]",
      "text/plain": [
       "<Figure size 640x480 with 2 Axes>"
      ]
     },
     "metadata": {},
     "output_type": "display_data"
    }
   ],
   "source": [
    "ConfusionMatrixDisplay.from_estimator(gs, X_test, y_test, cmap = 'Blues')"
   ]
  },
  {
   "cell_type": "code",
   "execution_count": 332,
   "id": "cc05b722-834b-45de-b167-bef134885738",
   "metadata": {
    "tags": []
   },
   "outputs": [],
   "source": [
    "results = pd.DataFrame({\n",
    "    'actually Futurology' : y_test,\n",
    "    'predicted Futurology' : y_preds\n",
    "})"
   ]
  },
  {
   "cell_type": "code",
   "execution_count": 333,
   "id": "ad6378ec-d04a-4864-9e01-5577e4f33c70",
   "metadata": {
    "tags": []
   },
   "outputs": [],
   "source": [
    "false_positives = results[(results['actually Futurology'] == 0) & (results['predicted Futurology'] == 1)].index"
   ]
  },
  {
   "cell_type": "code",
   "execution_count": 335,
   "id": "cd010710-6453-456c-baff-2cf4908572e7",
   "metadata": {
    "tags": []
   },
   "outputs": [
    {
     "data": {
      "text/plain": [
       "Int64Index([3300, 1766, 2489, 1878, 1995, 3451, 2422, 2813, 1791, 1804, 2215,\n",
       "            3428, 3530, 2818],\n",
       "           dtype='int64')"
      ]
     },
     "execution_count": 335,
     "metadata": {},
     "output_type": "execute_result"
    }
   ],
   "source": [
    "false_positives"
   ]
  },
  {
   "cell_type": "code",
   "execution_count": 338,
   "id": "644afae3-f118-454b-a9e0-171cb43aca4a",
   "metadata": {
    "tags": []
   },
   "outputs": [
    {
     "data": {
      "text/html": [
       "<div>\n",
       "<style scoped>\n",
       "    .dataframe tbody tr th:only-of-type {\n",
       "        vertical-align: middle;\n",
       "    }\n",
       "\n",
       "    .dataframe tbody tr th {\n",
       "        vertical-align: top;\n",
       "    }\n",
       "\n",
       "    .dataframe thead th {\n",
       "        text-align: right;\n",
       "    }\n",
       "</style>\n",
       "<table border=\"1\" class=\"dataframe\">\n",
       "  <thead>\n",
       "    <tr style=\"text-align: right;\">\n",
       "      <th></th>\n",
       "      <th>id</th>\n",
       "      <th>type</th>\n",
       "      <th>title</th>\n",
       "      <th>self_text</th>\n",
       "      <th>subreddit</th>\n",
       "      <th>upvote_ratio</th>\n",
       "      <th>link_address</th>\n",
       "      <th>user</th>\n",
       "      <th>datetime</th>\n",
       "      <th>title_length_chars</th>\n",
       "      <th>title_length_words</th>\n",
       "      <th>title_avg_word_length</th>\n",
       "      <th>url_content</th>\n",
       "      <th>url_domain</th>\n",
       "      <th>external_link</th>\n",
       "    </tr>\n",
       "  </thead>\n",
       "  <tbody>\n",
       "    <tr>\n",
       "      <th>3300</th>\n",
       "      <td>mpeykb</td>\n",
       "      <td>top</td>\n",
       "      <td>In the 60s \"Astronaut happiness wasn’t a facto...</td>\n",
       "      <td>NA</td>\n",
       "      <td>0</td>\n",
       "      <td>0.97</td>\n",
       "      <td>https://www.supercluster.com/editorial/weekend...</td>\n",
       "      <td>EricFromOuterSpace</td>\n",
       "      <td>2021-04-12 10:25:35</td>\n",
       "      <td>300</td>\n",
       "      <td>52</td>\n",
       "      <td>5.769231</td>\n",
       "      <td>editorial weekends in space</td>\n",
       "      <td>supercluster.com</td>\n",
       "      <td>1</td>\n",
       "    </tr>\n",
       "    <tr>\n",
       "      <th>1766</th>\n",
       "      <td>178osme</td>\n",
       "      <td>hot</td>\n",
       "      <td>Ice 9</td>\n",
       "      <td>The end is near</td>\n",
       "      <td>0</td>\n",
       "      <td>0.79</td>\n",
       "      <td>https://www.sciencealert.com/strange-form-of-i...</td>\n",
       "      <td>SageCactus</td>\n",
       "      <td>2023-10-15 16:54:07</td>\n",
       "      <td>5</td>\n",
       "      <td>2</td>\n",
       "      <td>2.500000</td>\n",
       "      <td>strange form of ice found that only melts at e...</td>\n",
       "      <td>sciencealert.com</td>\n",
       "      <td>1</td>\n",
       "    </tr>\n",
       "    <tr>\n",
       "      <th>2489</th>\n",
       "      <td>16m2duk</td>\n",
       "      <td>hot</td>\n",
       "      <td>Future eyewear (@m0ds.lab instagram)</td>\n",
       "      <td>NA</td>\n",
       "      <td>0</td>\n",
       "      <td>0.59</td>\n",
       "      <td>https://i.redd.it/wy7p2re2z1pb1.jpg</td>\n",
       "      <td>l0siento</td>\n",
       "      <td>2023-09-18 13:56:43</td>\n",
       "      <td>36</td>\n",
       "      <td>4</td>\n",
       "      <td>9.000000</td>\n",
       "      <td>NA</td>\n",
       "      <td>NA</td>\n",
       "      <td>0</td>\n",
       "    </tr>\n",
       "    <tr>\n",
       "      <th>1878</th>\n",
       "      <td>1754v2f</td>\n",
       "      <td>hot</td>\n",
       "      <td>Some of Shinji Aramaki’s production sketch fro...</td>\n",
       "      <td>NA</td>\n",
       "      <td>0</td>\n",
       "      <td>0.90</td>\n",
       "      <td>https://www.reddit.com/gallery/1754v2f</td>\n",
       "      <td>Chr0mo_Color</td>\n",
       "      <td>2023-10-10 23:48:37</td>\n",
       "      <td>66</td>\n",
       "      <td>9</td>\n",
       "      <td>7.333333</td>\n",
       "      <td>NA</td>\n",
       "      <td>NA</td>\n",
       "      <td>0</td>\n",
       "    </tr>\n",
       "    <tr>\n",
       "      <th>1995</th>\n",
       "      <td>172q9e7</td>\n",
       "      <td>hot</td>\n",
       "      <td>High as the moon</td>\n",
       "      <td>This was inspired by you guys 🙏🏿</td>\n",
       "      <td>0</td>\n",
       "      <td>0.23</td>\n",
       "      <td>https://i.redd.it/kgxctwvlqwsb1.jpg</td>\n",
       "      <td>Dependent_Shelter599</td>\n",
       "      <td>2023-10-08 00:36:56</td>\n",
       "      <td>16</td>\n",
       "      <td>4</td>\n",
       "      <td>4.000000</td>\n",
       "      <td>NA</td>\n",
       "      <td>NA</td>\n",
       "      <td>0</td>\n",
       "    </tr>\n",
       "    <tr>\n",
       "      <th>3451</th>\n",
       "      <td>zu9paw</td>\n",
       "      <td>top</td>\n",
       "      <td>A cleric fight against a system he once defend...</td>\n",
       "      <td>NA</td>\n",
       "      <td>0</td>\n",
       "      <td>0.97</td>\n",
       "      <td>https://v.redd.it/ta6xtev61w7a1</td>\n",
       "      <td>WildDog3000</td>\n",
       "      <td>2022-12-24 08:20:13</td>\n",
       "      <td>114</td>\n",
       "      <td>18</td>\n",
       "      <td>6.333333</td>\n",
       "      <td>ta6xtev61w7a1</td>\n",
       "      <td>v.redd.it</td>\n",
       "      <td>1</td>\n",
       "    </tr>\n",
       "    <tr>\n",
       "      <th>2422</th>\n",
       "      <td>16nno9q</td>\n",
       "      <td>hot</td>\n",
       "      <td>How to cause a global dark age?</td>\n",
       "      <td>Pretty simple question, I wanna make a dystopi...</td>\n",
       "      <td>0</td>\n",
       "      <td>0.83</td>\n",
       "      <td>https://www.reddit.com/r/scifi/comments/16nno9...</td>\n",
       "      <td>GuestOk583</td>\n",
       "      <td>2023-09-20 11:08:38</td>\n",
       "      <td>31</td>\n",
       "      <td>7</td>\n",
       "      <td>4.428571</td>\n",
       "      <td>NA</td>\n",
       "      <td>NA</td>\n",
       "      <td>0</td>\n",
       "    </tr>\n",
       "    <tr>\n",
       "      <th>2813</th>\n",
       "      <td>zy34ug</td>\n",
       "      <td>top</td>\n",
       "      <td>Why don't Na'vi have four arms, four eyes, two...</td>\n",
       "      <td>NA</td>\n",
       "      <td>0</td>\n",
       "      <td>0.91</td>\n",
       "      <td>https://i.redd.it/fird66vtnt8a1.png</td>\n",
       "      <td>Aetius_Flavius</td>\n",
       "      <td>2022-12-29 06:26:08</td>\n",
       "      <td>129</td>\n",
       "      <td>24</td>\n",
       "      <td>5.375000</td>\n",
       "      <td>NA</td>\n",
       "      <td>NA</td>\n",
       "      <td>0</td>\n",
       "    </tr>\n",
       "    <tr>\n",
       "      <th>1791</th>\n",
       "      <td>178i6oz</td>\n",
       "      <td>hot</td>\n",
       "      <td>If you be to get executed. Would you rather ge...</td>\n",
       "      <td>\\n\\n[View Poll](https://www.reddit.com/poll/17...</td>\n",
       "      <td>0</td>\n",
       "      <td>0.33</td>\n",
       "      <td>https://www.reddit.com/r/scifi/comments/178i6o...</td>\n",
       "      <td>dogtron64</td>\n",
       "      <td>2023-10-15 11:46:40</td>\n",
       "      <td>118</td>\n",
       "      <td>24</td>\n",
       "      <td>4.916667</td>\n",
       "      <td>NA</td>\n",
       "      <td>NA</td>\n",
       "      <td>0</td>\n",
       "    </tr>\n",
       "    <tr>\n",
       "      <th>1804</th>\n",
       "      <td>177s5ew</td>\n",
       "      <td>hot</td>\n",
       "      <td>LIVE coverage from NASA of the Solar Ecliipse ...</td>\n",
       "      <td>NA</td>\n",
       "      <td>0</td>\n",
       "      <td>0.63</td>\n",
       "      <td>https://www.youtube.com/watch?v=LlY79zjud-Q</td>\n",
       "      <td>badaimbadjokes</td>\n",
       "      <td>2023-10-14 11:32:32</td>\n",
       "      <td>73</td>\n",
       "      <td>13</td>\n",
       "      <td>5.615385</td>\n",
       "      <td>watch v=LlY79zjud Q</td>\n",
       "      <td>youtube.com</td>\n",
       "      <td>1</td>\n",
       "    </tr>\n",
       "    <tr>\n",
       "      <th>2215</th>\n",
       "      <td>16v4afs</td>\n",
       "      <td>hot</td>\n",
       "      <td>Researcher Human Eya 227L from Military / Scie...</td>\n",
       "      <td>NA</td>\n",
       "      <td>0</td>\n",
       "      <td>0.17</td>\n",
       "      <td>https://www.deviantart.com/varg-rossoya/art/Fo...</td>\n",
       "      <td>VadimErmolaev</td>\n",
       "      <td>2023-09-29 02:44:41</td>\n",
       "      <td>179</td>\n",
       "      <td>25</td>\n",
       "      <td>7.160000</td>\n",
       "      <td>varg rossoya art Forsker Menneskelig Eya 227L ...</td>\n",
       "      <td>deviantart.com</td>\n",
       "      <td>1</td>\n",
       "    </tr>\n",
       "    <tr>\n",
       "      <th>3428</th>\n",
       "      <td>iq4r91</td>\n",
       "      <td>top</td>\n",
       "      <td>The world’s large collection of Space Age arti...</td>\n",
       "      <td>NA</td>\n",
       "      <td>0</td>\n",
       "      <td>0.97</td>\n",
       "      <td>https://www.supercluster.com/editorial/the-spa...</td>\n",
       "      <td>EricFromOuterSpace</td>\n",
       "      <td>2020-09-10 10:49:47</td>\n",
       "      <td>271</td>\n",
       "      <td>45</td>\n",
       "      <td>6.022222</td>\n",
       "      <td>editorial the space age museum</td>\n",
       "      <td>supercluster.com</td>\n",
       "      <td>1</td>\n",
       "    </tr>\n",
       "    <tr>\n",
       "      <th>3530</th>\n",
       "      <td>7ydz67</td>\n",
       "      <td>top</td>\n",
       "      <td>Earthlings likely to welcome alien life rather...</td>\n",
       "      <td>NA</td>\n",
       "      <td>0</td>\n",
       "      <td>0.94</td>\n",
       "      <td>https://www.theguardian.com/science/2018/feb/1...</td>\n",
       "      <td>anutensil</td>\n",
       "      <td>2018-02-18 07:35:04</td>\n",
       "      <td>214</td>\n",
       "      <td>32</td>\n",
       "      <td>6.687500</td>\n",
       "      <td>science 2018 feb 16 earthlings likely to welco...</td>\n",
       "      <td>theguardian.com</td>\n",
       "      <td>1</td>\n",
       "    </tr>\n",
       "    <tr>\n",
       "      <th>2818</th>\n",
       "      <td>10h82k5</td>\n",
       "      <td>top</td>\n",
       "      <td>An Engineer at a mining outpost on the far sid...</td>\n",
       "      <td>NA</td>\n",
       "      <td>0</td>\n",
       "      <td>0.96</td>\n",
       "      <td>https://i.redd.it/lh1wxzh0c9da1.png</td>\n",
       "      <td>jesterhead101</td>\n",
       "      <td>2023-01-20 16:02:45</td>\n",
       "      <td>292</td>\n",
       "      <td>56</td>\n",
       "      <td>5.214286</td>\n",
       "      <td>NA</td>\n",
       "      <td>NA</td>\n",
       "      <td>0</td>\n",
       "    </tr>\n",
       "  </tbody>\n",
       "</table>\n",
       "</div>"
      ],
      "text/plain": [
       "           id type                                              title  \\\n",
       "3300   mpeykb  top  In the 60s \"Astronaut happiness wasn’t a facto...   \n",
       "1766  178osme  hot                                              Ice 9   \n",
       "2489  16m2duk  hot               Future eyewear (@m0ds.lab instagram)   \n",
       "1878  1754v2f  hot  Some of Shinji Aramaki’s production sketch fro...   \n",
       "1995  172q9e7  hot                                   High as the moon   \n",
       "3451   zu9paw  top  A cleric fight against a system he once defend...   \n",
       "2422  16nno9q  hot                    How to cause a global dark age?   \n",
       "2813   zy34ug  top  Why don't Na'vi have four arms, four eyes, two...   \n",
       "1791  178i6oz  hot  If you be to get executed. Would you rather ge...   \n",
       "1804  177s5ew  hot  LIVE coverage from NASA of the Solar Ecliipse ...   \n",
       "2215  16v4afs  hot  Researcher Human Eya 227L from Military / Scie...   \n",
       "3428   iq4r91  top  The world’s large collection of Space Age arti...   \n",
       "3530   7ydz67  top  Earthlings likely to welcome alien life rather...   \n",
       "2818  10h82k5  top  An Engineer at a mining outpost on the far sid...   \n",
       "\n",
       "                                              self_text  subreddit  \\\n",
       "3300                                                 NA          0   \n",
       "1766                                    The end is near          0   \n",
       "2489                                                 NA          0   \n",
       "1878                                                 NA          0   \n",
       "1995                   This was inspired by you guys 🙏🏿          0   \n",
       "3451                                                 NA          0   \n",
       "2422  Pretty simple question, I wanna make a dystopi...          0   \n",
       "2813                                                 NA          0   \n",
       "1791  \\n\\n[View Poll](https://www.reddit.com/poll/17...          0   \n",
       "1804                                                 NA          0   \n",
       "2215                                                 NA          0   \n",
       "3428                                                 NA          0   \n",
       "3530                                                 NA          0   \n",
       "2818                                                 NA          0   \n",
       "\n",
       "      upvote_ratio                                       link_address  \\\n",
       "3300          0.97  https://www.supercluster.com/editorial/weekend...   \n",
       "1766          0.79  https://www.sciencealert.com/strange-form-of-i...   \n",
       "2489          0.59                https://i.redd.it/wy7p2re2z1pb1.jpg   \n",
       "1878          0.90             https://www.reddit.com/gallery/1754v2f   \n",
       "1995          0.23                https://i.redd.it/kgxctwvlqwsb1.jpg   \n",
       "3451          0.97                    https://v.redd.it/ta6xtev61w7a1   \n",
       "2422          0.83  https://www.reddit.com/r/scifi/comments/16nno9...   \n",
       "2813          0.91                https://i.redd.it/fird66vtnt8a1.png   \n",
       "1791          0.33  https://www.reddit.com/r/scifi/comments/178i6o...   \n",
       "1804          0.63        https://www.youtube.com/watch?v=LlY79zjud-Q   \n",
       "2215          0.17  https://www.deviantart.com/varg-rossoya/art/Fo...   \n",
       "3428          0.97  https://www.supercluster.com/editorial/the-spa...   \n",
       "3530          0.94  https://www.theguardian.com/science/2018/feb/1...   \n",
       "2818          0.96                https://i.redd.it/lh1wxzh0c9da1.png   \n",
       "\n",
       "                      user             datetime  title_length_chars  \\\n",
       "3300    EricFromOuterSpace  2021-04-12 10:25:35                 300   \n",
       "1766            SageCactus  2023-10-15 16:54:07                   5   \n",
       "2489              l0siento  2023-09-18 13:56:43                  36   \n",
       "1878          Chr0mo_Color  2023-10-10 23:48:37                  66   \n",
       "1995  Dependent_Shelter599  2023-10-08 00:36:56                  16   \n",
       "3451           WildDog3000  2022-12-24 08:20:13                 114   \n",
       "2422            GuestOk583  2023-09-20 11:08:38                  31   \n",
       "2813        Aetius_Flavius  2022-12-29 06:26:08                 129   \n",
       "1791             dogtron64  2023-10-15 11:46:40                 118   \n",
       "1804        badaimbadjokes  2023-10-14 11:32:32                  73   \n",
       "2215         VadimErmolaev  2023-09-29 02:44:41                 179   \n",
       "3428    EricFromOuterSpace  2020-09-10 10:49:47                 271   \n",
       "3530             anutensil  2018-02-18 07:35:04                 214   \n",
       "2818         jesterhead101  2023-01-20 16:02:45                 292   \n",
       "\n",
       "      title_length_words  title_avg_word_length  \\\n",
       "3300                  52               5.769231   \n",
       "1766                   2               2.500000   \n",
       "2489                   4               9.000000   \n",
       "1878                   9               7.333333   \n",
       "1995                   4               4.000000   \n",
       "3451                  18               6.333333   \n",
       "2422                   7               4.428571   \n",
       "2813                  24               5.375000   \n",
       "1791                  24               4.916667   \n",
       "1804                  13               5.615385   \n",
       "2215                  25               7.160000   \n",
       "3428                  45               6.022222   \n",
       "3530                  32               6.687500   \n",
       "2818                  56               5.214286   \n",
       "\n",
       "                                            url_content        url_domain  \\\n",
       "3300                        editorial weekends in space  supercluster.com   \n",
       "1766  strange form of ice found that only melts at e...  sciencealert.com   \n",
       "2489                                                 NA                NA   \n",
       "1878                                                 NA                NA   \n",
       "1995                                                 NA                NA   \n",
       "3451                                      ta6xtev61w7a1         v.redd.it   \n",
       "2422                                                 NA                NA   \n",
       "2813                                                 NA                NA   \n",
       "1791                                                 NA                NA   \n",
       "1804                                watch v=LlY79zjud Q       youtube.com   \n",
       "2215  varg rossoya art Forsker Menneskelig Eya 227L ...    deviantart.com   \n",
       "3428                     editorial the space age museum  supercluster.com   \n",
       "3530  science 2018 feb 16 earthlings likely to welco...   theguardian.com   \n",
       "2818                                                 NA                NA   \n",
       "\n",
       "      external_link  \n",
       "3300              1  \n",
       "1766              1  \n",
       "2489              0  \n",
       "1878              0  \n",
       "1995              0  \n",
       "3451              1  \n",
       "2422              0  \n",
       "2813              0  \n",
       "1791              0  \n",
       "1804              1  \n",
       "2215              1  \n",
       "3428              1  \n",
       "3530              1  \n",
       "2818              0  "
      ]
     },
     "execution_count": 338,
     "metadata": {},
     "output_type": "execute_result"
    }
   ],
   "source": [
    "reddit_data_df.iloc[false_positives, :]"
   ]
  },
  {
   "cell_type": "code",
   "execution_count": 275,
   "id": "7763794a-5131-4f95-81fd-61f0cdaf06fe",
   "metadata": {
    "tags": []
   },
   "outputs": [
    {
     "data": {
      "text/html": [
       "<div>\n",
       "<style scoped>\n",
       "    .dataframe tbody tr th:only-of-type {\n",
       "        vertical-align: middle;\n",
       "    }\n",
       "\n",
       "    .dataframe tbody tr th {\n",
       "        vertical-align: top;\n",
       "    }\n",
       "\n",
       "    .dataframe thead th {\n",
       "        text-align: right;\n",
       "    }\n",
       "</style>\n",
       "<table border=\"1\" class=\"dataframe\">\n",
       "  <thead>\n",
       "    <tr style=\"text-align: right;\">\n",
       "      <th></th>\n",
       "      <th>actually Futurology</th>\n",
       "      <th>predicted Futurology</th>\n",
       "    </tr>\n",
       "    <tr>\n",
       "      <th>id</th>\n",
       "      <th></th>\n",
       "      <th></th>\n",
       "    </tr>\n",
       "  </thead>\n",
       "  <tbody>\n",
       "    <tr>\n",
       "      <th>mpeykb</th>\n",
       "      <td>0</td>\n",
       "      <td>1</td>\n",
       "    </tr>\n",
       "    <tr>\n",
       "      <th>166gns0</th>\n",
       "      <td>1</td>\n",
       "      <td>0</td>\n",
       "    </tr>\n",
       "    <tr>\n",
       "      <th>15qqpot</th>\n",
       "      <td>1</td>\n",
       "      <td>0</td>\n",
       "    </tr>\n",
       "    <tr>\n",
       "      <th>16i563y</th>\n",
       "      <td>1</td>\n",
       "      <td>0</td>\n",
       "    </tr>\n",
       "    <tr>\n",
       "      <th>15uiq28</th>\n",
       "      <td>1</td>\n",
       "      <td>0</td>\n",
       "    </tr>\n",
       "    <tr>\n",
       "      <th>16ar3u8</th>\n",
       "      <td>1</td>\n",
       "      <td>0</td>\n",
       "    </tr>\n",
       "    <tr>\n",
       "      <th>178osme</th>\n",
       "      <td>0</td>\n",
       "      <td>1</td>\n",
       "    </tr>\n",
       "    <tr>\n",
       "      <th>16m2duk</th>\n",
       "      <td>0</td>\n",
       "      <td>1</td>\n",
       "    </tr>\n",
       "    <tr>\n",
       "      <th>165yzac</th>\n",
       "      <td>1</td>\n",
       "      <td>0</td>\n",
       "    </tr>\n",
       "    <tr>\n",
       "      <th>mk7aiq</th>\n",
       "      <td>1</td>\n",
       "      <td>0</td>\n",
       "    </tr>\n",
       "    <tr>\n",
       "      <th>16z2dgk</th>\n",
       "      <td>1</td>\n",
       "      <td>0</td>\n",
       "    </tr>\n",
       "    <tr>\n",
       "      <th>172q9e7</th>\n",
       "      <td>0</td>\n",
       "      <td>1</td>\n",
       "    </tr>\n",
       "    <tr>\n",
       "      <th>16ffv8x</th>\n",
       "      <td>1</td>\n",
       "      <td>0</td>\n",
       "    </tr>\n",
       "    <tr>\n",
       "      <th>zu9paw</th>\n",
       "      <td>0</td>\n",
       "      <td>1</td>\n",
       "    </tr>\n",
       "    <tr>\n",
       "      <th>15wi75l</th>\n",
       "      <td>1</td>\n",
       "      <td>0</td>\n",
       "    </tr>\n",
       "    <tr>\n",
       "      <th>16rlj3m</th>\n",
       "      <td>1</td>\n",
       "      <td>0</td>\n",
       "    </tr>\n",
       "    <tr>\n",
       "      <th>16aya0y</th>\n",
       "      <td>1</td>\n",
       "      <td>0</td>\n",
       "    </tr>\n",
       "    <tr>\n",
       "      <th>16nno9q</th>\n",
       "      <td>0</td>\n",
       "      <td>1</td>\n",
       "    </tr>\n",
       "    <tr>\n",
       "      <th>16phs6a</th>\n",
       "      <td>1</td>\n",
       "      <td>0</td>\n",
       "    </tr>\n",
       "    <tr>\n",
       "      <th>zy34ug</th>\n",
       "      <td>0</td>\n",
       "      <td>1</td>\n",
       "    </tr>\n",
       "    <tr>\n",
       "      <th>15r9p43</th>\n",
       "      <td>1</td>\n",
       "      <td>0</td>\n",
       "    </tr>\n",
       "    <tr>\n",
       "      <th>178f5u2</th>\n",
       "      <td>1</td>\n",
       "      <td>0</td>\n",
       "    </tr>\n",
       "    <tr>\n",
       "      <th>16rrp37</th>\n",
       "      <td>1</td>\n",
       "      <td>0</td>\n",
       "    </tr>\n",
       "    <tr>\n",
       "      <th>16ehq5w</th>\n",
       "      <td>1</td>\n",
       "      <td>0</td>\n",
       "    </tr>\n",
       "    <tr>\n",
       "      <th>16bivxg</th>\n",
       "      <td>1</td>\n",
       "      <td>0</td>\n",
       "    </tr>\n",
       "    <tr>\n",
       "      <th>16actyw</th>\n",
       "      <td>1</td>\n",
       "      <td>0</td>\n",
       "    </tr>\n",
       "    <tr>\n",
       "      <th>178i6oz</th>\n",
       "      <td>0</td>\n",
       "      <td>1</td>\n",
       "    </tr>\n",
       "    <tr>\n",
       "      <th>16k74gp</th>\n",
       "      <td>1</td>\n",
       "      <td>0</td>\n",
       "    </tr>\n",
       "    <tr>\n",
       "      <th>177s5ew</th>\n",
       "      <td>0</td>\n",
       "      <td>1</td>\n",
       "    </tr>\n",
       "    <tr>\n",
       "      <th>16kzlhd</th>\n",
       "      <td>1</td>\n",
       "      <td>0</td>\n",
       "    </tr>\n",
       "    <tr>\n",
       "      <th>15wv0kj</th>\n",
       "      <td>1</td>\n",
       "      <td>0</td>\n",
       "    </tr>\n",
       "    <tr>\n",
       "      <th>16kc5r8</th>\n",
       "      <td>1</td>\n",
       "      <td>0</td>\n",
       "    </tr>\n",
       "    <tr>\n",
       "      <th>16v4afs</th>\n",
       "      <td>0</td>\n",
       "      <td>1</td>\n",
       "    </tr>\n",
       "    <tr>\n",
       "      <th>16mwkpd</th>\n",
       "      <td>1</td>\n",
       "      <td>0</td>\n",
       "    </tr>\n",
       "    <tr>\n",
       "      <th>1776zqj</th>\n",
       "      <td>1</td>\n",
       "      <td>0</td>\n",
       "    </tr>\n",
       "    <tr>\n",
       "      <th>iq4r91</th>\n",
       "      <td>0</td>\n",
       "      <td>1</td>\n",
       "    </tr>\n",
       "    <tr>\n",
       "      <th>7ydz67</th>\n",
       "      <td>0</td>\n",
       "      <td>1</td>\n",
       "    </tr>\n",
       "    <tr>\n",
       "      <th>16cn4fb</th>\n",
       "      <td>1</td>\n",
       "      <td>0</td>\n",
       "    </tr>\n",
       "    <tr>\n",
       "      <th>cuzm9i</th>\n",
       "      <td>1</td>\n",
       "      <td>0</td>\n",
       "    </tr>\n",
       "    <tr>\n",
       "      <th>10h82k5</th>\n",
       "      <td>0</td>\n",
       "      <td>1</td>\n",
       "    </tr>\n",
       "  </tbody>\n",
       "</table>\n",
       "</div>"
      ],
      "text/plain": [
       "         actually Futurology  predicted Futurology\n",
       "id                                                \n",
       "mpeykb                     0                     1\n",
       "166gns0                    1                     0\n",
       "15qqpot                    1                     0\n",
       "16i563y                    1                     0\n",
       "15uiq28                    1                     0\n",
       "16ar3u8                    1                     0\n",
       "178osme                    0                     1\n",
       "16m2duk                    0                     1\n",
       "165yzac                    1                     0\n",
       "mk7aiq                     1                     0\n",
       "16z2dgk                    1                     0\n",
       "172q9e7                    0                     1\n",
       "16ffv8x                    1                     0\n",
       "zu9paw                     0                     1\n",
       "15wi75l                    1                     0\n",
       "16rlj3m                    1                     0\n",
       "16aya0y                    1                     0\n",
       "16nno9q                    0                     1\n",
       "16phs6a                    1                     0\n",
       "zy34ug                     0                     1\n",
       "15r9p43                    1                     0\n",
       "178f5u2                    1                     0\n",
       "16rrp37                    1                     0\n",
       "16ehq5w                    1                     0\n",
       "16bivxg                    1                     0\n",
       "16actyw                    1                     0\n",
       "178i6oz                    0                     1\n",
       "16k74gp                    1                     0\n",
       "177s5ew                    0                     1\n",
       "16kzlhd                    1                     0\n",
       "15wv0kj                    1                     0\n",
       "16kc5r8                    1                     0\n",
       "16v4afs                    0                     1\n",
       "16mwkpd                    1                     0\n",
       "1776zqj                    1                     0\n",
       "iq4r91                     0                     1\n",
       "7ydz67                     0                     1\n",
       "16cn4fb                    1                     0\n",
       "cuzm9i                     1                     0\n",
       "10h82k5                    0                     1"
      ]
     },
     "execution_count": 275,
     "metadata": {},
     "output_type": "execute_result"
    }
   ],
   "source": [
    "results[results['actually Futurology'] != results['predicted Futurology']]"
   ]
  },
  {
   "cell_type": "code",
   "execution_count": null,
   "id": "91285b4b-9769-4e84-a822-1245f9c2fd1d",
   "metadata": {},
   "outputs": [],
   "source": []
  },
  {
   "cell_type": "code",
   "execution_count": null,
   "id": "f8dc6713-cd3a-4f61-a87b-ceb5a957bcc2",
   "metadata": {},
   "outputs": [],
   "source": []
  }
 ],
 "metadata": {
  "kernelspec": {
   "display_name": "Python 3 (ipykernel)",
   "language": "python",
   "name": "python3"
  },
  "language_info": {
   "codemirror_mode": {
    "name": "ipython",
    "version": 3
   },
   "file_extension": ".py",
   "mimetype": "text/x-python",
   "name": "python",
   "nbconvert_exporter": "python",
   "pygments_lexer": "ipython3",
   "version": "3.11.4"
  }
 },
 "nbformat": 4,
 "nbformat_minor": 5
}
