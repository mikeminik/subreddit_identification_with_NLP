{
 "cells": [
  {
   "cell_type": "code",
   "execution_count": 222,
   "id": "f8605919-f2d5-4c6b-9205-d89bbcdc7a06",
   "metadata": {
    "tags": []
   },
   "outputs": [],
   "source": [
    "import pandas as pd\n",
    "import numpy as np\n",
    "import matplotlib.pyplot as plt\n",
    "\n",
    "\n",
    "import nltk\n",
    "from nltk.tokenize import sent_tokenize, word_tokenize, RegexpTokenizer\n",
    "from nltk.stem import PorterStemmer, WordNetLemmatizer\n",
    "from nltk.corpus import stopwords, wordnet\n",
    "\n",
    "from sklearn.feature_extraction.text import CountVectorizer, TfidfVectorizer\n",
    "from sklearn.compose import ColumnTransformer\n",
    "from sklearn.pipeline import Pipeline\n",
    "from sklearn.model_selection import GridSearchCV, RandomizedSearchCV\n",
    "from sklearn.naive_bayes import MultinomialNB\n",
    "from sklearn.model_selection import train_test_split\n",
    "from sklearn.preprocessing import OneHotEncoder\n",
    "from sklearn.metrics import confusion_matrix, ConfusionMatrixDisplay, recall_score\n",
    "from sklearn.ensemble import RandomForestClassifier, ExtraTreesClassifier\n",
    "from sklearn.svm import SVC"
   ]
  },
  {
   "cell_type": "code",
   "execution_count": 223,
   "id": "56987e45-7fe6-40b8-8142-a0bcd24973e5",
   "metadata": {
    "tags": []
   },
   "outputs": [],
   "source": [
    "pd.set_option('display.max_colwidth', None)"
   ]
  },
  {
   "cell_type": "code",
   "execution_count": 224,
   "id": "8722d4e0-5f85-462d-8c7d-15977d0e3840",
   "metadata": {
    "tags": []
   },
   "outputs": [],
   "source": [
    "reddit_data_df = pd.read_csv('../datasets/reddit_data_engineered.csv')"
   ]
  },
  {
   "cell_type": "code",
   "execution_count": 225,
   "id": "7cef1621-161c-47bb-8ee9-083c6054f9c3",
   "metadata": {
    "tags": []
   },
   "outputs": [],
   "source": [
    "# reddit_data_df.set_index('id', inplace = True)"
   ]
  },
  {
   "cell_type": "code",
   "execution_count": 226,
   "id": "85a1b5f2-de9a-4c05-a38e-7a35b948a190",
   "metadata": {
    "tags": []
   },
   "outputs": [],
   "source": [
    "\n",
    "wn = WordNetLemmatizer()"
   ]
  },
  {
   "cell_type": "code",
   "execution_count": 227,
   "id": "481938b3-88ef-4774-9816-ac2ea4cf65da",
   "metadata": {
    "tags": []
   },
   "outputs": [],
   "source": [
    "## custom Tim funcion for mapping nltk POS_TAG for wordnet lemmatizing\n",
    "def custom_lemmatize(word, tag):\n",
    "    mapper = {\n",
    "        'J': wordnet.ADJ,\n",
    "        'V': wordnet.VERB,\n",
    "        'N': wordnet.NOUN,\n",
    "        'R': wordnet.ADV\n",
    "    }\n",
    "    pos = mapper.get(tag[0])\n",
    "    \n",
    "    return wn.lemmatize(word, pos) if pos else word"
   ]
  },
  {
   "cell_type": "markdown",
   "id": "7063776c-5387-4bf3-b1ae-f04621498dad",
   "metadata": {},
   "source": [
    "### Stem"
   ]
  },
  {
   "cell_type": "code",
   "execution_count": 228,
   "id": "879255f6-1701-4113-a9e0-a0baf540d904",
   "metadata": {
    "tags": []
   },
   "outputs": [],
   "source": [
    "# reddit_data_df['title'].apply(lambda title: [ps.stem(word) for word in title.split()])"
   ]
  },
  {
   "cell_type": "code",
   "execution_count": null,
   "id": "8cbeb2f2-2901-4080-acf0-cc21c01ca0db",
   "metadata": {
    "tags": []
   },
   "outputs": [],
   "source": []
  },
  {
   "cell_type": "markdown",
   "id": "e183b8c2-b87c-4cd3-8fd2-27c7ac5781fc",
   "metadata": {},
   "source": [
    "### Lemmatize"
   ]
  },
  {
   "cell_type": "code",
   "execution_count": null,
   "id": "4ec087d4-522c-46a9-8e8c-daf1ff6f222b",
   "metadata": {
    "tags": []
   },
   "outputs": [],
   "source": []
  },
  {
   "cell_type": "code",
   "execution_count": 229,
   "id": "7b103ceb-ca05-4c5b-9b4a-e4989a35f867",
   "metadata": {
    "tags": []
   },
   "outputs": [],
   "source": [
    "reddit_data_df['title'] = reddit_data_df['title'].apply(lambda title : ' '.join([custom_lemmatize(word,tag) for word, tag in nltk.pos_tag(title.split())]))"
   ]
  },
  {
   "cell_type": "code",
   "execution_count": 230,
   "id": "89b1b8e7-a891-419c-aaa8-15e146c58bf4",
   "metadata": {},
   "outputs": [],
   "source": [
    "# reddit_data_df['url_content_lem'] = reddit_data_df['url_content'].apply(lambda content : ' '.join([custom_lemmatize(word,tag) for word, tag in nltk.pos_tag(content.split())]))"
   ]
  },
  {
   "cell_type": "code",
   "execution_count": 231,
   "id": "f53e0822-0c9c-4b64-b078-84d2c254c948",
   "metadata": {
    "tags": []
   },
   "outputs": [],
   "source": [
    "reddit_data_df['subreddit'] = reddit_data_df['subreddit'].str.contains('Futurology').astype(int)"
   ]
  },
  {
   "cell_type": "code",
   "execution_count": 232,
   "id": "90b11363-ec85-4f5c-a34b-3290cb7a642d",
   "metadata": {
    "tags": []
   },
   "outputs": [],
   "source": [
    "reddit_data_df.fillna('NA', inplace = True)"
   ]
  },
  {
   "cell_type": "code",
   "execution_count": 233,
   "id": "68cb5473-1a2d-43a4-ae31-c2fc91f83d89",
   "metadata": {
    "tags": []
   },
   "outputs": [
    {
     "data": {
      "text/plain": [
       "id                       0\n",
       "type                     0\n",
       "title                    0\n",
       "self_text                0\n",
       "subreddit                0\n",
       "upvote_ratio             0\n",
       "link_address             0\n",
       "user                     0\n",
       "datetime                 0\n",
       "title_length_chars       0\n",
       "title_length_words       0\n",
       "title_avg_word_length    0\n",
       "url_content              0\n",
       "url_domain               0\n",
       "external_link            0\n",
       "dtype: int64"
      ]
     },
     "execution_count": 233,
     "metadata": {},
     "output_type": "execute_result"
    }
   ],
   "source": [
    "reddit_data_df.isnull().sum()"
   ]
  },
  {
   "cell_type": "code",
   "execution_count": 234,
   "id": "4e797b2b-b9e9-4485-972b-f4a61f681806",
   "metadata": {
    "tags": []
   },
   "outputs": [],
   "source": [
    "#reddit_data_df.to_csv('../datasets/reddit_data_model_ready.csv')"
   ]
  },
  {
   "cell_type": "markdown",
   "id": "59f22633-eb7b-475f-ab84-19052f770da9",
   "metadata": {},
   "source": [
    "### Train test split"
   ]
  },
  {
   "cell_type": "code",
   "execution_count": 106,
   "id": "070e3276-f743-4963-9add-5ac098d33102",
   "metadata": {
    "tags": []
   },
   "outputs": [
    {
     "data": {
      "text/plain": [
       "(3656, 3)"
      ]
     },
     "execution_count": 106,
     "metadata": {},
     "output_type": "execute_result"
    }
   ],
   "source": [
    "X = reddit_data_df.loc[: , ['title', 'url_content', 'url_domain']]\n",
    "X.shape"
   ]
  },
  {
   "cell_type": "code",
   "execution_count": 14,
   "id": "b270f27c-bac5-4aee-b2f6-98e62a5f01fd",
   "metadata": {
    "tags": []
   },
   "outputs": [],
   "source": [
    "# X = reddit_data_df['title']"
   ]
  },
  {
   "cell_type": "code",
   "execution_count": 15,
   "id": "b9825dbc-cf74-401b-9444-720faeb479fe",
   "metadata": {
    "tags": []
   },
   "outputs": [],
   "source": [
    "y = reddit_data_df['subreddit']"
   ]
  },
  {
   "cell_type": "code",
   "execution_count": 107,
   "id": "06f9d5e7-ef0c-4e9e-9e02-1b2a22cf22dd",
   "metadata": {
    "tags": []
   },
   "outputs": [],
   "source": [
    "X_train, X_test, y_train, y_test = train_test_split(X, y, random_state=2023)"
   ]
  },
  {
   "cell_type": "code",
   "execution_count": 108,
   "id": "60b17b5f-7313-4da8-a6f6-9c1e5d44377a",
   "metadata": {
    "tags": []
   },
   "outputs": [
    {
     "data": {
      "text/plain": [
       "(2742, 3)"
      ]
     },
     "execution_count": 108,
     "metadata": {},
     "output_type": "execute_result"
    }
   ],
   "source": [
    "X_train.shape"
   ]
  },
  {
   "cell_type": "code",
   "execution_count": 109,
   "id": "b8234b22-70ed-42eb-a43a-33f26095bd66",
   "metadata": {
    "tags": []
   },
   "outputs": [
    {
     "data": {
      "text/plain": [
       "(2742,)"
      ]
     },
     "execution_count": 109,
     "metadata": {},
     "output_type": "execute_result"
    }
   ],
   "source": [
    "y_train.shape"
   ]
  },
  {
   "cell_type": "code",
   "execution_count": null,
   "id": "8017888c-68dc-410b-9775-90bf7d6372c6",
   "metadata": {
    "tags": []
   },
   "outputs": [],
   "source": [
    "\n"
   ]
  },
  {
   "cell_type": "markdown",
   "id": "dd87ebf2-f71e-41b7-9a16-51037c654223",
   "metadata": {},
   "source": [
    "## Model 1 - Naive Bayes with Count Vectorizers"
   ]
  },
  {
   "cell_type": "code",
   "execution_count": null,
   "id": "e8c5a75d-d4f9-4b69-a825-608b00334f89",
   "metadata": {},
   "outputs": [],
   "source": []
  },
  {
   "cell_type": "code",
   "execution_count": 199,
   "id": "982b22fd-4333-4f22-a8e6-60cdbe7a1231",
   "metadata": {
    "tags": []
   },
   "outputs": [],
   "source": [
    "transformers = [\n",
    "    ('title_vectorizer', CountVectorizer(binary= True, max_df = 0.9, min_df= 1, ngram_range=(1,1), stop_words=None), 'title'),\n",
    "    ('url_content_vectorizer', CountVectorizer(binary = False, max_df=0.9, min_df=2, ngram_range=(2,2), stop_words='english'), 'url_content'),\n",
    "    ('domain_one_hot', OneHotEncoder(drop='first', handle_unknown = 'ignore'), ['url_domain'])\n",
    "]"
   ]
  },
  {
   "cell_type": "code",
   "execution_count": 200,
   "id": "ca12822f-f196-4fd6-bb72-814c4842b58f",
   "metadata": {
    "tags": []
   },
   "outputs": [],
   "source": [
    "pipe_nb = Pipeline([\n",
    "    ('cvecs', ColumnTransformer(transformers, remainder = 'passthrough')),\n",
    "    ('nb', MultinomialNB())\n",
    "])"
   ]
  },
  {
   "cell_type": "code",
   "execution_count": 155,
   "id": "ae9de05a-f1a4-4bba-9e49-883ddd22346e",
   "metadata": {},
   "outputs": [],
   "source": [
    "# pgrid = {\n",
    "#     'cvecs__title_vectorizer__stop_words' : [None], \n",
    "#     'cvecs__title_vectorizer__max_df' : [0.7, 0.8, 0.9], \n",
    "#     'cvecs__title_vectorizer__min_df' : [1, 2],\n",
    "#     'cvecs__title_vectorizer__ngram_range': [(1,1)],\n",
    "#     'cvecs__title_vectorizer__binary' : [False, True],\n",
    "#     'cvecs__url_content_vectorizer__stop_words' : ['english'],\n",
    "#     'cvecs__url_content_vectorizer__max_df' : [0.7, 0.8, 0.9],\n",
    "#     'cvecs__url_content_vectorizer__min_df' : [1, 2, 3],\n",
    "#     'cvecs__url_content_vectorizer__ngram_range': [(2,2)],\n",
    "#     'cvecs__url_content_vectorizer__binary' : [False, True]\n",
    "# }"
   ]
  },
  {
   "cell_type": "markdown",
   "id": "379010f1-6855-45e0-b058-196b5dfe71a8",
   "metadata": {},
   "source": [
    "## Model 2 - Naive Bayes with TFIDF Vectorizers"
   ]
  },
  {
   "cell_type": "code",
   "execution_count": 165,
   "id": "678d79ab-46eb-4231-be88-3a9f66064675",
   "metadata": {
    "tags": []
   },
   "outputs": [],
   "source": [
    "# transformers = [\n",
    "#     ('title_vectorizer', TfidfVectorizer(max_df=0.6, max_features= None, min_df= 3, ngram_range=(1,2), stop_words='english'), 'title'),\n",
    "#     ('url_content_vectorizer', TfidfVectorizer(max_df=0.7, min_df=4, ngram_range= (2,2)), 'url_content'),\n",
    "#     ('domain_one_hot', OneHotEncoder(drop='first', handle_unknown = 'ignore'), ['url_domain'])\n",
    "# ]"
   ]
  },
  {
   "cell_type": "code",
   "execution_count": 166,
   "id": "65cd7cd8-995d-491a-aaa4-1ccc9f8e583b",
   "metadata": {
    "tags": []
   },
   "outputs": [],
   "source": [
    "# pipe_nb = Pipeline([\n",
    "#     ('tvecs', ColumnTransformer(transformers, remainder = 'passthrough')),\n",
    "#     ('nb', MultinomialNB())\n",
    "# ])"
   ]
  },
  {
   "cell_type": "code",
   "execution_count": null,
   "id": "454ef335-2b5f-4807-9ebf-5d37e7fe7f89",
   "metadata": {},
   "outputs": [],
   "source": []
  },
  {
   "cell_type": "code",
   "execution_count": 98,
   "id": "f48a493e-4843-42d9-9d2b-a3047cd45a48",
   "metadata": {
    "tags": []
   },
   "outputs": [],
   "source": [
    "# pgrid = {\n",
    "#     'tvecs__title_vectorizer__stop_words' : [None, 'english'], \n",
    "#     'tvecs__title_vectorizer__max_df' : [0.7, 0.8, 0.9], \n",
    "#     'tvecs__title_vectorizer__min_df' : [1, 2],\n",
    "#     'tvecs__title_vectorizer__ngram_range': [(1,1), (1,2), (2,2)],\n",
    "#     'tvecs__title_vectorizer__binary' : [False, True],\n",
    "#     'tvecs__title_vectorizer__max_features' : [None, 2000, 3000],\n",
    "#     'tvecs__url_content_vectorizer__stop_words' : [None, 'english'],\n",
    "#     'tvecs__url_content_vectorizer__max_df' : [0.7, 0.8, 0.9, 0.95],\n",
    "#     'tvecs__url_content_vectorizer__min_df' : [1, 2, 3],\n",
    "#     'tvecs__url_content_vectorizer__ngram_range': [(1,1), (1,2), (2,2)],\n",
    "#     'tvecs__url_content_vectorizer__binary' : [False, True]\n",
    "# }"
   ]
  },
  {
   "cell_type": "markdown",
   "id": "032578c2-7dd9-4f89-b82a-71ac5c689757",
   "metadata": {
    "tags": []
   },
   "source": [
    "## Model 3 - Random Forest with Count Vectorizers"
   ]
  },
  {
   "cell_type": "code",
   "execution_count": 99,
   "id": "16070665-277c-42b4-bccd-b0b2f2d01f60",
   "metadata": {
    "tags": []
   },
   "outputs": [],
   "source": [
    "# transformers = [\n",
    "#     ('title_vectorizer', CountVectorizer(binary= True, max_df = 0.9, min_df= 1, ngram_range=(1,1), stop_words=None), 'title'),\n",
    "#     ('url_content_vectorizer', CountVectorizer(binary = False, max_df=0.9, min_df=2, ngram_range=(2,2), stop_words='english'), 'url_content'),\n",
    "#     ('domain_one_hot', OneHotEncoder(drop='first', handle_unknown = 'ignore'), ['url_domain'])\n",
    "# ]"
   ]
  },
  {
   "cell_type": "code",
   "execution_count": 100,
   "id": "871f80e0-1695-4974-89ed-80bdedaf11a9",
   "metadata": {
    "tags": []
   },
   "outputs": [],
   "source": [
    "# pipe_rf = Pipeline([\n",
    "#     ('cvecs', ColumnTransformer(transformers, remainder = 'passthrough')),\n",
    "#     ('rf', RandomForestClassifier())\n",
    "# ])"
   ]
  },
  {
   "cell_type": "code",
   "execution_count": 101,
   "id": "987a47a5-d040-420e-82d2-1921a2f2457d",
   "metadata": {
    "tags": []
   },
   "outputs": [],
   "source": [
    "# pgrid = {\n",
    "#     'cvecs__title_vectorizer__stop_words' : ['english'], \n",
    "#     'cvecs__title_vectorizer__max_df' : [0.7, 0.9], \n",
    "#     'cvecs__title_vectorizer__min_df' : [1, 2],\n",
    "#     'cvecs__title_vectorizer__ngram_range': [(1,1), (2,2)],\n",
    "#     'cvecs__title_vectorizer__binary' : [False, True],\n",
    "#     'cvecs__url_content_vectorizer__stop_words' : ['english'],\n",
    "#     'cvecs__url_content_vectorizer__max_df' : [0.7, 0.9],\n",
    "#     'cvecs__url_content_vectorizer__min_df' : [1, 2],\n",
    "#     'cvecs__url_content_vectorizer__ngram_range': [(2,2)],\n",
    "#     'cvecs__url_content_vectorizer__binary' : [False, True],\n",
    "#     'rf__n_estimators' : [100, 500],\n",
    "#     'rf__min_samples_leaf' : [2, 3, 4],\n",
    "#     'rf__max_depth': [None]\n",
    "    \n",
    "# }"
   ]
  },
  {
   "cell_type": "markdown",
   "id": "bc74c671-9656-422e-a521-0a922c2d6b91",
   "metadata": {},
   "source": [
    "## Model 4 - SVM with Count Vectorizers"
   ]
  },
  {
   "cell_type": "code",
   "execution_count": 173,
   "id": "97fa647b-0423-4531-ab9c-1b008b9f6419",
   "metadata": {
    "tags": []
   },
   "outputs": [],
   "source": [
    "transformers = [\n",
    "    ('title_vectorizer', CountVectorizer(binary= True, max_df = 0.9, min_df= 1, ngram_range=(1,1), stop_words=None), 'title'),\n",
    "    ('url_content_vectorizer', CountVectorizer(binary = False, max_df=0.9, min_df=2, ngram_range=(2,2), stop_words='english'), 'url_content'),\n",
    "    ('domain_one_hot', OneHotEncoder(drop='first', handle_unknown = 'ignore'), ['url_domain'])\n",
    "]"
   ]
  },
  {
   "cell_type": "code",
   "execution_count": 174,
   "id": "4a29184f-90c1-47f7-a8bc-f4e14d79a215",
   "metadata": {
    "tags": []
   },
   "outputs": [],
   "source": [
    "pipe_svc = Pipeline([\n",
    "    ('cvecs', ColumnTransformer(transformers, remainder = 'passthrough')),\n",
    "    ('svc', SVC())\n",
    "])"
   ]
  },
  {
   "cell_type": "code",
   "execution_count": 175,
   "id": "c96241a0-71f0-4613-9cf5-3796e6b6f35d",
   "metadata": {
    "tags": []
   },
   "outputs": [],
   "source": [
    "pgrid = {\n",
    "    'svc__C' : np.linspace(0.001, 1, 20),\n",
    "    'svc__kernel' : ['poly'],\n",
    "    'svc__degree' : [ 1, 2]\n",
    "}"
   ]
  },
  {
   "cell_type": "code",
   "execution_count": 201,
   "id": "38495c4c-a4b5-4f0b-bc90-6d4625198bff",
   "metadata": {
    "tags": []
   },
   "outputs": [
    {
     "data": {
      "text/html": [
       "<style>#sk-container-id-15 {color: black;}#sk-container-id-15 pre{padding: 0;}#sk-container-id-15 div.sk-toggleable {background-color: white;}#sk-container-id-15 label.sk-toggleable__label {cursor: pointer;display: block;width: 100%;margin-bottom: 0;padding: 0.3em;box-sizing: border-box;text-align: center;}#sk-container-id-15 label.sk-toggleable__label-arrow:before {content: \"▸\";float: left;margin-right: 0.25em;color: #696969;}#sk-container-id-15 label.sk-toggleable__label-arrow:hover:before {color: black;}#sk-container-id-15 div.sk-estimator:hover label.sk-toggleable__label-arrow:before {color: black;}#sk-container-id-15 div.sk-toggleable__content {max-height: 0;max-width: 0;overflow: hidden;text-align: left;background-color: #f0f8ff;}#sk-container-id-15 div.sk-toggleable__content pre {margin: 0.2em;color: black;border-radius: 0.25em;background-color: #f0f8ff;}#sk-container-id-15 input.sk-toggleable__control:checked~div.sk-toggleable__content {max-height: 200px;max-width: 100%;overflow: auto;}#sk-container-id-15 input.sk-toggleable__control:checked~label.sk-toggleable__label-arrow:before {content: \"▾\";}#sk-container-id-15 div.sk-estimator input.sk-toggleable__control:checked~label.sk-toggleable__label {background-color: #d4ebff;}#sk-container-id-15 div.sk-label input.sk-toggleable__control:checked~label.sk-toggleable__label {background-color: #d4ebff;}#sk-container-id-15 input.sk-hidden--visually {border: 0;clip: rect(1px 1px 1px 1px);clip: rect(1px, 1px, 1px, 1px);height: 1px;margin: -1px;overflow: hidden;padding: 0;position: absolute;width: 1px;}#sk-container-id-15 div.sk-estimator {font-family: monospace;background-color: #f0f8ff;border: 1px dotted black;border-radius: 0.25em;box-sizing: border-box;margin-bottom: 0.5em;}#sk-container-id-15 div.sk-estimator:hover {background-color: #d4ebff;}#sk-container-id-15 div.sk-parallel-item::after {content: \"\";width: 100%;border-bottom: 1px solid gray;flex-grow: 1;}#sk-container-id-15 div.sk-label:hover label.sk-toggleable__label {background-color: #d4ebff;}#sk-container-id-15 div.sk-serial::before {content: \"\";position: absolute;border-left: 1px solid gray;box-sizing: border-box;top: 0;bottom: 0;left: 50%;z-index: 0;}#sk-container-id-15 div.sk-serial {display: flex;flex-direction: column;align-items: center;background-color: white;padding-right: 0.2em;padding-left: 0.2em;position: relative;}#sk-container-id-15 div.sk-item {position: relative;z-index: 1;}#sk-container-id-15 div.sk-parallel {display: flex;align-items: stretch;justify-content: center;background-color: white;position: relative;}#sk-container-id-15 div.sk-item::before, #sk-container-id-15 div.sk-parallel-item::before {content: \"\";position: absolute;border-left: 1px solid gray;box-sizing: border-box;top: 0;bottom: 0;left: 50%;z-index: -1;}#sk-container-id-15 div.sk-parallel-item {display: flex;flex-direction: column;z-index: 1;position: relative;background-color: white;}#sk-container-id-15 div.sk-parallel-item:first-child::after {align-self: flex-end;width: 50%;}#sk-container-id-15 div.sk-parallel-item:last-child::after {align-self: flex-start;width: 50%;}#sk-container-id-15 div.sk-parallel-item:only-child::after {width: 0;}#sk-container-id-15 div.sk-dashed-wrapped {border: 1px dashed gray;margin: 0 0.4em 0.5em 0.4em;box-sizing: border-box;padding-bottom: 0.4em;background-color: white;}#sk-container-id-15 div.sk-label label {font-family: monospace;font-weight: bold;display: inline-block;line-height: 1.2em;}#sk-container-id-15 div.sk-label-container {text-align: center;}#sk-container-id-15 div.sk-container {/* jupyter's `normalize.less` sets `[hidden] { display: none; }` but bootstrap.min.css set `[hidden] { display: none !important; }` so we also need the `!important` here to be able to override the default hidden behavior on the sphinx rendered scikit-learn.org. See: https://github.com/scikit-learn/scikit-learn/issues/21755 */display: inline-block !important;position: relative;}#sk-container-id-15 div.sk-text-repr-fallback {display: none;}</style><div id=\"sk-container-id-15\" class=\"sk-top-container\"><div class=\"sk-text-repr-fallback\"><pre>Pipeline(steps=[(&#x27;cvecs&#x27;,\n",
       "                 ColumnTransformer(remainder=&#x27;passthrough&#x27;,\n",
       "                                   transformers=[(&#x27;title_vectorizer&#x27;,\n",
       "                                                  CountVectorizer(binary=True,\n",
       "                                                                  max_df=0.9),\n",
       "                                                  &#x27;title&#x27;),\n",
       "                                                 (&#x27;url_content_vectorizer&#x27;,\n",
       "                                                  CountVectorizer(max_df=0.9,\n",
       "                                                                  min_df=2,\n",
       "                                                                  ngram_range=(2,\n",
       "                                                                               2),\n",
       "                                                                  stop_words=&#x27;english&#x27;),\n",
       "                                                  &#x27;url_content&#x27;),\n",
       "                                                 (&#x27;domain_one_hot&#x27;,\n",
       "                                                  OneHotEncoder(drop=&#x27;first&#x27;,\n",
       "                                                                handle_unknown=&#x27;ignore&#x27;),\n",
       "                                                  [&#x27;url_domain&#x27;])])),\n",
       "                (&#x27;nb&#x27;, MultinomialNB())])</pre><b>In a Jupyter environment, please rerun this cell to show the HTML representation or trust the notebook. <br />On GitHub, the HTML representation is unable to render, please try loading this page with nbviewer.org.</b></div><div class=\"sk-container\" hidden><div class=\"sk-item sk-dashed-wrapped\"><div class=\"sk-label-container\"><div class=\"sk-label sk-toggleable\"><input class=\"sk-toggleable__control sk-hidden--visually\" id=\"sk-estimator-id-156\" type=\"checkbox\" ><label for=\"sk-estimator-id-156\" class=\"sk-toggleable__label sk-toggleable__label-arrow\">Pipeline</label><div class=\"sk-toggleable__content\"><pre>Pipeline(steps=[(&#x27;cvecs&#x27;,\n",
       "                 ColumnTransformer(remainder=&#x27;passthrough&#x27;,\n",
       "                                   transformers=[(&#x27;title_vectorizer&#x27;,\n",
       "                                                  CountVectorizer(binary=True,\n",
       "                                                                  max_df=0.9),\n",
       "                                                  &#x27;title&#x27;),\n",
       "                                                 (&#x27;url_content_vectorizer&#x27;,\n",
       "                                                  CountVectorizer(max_df=0.9,\n",
       "                                                                  min_df=2,\n",
       "                                                                  ngram_range=(2,\n",
       "                                                                               2),\n",
       "                                                                  stop_words=&#x27;english&#x27;),\n",
       "                                                  &#x27;url_content&#x27;),\n",
       "                                                 (&#x27;domain_one_hot&#x27;,\n",
       "                                                  OneHotEncoder(drop=&#x27;first&#x27;,\n",
       "                                                                handle_unknown=&#x27;ignore&#x27;),\n",
       "                                                  [&#x27;url_domain&#x27;])])),\n",
       "                (&#x27;nb&#x27;, MultinomialNB())])</pre></div></div></div><div class=\"sk-serial\"><div class=\"sk-item sk-dashed-wrapped\"><div class=\"sk-label-container\"><div class=\"sk-label sk-toggleable\"><input class=\"sk-toggleable__control sk-hidden--visually\" id=\"sk-estimator-id-157\" type=\"checkbox\" ><label for=\"sk-estimator-id-157\" class=\"sk-toggleable__label sk-toggleable__label-arrow\">cvecs: ColumnTransformer</label><div class=\"sk-toggleable__content\"><pre>ColumnTransformer(remainder=&#x27;passthrough&#x27;,\n",
       "                  transformers=[(&#x27;title_vectorizer&#x27;,\n",
       "                                 CountVectorizer(binary=True, max_df=0.9),\n",
       "                                 &#x27;title&#x27;),\n",
       "                                (&#x27;url_content_vectorizer&#x27;,\n",
       "                                 CountVectorizer(max_df=0.9, min_df=2,\n",
       "                                                 ngram_range=(2, 2),\n",
       "                                                 stop_words=&#x27;english&#x27;),\n",
       "                                 &#x27;url_content&#x27;),\n",
       "                                (&#x27;domain_one_hot&#x27;,\n",
       "                                 OneHotEncoder(drop=&#x27;first&#x27;,\n",
       "                                               handle_unknown=&#x27;ignore&#x27;),\n",
       "                                 [&#x27;url_domain&#x27;])])</pre></div></div></div><div class=\"sk-parallel\"><div class=\"sk-parallel-item\"><div class=\"sk-item\"><div class=\"sk-label-container\"><div class=\"sk-label sk-toggleable\"><input class=\"sk-toggleable__control sk-hidden--visually\" id=\"sk-estimator-id-158\" type=\"checkbox\" ><label for=\"sk-estimator-id-158\" class=\"sk-toggleable__label sk-toggleable__label-arrow\">title_vectorizer</label><div class=\"sk-toggleable__content\"><pre>title</pre></div></div></div><div class=\"sk-serial\"><div class=\"sk-item\"><div class=\"sk-estimator sk-toggleable\"><input class=\"sk-toggleable__control sk-hidden--visually\" id=\"sk-estimator-id-159\" type=\"checkbox\" ><label for=\"sk-estimator-id-159\" class=\"sk-toggleable__label sk-toggleable__label-arrow\">CountVectorizer</label><div class=\"sk-toggleable__content\"><pre>CountVectorizer(binary=True, max_df=0.9)</pre></div></div></div></div></div></div><div class=\"sk-parallel-item\"><div class=\"sk-item\"><div class=\"sk-label-container\"><div class=\"sk-label sk-toggleable\"><input class=\"sk-toggleable__control sk-hidden--visually\" id=\"sk-estimator-id-160\" type=\"checkbox\" ><label for=\"sk-estimator-id-160\" class=\"sk-toggleable__label sk-toggleable__label-arrow\">url_content_vectorizer</label><div class=\"sk-toggleable__content\"><pre>url_content</pre></div></div></div><div class=\"sk-serial\"><div class=\"sk-item\"><div class=\"sk-estimator sk-toggleable\"><input class=\"sk-toggleable__control sk-hidden--visually\" id=\"sk-estimator-id-161\" type=\"checkbox\" ><label for=\"sk-estimator-id-161\" class=\"sk-toggleable__label sk-toggleable__label-arrow\">CountVectorizer</label><div class=\"sk-toggleable__content\"><pre>CountVectorizer(max_df=0.9, min_df=2, ngram_range=(2, 2), stop_words=&#x27;english&#x27;)</pre></div></div></div></div></div></div><div class=\"sk-parallel-item\"><div class=\"sk-item\"><div class=\"sk-label-container\"><div class=\"sk-label sk-toggleable\"><input class=\"sk-toggleable__control sk-hidden--visually\" id=\"sk-estimator-id-162\" type=\"checkbox\" ><label for=\"sk-estimator-id-162\" class=\"sk-toggleable__label sk-toggleable__label-arrow\">domain_one_hot</label><div class=\"sk-toggleable__content\"><pre>[&#x27;url_domain&#x27;]</pre></div></div></div><div class=\"sk-serial\"><div class=\"sk-item\"><div class=\"sk-estimator sk-toggleable\"><input class=\"sk-toggleable__control sk-hidden--visually\" id=\"sk-estimator-id-163\" type=\"checkbox\" ><label for=\"sk-estimator-id-163\" class=\"sk-toggleable__label sk-toggleable__label-arrow\">OneHotEncoder</label><div class=\"sk-toggleable__content\"><pre>OneHotEncoder(drop=&#x27;first&#x27;, handle_unknown=&#x27;ignore&#x27;)</pre></div></div></div></div></div></div><div class=\"sk-parallel-item\"><div class=\"sk-item\"><div class=\"sk-label-container\"><div class=\"sk-label sk-toggleable\"><input class=\"sk-toggleable__control sk-hidden--visually\" id=\"sk-estimator-id-164\" type=\"checkbox\" ><label for=\"sk-estimator-id-164\" class=\"sk-toggleable__label sk-toggleable__label-arrow\">remainder</label><div class=\"sk-toggleable__content\"><pre>[]</pre></div></div></div><div class=\"sk-serial\"><div class=\"sk-item\"><div class=\"sk-estimator sk-toggleable\"><input class=\"sk-toggleable__control sk-hidden--visually\" id=\"sk-estimator-id-165\" type=\"checkbox\" ><label for=\"sk-estimator-id-165\" class=\"sk-toggleable__label sk-toggleable__label-arrow\">passthrough</label><div class=\"sk-toggleable__content\"><pre>passthrough</pre></div></div></div></div></div></div></div></div><div class=\"sk-item\"><div class=\"sk-estimator sk-toggleable\"><input class=\"sk-toggleable__control sk-hidden--visually\" id=\"sk-estimator-id-166\" type=\"checkbox\" ><label for=\"sk-estimator-id-166\" class=\"sk-toggleable__label sk-toggleable__label-arrow\">MultinomialNB</label><div class=\"sk-toggleable__content\"><pre>MultinomialNB()</pre></div></div></div></div></div></div></div>"
      ],
      "text/plain": [
       "Pipeline(steps=[('cvecs',\n",
       "                 ColumnTransformer(remainder='passthrough',\n",
       "                                   transformers=[('title_vectorizer',\n",
       "                                                  CountVectorizer(binary=True,\n",
       "                                                                  max_df=0.9),\n",
       "                                                  'title'),\n",
       "                                                 ('url_content_vectorizer',\n",
       "                                                  CountVectorizer(max_df=0.9,\n",
       "                                                                  min_df=2,\n",
       "                                                                  ngram_range=(2,\n",
       "                                                                               2),\n",
       "                                                                  stop_words='english'),\n",
       "                                                  'url_content'),\n",
       "                                                 ('domain_one_hot',\n",
       "                                                  OneHotEncoder(drop='first',\n",
       "                                                                handle_unknown='ignore'),\n",
       "                                                  ['url_domain'])])),\n",
       "                ('nb', MultinomialNB())])"
      ]
     },
     "execution_count": 201,
     "metadata": {},
     "output_type": "execute_result"
    }
   ],
   "source": [
    "pipe_nb.fit(X_train, y_train)\n",
    "#pipe_rf.fit(X_train, y_train)\n",
    "#pipe_svc.fit(X_train, y_train)"
   ]
  },
  {
   "cell_type": "code",
   "execution_count": 158,
   "id": "afd3e97d-e731-4b67-b3bd-0c7031c633c4",
   "metadata": {
    "tags": []
   },
   "outputs": [],
   "source": [
    "# pipe_nb.get_params()\n",
    "# pipe_rf.get_params()\n",
    "# pipe_svc.get_params()"
   ]
  },
  {
   "cell_type": "code",
   "execution_count": null,
   "id": "e44664aa-c2ba-44ce-b7cf-940aa9661c8f",
   "metadata": {},
   "outputs": [],
   "source": []
  },
  {
   "cell_type": "markdown",
   "id": "780f035d-ad40-47e7-8db5-07764b926ad7",
   "metadata": {},
   "source": [
    "## Intermediate Evaluation (Pre-Gridsearch)"
   ]
  },
  {
   "cell_type": "code",
   "execution_count": 202,
   "id": "1d59c144-6f27-4d54-88b9-e0567df6f9c9",
   "metadata": {
    "tags": []
   },
   "outputs": [
    {
     "data": {
      "text/plain": [
       "0.9832239241429613"
      ]
     },
     "execution_count": 202,
     "metadata": {},
     "output_type": "execute_result"
    }
   ],
   "source": [
    "pipe_nb.score(X_train, y_train)\n",
    "#pipe_rf.score(X_train, y_train)\n",
    "#pipe_svc.score(X_train, y_train)"
   ]
  },
  {
   "cell_type": "code",
   "execution_count": 203,
   "id": "488c80e4-8e72-4bcb-8045-18f9f1cba4e2",
   "metadata": {
    "tags": []
   },
   "outputs": [
    {
     "name": "stderr",
     "output_type": "stream",
     "text": [
      "C:\\Users\\mikem\\anaconda3\\Lib\\site-packages\\sklearn\\preprocessing\\_encoders.py:227: UserWarning: Found unknown categories in columns [0] during transform. These unknown categories will be encoded as all zeros\n",
      "  warnings.warn(\n"
     ]
    },
    {
     "data": {
      "text/plain": [
       "0.9584245076586433"
      ]
     },
     "execution_count": 203,
     "metadata": {},
     "output_type": "execute_result"
    }
   ],
   "source": [
    "pipe_nb.score(X_test, y_test)\n",
    "#pipe_svc.score(X_test, y_test)\n",
    "#pipe_svc.score(X_test, y_test)"
   ]
  },
  {
   "cell_type": "code",
   "execution_count": 204,
   "id": "c8b51317-3d7a-46f5-8b94-9b397a678e35",
   "metadata": {
    "tags": []
   },
   "outputs": [
    {
     "name": "stderr",
     "output_type": "stream",
     "text": [
      "C:\\Users\\mikem\\anaconda3\\Lib\\site-packages\\sklearn\\preprocessing\\_encoders.py:227: UserWarning: Found unknown categories in columns [0] during transform. These unknown categories will be encoded as all zeros\n",
      "  warnings.warn(\n"
     ]
    }
   ],
   "source": [
    "y_preds = pipe_nb.predict(X_test)\n",
    "#y_preds = pipe_rf.predict(X_test)\n",
    "#y_preds = pipe_svc.predict(X_test)"
   ]
  },
  {
   "cell_type": "code",
   "execution_count": null,
   "id": "e3f336b8-9e97-4025-90ea-36d5bd53c5a0",
   "metadata": {
    "tags": []
   },
   "outputs": [],
   "source": []
  },
  {
   "cell_type": "code",
   "execution_count": 205,
   "id": "2c7f5960-b00e-4ae4-9452-fa31bba37acc",
   "metadata": {
    "tags": []
   },
   "outputs": [
    {
     "name": "stderr",
     "output_type": "stream",
     "text": [
      "C:\\Users\\mikem\\anaconda3\\Lib\\site-packages\\sklearn\\preprocessing\\_encoders.py:227: UserWarning: Found unknown categories in columns [0] during transform. These unknown categories will be encoded as all zeros\n",
      "  warnings.warn(\n"
     ]
    },
    {
     "data": {
      "text/plain": [
       "<sklearn.metrics._plot.confusion_matrix.ConfusionMatrixDisplay at 0x2086a180590>"
      ]
     },
     "execution_count": 205,
     "metadata": {},
     "output_type": "execute_result"
    },
    {
     "data": {
      "image/png": "[encoded data removed]",
      "text/plain": [
       "<Figure size 640x480 with 2 Axes>"
      ]
     },
     "metadata": {},
     "output_type": "display_data"
    }
   ],
   "source": [
    "\n",
    "ConfusionMatrixDisplay.from_estimator(pipe_nb, X_test, y_test, cmap = 'Blues', display_labels=['r/Scifi', 'r/Futurology'])\n",
    "#ConfusionMatrixDisplay.from_estimator(pipe_rf, X_test, y_test, cmap = 'Blues')\n",
    "#ConfusionMatrixDisplay.from_estimator(pipe_svc, X_test, y_test, cmap = 'Blues', display_labels=['r/Scifi', 'r/Futurology'])"
   ]
  },
  {
   "cell_type": "code",
   "execution_count": 206,
   "id": "e689b286-9772-491a-b0be-1db0819fed36",
   "metadata": {
    "tags": []
   },
   "outputs": [
    {
     "data": {
      "text/plain": [
       "0.9641148325358851"
      ]
     },
     "execution_count": 206,
     "metadata": {},
     "output_type": "execute_result"
    }
   ],
   "source": [
    "recall_score(y_test, y_preds)"
   ]
  },
  {
   "cell_type": "code",
   "execution_count": 323,
   "id": "185ff224-3698-4de7-81dc-147b071f934b",
   "metadata": {
    "tags": []
   },
   "outputs": [],
   "source": []
  },
  {
   "cell_type": "markdown",
   "id": "ea61482f-082d-4e73-8e1b-0d5ed43a7770",
   "metadata": {
    "tags": []
   },
   "source": [
    "## Gridsearch"
   ]
  },
  {
   "cell_type": "code",
   "execution_count": 146,
   "id": "2befd2f2-3cf8-4a07-bd0c-c56cac073134",
   "metadata": {
    "tags": []
   },
   "outputs": [
    {
     "name": "stdout",
     "output_type": "stream",
     "text": [
      "CPU times: total: 516 ms\n",
      "Wall time: 12.9 s\n"
     ]
    }
   ],
   "source": [
    "# %%time\n",
    "# gs = GridSearchCV(pipe_svc, pgrid, cv = 5, n_jobs = 12)\n",
    "# #rs = RandomizedSearchCV(pipe_rf, pgrid, cv = 5, n_jobs = 12)\n",
    "\n",
    "# gs.fit(X_train, y_train)\n",
    "# #rs.fit(X_train, y_train)\n",
    "# best_params = gs.best_params_\n"
   ]
  },
  {
   "cell_type": "code",
   "execution_count": 147,
   "id": "ce9e8e98-26c6-4ad3-89f9-74c8d8eacb40",
   "metadata": {
    "tags": []
   },
   "outputs": [
    {
     "data": {
      "text/plain": [
       "{'svc__C': 1.0, 'svc__degree': 1, 'svc__kernel': 'poly'}"
      ]
     },
     "execution_count": 147,
     "metadata": {},
     "output_type": "execute_result"
    }
   ],
   "source": [
    "# gs.best_params_"
   ]
  },
  {
   "cell_type": "code",
   "execution_count": 148,
   "id": "66397d28-d3b3-4288-8330-8477016dde33",
   "metadata": {},
   "outputs": [
    {
     "data": {
      "text/plain": [
       "0.9715536105032823"
      ]
     },
     "execution_count": 148,
     "metadata": {},
     "output_type": "execute_result"
    }
   ],
   "source": [
    "# gs.score(X_train, y_train)"
   ]
  },
  {
   "cell_type": "code",
   "execution_count": 149,
   "id": "2ee2cd2b-50c0-4d62-8d32-b002ac967238",
   "metadata": {
    "tags": []
   },
   "outputs": [
    {
     "name": "stderr",
     "output_type": "stream",
     "text": [
      "C:\\Users\\mikem\\anaconda3\\Lib\\site-packages\\sklearn\\preprocessing\\_encoders.py:227: UserWarning: Found unknown categories in columns [0] during transform. These unknown categories will be encoded as all zeros\n",
      "  warnings.warn(\n"
     ]
    },
    {
     "data": {
      "text/plain": [
       "0.9332603938730853"
      ]
     },
     "execution_count": 149,
     "metadata": {},
     "output_type": "execute_result"
    }
   ],
   "source": [
    "#gs.score(X_test, y_test)"
   ]
  },
  {
   "cell_type": "code",
   "execution_count": null,
   "id": "e72c27a9-7749-43e3-aa61-7aa40a16590f",
   "metadata": {
    "tags": []
   },
   "outputs": [],
   "source": []
  },
  {
   "cell_type": "code",
   "execution_count": null,
   "id": "442cb57e-5fe5-412c-b8f8-ff8e3fb94c21",
   "metadata": {
    "tags": []
   },
   "outputs": [],
   "source": []
  },
  {
   "cell_type": "code",
   "execution_count": 150,
   "id": "1572c262-d28d-429d-9ca2-4f692f584832",
   "metadata": {
    "tags": []
   },
   "outputs": [
    {
     "name": "stderr",
     "output_type": "stream",
     "text": [
      "C:\\Users\\mikem\\anaconda3\\Lib\\site-packages\\sklearn\\preprocessing\\_encoders.py:227: UserWarning: Found unknown categories in columns [0] during transform. These unknown categories will be encoded as all zeros\n",
      "  warnings.warn(\n"
     ]
    }
   ],
   "source": [
    "#y_preds = gs.predict(X_test)\n",
    "#y_preds = gs.predict(X_test)"
   ]
  },
  {
   "cell_type": "code",
   "execution_count": null,
   "id": "97f8dc1c-8b84-49ee-ae50-d2533975273c",
   "metadata": {
    "tags": []
   },
   "outputs": [],
   "source": []
  },
  {
   "cell_type": "code",
   "execution_count": null,
   "id": "f8583194-bce8-4e8b-bcb0-84c5821dbe2e",
   "metadata": {
    "tags": []
   },
   "outputs": [],
   "source": []
  },
  {
   "cell_type": "markdown",
   "id": "e1165349-d72c-4e07-90df-c682cb970504",
   "metadata": {
    "tags": []
   },
   "source": [
    "## Post-Gridsearch Evaluation"
   ]
  },
  {
   "cell_type": "code",
   "execution_count": 151,
   "id": "77ba380c-ab49-4c18-8955-8fa337f70b27",
   "metadata": {
    "tags": []
   },
   "outputs": [
    {
     "name": "stderr",
     "output_type": "stream",
     "text": [
      "C:\\Users\\mikem\\anaconda3\\Lib\\site-packages\\sklearn\\preprocessing\\_encoders.py:227: UserWarning: Found unknown categories in columns [0] during transform. These unknown categories will be encoded as all zeros\n",
      "  warnings.warn(\n"
     ]
    },
    {
     "data": {
      "text/plain": [
       "<sklearn.metrics._plot.confusion_matrix.ConfusionMatrixDisplay at 0x208712024d0>"
      ]
     },
     "execution_count": 151,
     "metadata": {},
     "output_type": "execute_result"
    },
    {
     "data": {
      "image/png": "[encoded data removed]",
      "text/plain": [
       "<Figure size 640x480 with 2 Axes>"
      ]
     },
     "metadata": {},
     "output_type": "display_data"
    }
   ],
   "source": [
    "#ConfusionMatrixDisplay.from_estimator(gs, X_test, y_test, cmap = 'Blues')"
   ]
  },
  {
   "cell_type": "code",
   "execution_count": 152,
   "id": "af62ae64-010b-475e-907a-77470c7d258d",
   "metadata": {
    "tags": []
   },
   "outputs": [
    {
     "data": {
      "text/plain": [
       "0.8851674641148325"
      ]
     },
     "execution_count": 152,
     "metadata": {},
     "output_type": "execute_result"
    }
   ],
   "source": [
    "#recall_score(y_test, y_preds)"
   ]
  },
  {
   "cell_type": "code",
   "execution_count": 209,
   "id": "59d3fe42-a08d-4bf0-bea8-83615bec956a",
   "metadata": {
    "tags": []
   },
   "outputs": [],
   "source": [
    "results = pd.DataFrame({\n",
    "    'actually Futurology' : y_test,\n",
    "    'predicted Futurology' : y_preds\n",
    "})\n",
    "\n",
    "false_positives = results[(results['actually Futurology'] == 0) & (results['predicted Futurology'] == 1)].index\n",
    "\n",
    "false_positives"
   ]
  },
  {
   "cell_type": "code",
   "execution_count": 220,
   "id": "644afae3-f118-454b-a9e0-171cb43aca4a",
   "metadata": {
    "tags": []
   },
   "outputs": [
    {
     "data": {
      "text/html": [
       "<div>\n",
       "<style scoped>\n",
       "    .dataframe tbody tr th:only-of-type {\n",
       "        vertical-align: middle;\n",
       "    }\n",
       "\n",
       "    .dataframe tbody tr th {\n",
       "        vertical-align: top;\n",
       "    }\n",
       "\n",
       "    .dataframe thead th {\n",
       "        text-align: right;\n",
       "    }\n",
       "</style>\n",
       "<table border=\"1\" class=\"dataframe\">\n",
       "  <thead>\n",
       "    <tr style=\"text-align: right;\">\n",
       "      <th></th>\n",
       "      <th>title</th>\n",
       "    </tr>\n",
       "  </thead>\n",
       "  <tbody>\n",
       "    <tr>\n",
       "      <th>3300</th>\n",
       "      <td>In the 60s \"Astronaut happiness wasn’t a factor” say historian David Hitt. On Skylab 4, in 1973, the crew be overwork with packed schedule each day. They tell NASA they couldn't keep up. This event be misreported as a \"mutiny,\" but it have big effects. Astronauts now work 9-5, with weekend off.</td>\n",
       "    </tr>\n",
       "    <tr>\n",
       "      <th>2342</th>\n",
       "      <td>Races and creature from other planet or dimensions?</td>\n",
       "    </tr>\n",
       "    <tr>\n",
       "      <th>2446</th>\n",
       "      <td>The moon and tectonics</td>\n",
       "    </tr>\n",
       "    <tr>\n",
       "      <th>3153</th>\n",
       "      <td>Time to come in</td>\n",
       "    </tr>\n",
       "    <tr>\n",
       "      <th>1766</th>\n",
       "      <td>Ice 9</td>\n",
       "    </tr>\n",
       "    <tr>\n",
       "      <th>2489</th>\n",
       "      <td>Future eyewear (@m0ds.lab instagram)</td>\n",
       "    </tr>\n",
       "    <tr>\n",
       "      <th>1878</th>\n",
       "      <td>Some of Shinji Aramaki’s production sketch from Bubblegum Crisis</td>\n",
       "    </tr>\n",
       "    <tr>\n",
       "      <th>1995</th>\n",
       "      <td>High as the moon</td>\n",
       "    </tr>\n",
       "    <tr>\n",
       "      <th>2152</th>\n",
       "      <td>Life 2017</td>\n",
       "    </tr>\n",
       "    <tr>\n",
       "      <th>3451</th>\n",
       "      <td>A cleric fight against a system he once defend where expression &amp; feeling be outlaw in, Equilibrium (2002).</td>\n",
       "    </tr>\n",
       "    <tr>\n",
       "      <th>2422</th>\n",
       "      <td>How to cause a global dark age?</td>\n",
       "    </tr>\n",
       "    <tr>\n",
       "      <th>2813</th>\n",
       "      <td>Why don't Na'vi have four arms, four eyes, two USB cord and breathe hole in their neck like the rest of the Pandorian fauna?</td>\n",
       "    </tr>\n",
       "    <tr>\n",
       "      <th>2160</th>\n",
       "      <td>New Reviewer on our page!</td>\n",
       "    </tr>\n",
       "    <tr>\n",
       "      <th>1791</th>\n",
       "      <td>If you be to get executed. Would you rather get cut in half by a lightsaber or vaporize by a phaser set to vaporize</td>\n",
       "    </tr>\n",
       "    <tr>\n",
       "      <th>2634</th>\n",
       "      <td>Continuing Mission Kelvin A</td>\n",
       "    </tr>\n",
       "    <tr>\n",
       "      <th>1804</th>\n",
       "      <td>LIVE coverage from NASA of the Solar Ecliipse (11:30am ET Saturday - NOW)</td>\n",
       "    </tr>\n",
       "    <tr>\n",
       "      <th>2065</th>\n",
       "      <td>Here's a severely damage android limping around for your amusement.</td>\n",
       "    </tr>\n",
       "    <tr>\n",
       "      <th>2215</th>\n",
       "      <td>Researcher Human Eya 227L from Military / Scientific Base 'Glaring Concave', Ny Rossøya. Emblem of 'Glaring Concave'. Base establish 2507. Personnel 1500, Humans and Posthumans.</td>\n",
       "    </tr>\n",
       "    <tr>\n",
       "      <th>3050</th>\n",
       "      <td>Here we Go!</td>\n",
       "    </tr>\n",
       "    <tr>\n",
       "      <th>3428</th>\n",
       "      <td>The world’s large collection of Space Age artifacts be hidden away, in a secret barn, somewhere in upstate New York. The archive of 10,000 object and over 8,000 period photograph have be assembled, catalogue and preserve by a single family over the past 4 decades.</td>\n",
       "    </tr>\n",
       "    <tr>\n",
       "      <th>3530</th>\n",
       "      <td>Earthlings likely to welcome alien life rather than panicking, study show - Should aliens be discovered, public reaction be likely to be positive, say researcher – despite alarm fictional portrayal of contact</td>\n",
       "    </tr>\n",
       "    <tr>\n",
       "      <th>2818</th>\n",
       "      <td>An Engineer at a mining outpost on the far side of Moon be at the end of his 3-year contract with Lunar Industries. With no Live comms, he spend time send record message to his family. One day, he spy on his AI computer GERTY make a live call to Earth, and thing start to unravel!</td>\n",
       "    </tr>\n",
       "    <tr>\n",
       "      <th>2078</th>\n",
       "      <td>Penelope The Rat | NOEMA</td>\n",
       "    </tr>\n",
       "  </tbody>\n",
       "</table>\n",
       "</div>"
      ],
      "text/plain": [
       "                                                                                                                                                                                                                                                                                                        title\n",
       "3300  In the 60s \"Astronaut happiness wasn’t a factor” say historian David Hitt. On Skylab 4, in 1973, the crew be overwork with packed schedule each day. They tell NASA they couldn't keep up. This event be misreported as a \"mutiny,\" but it have big effects. Astronauts now work 9-5, with weekend off.\n",
       "2342                                                                                                                                                                                                                                                      Races and creature from other planet or dimensions?\n",
       "2446                                                                                                                                                                                                                                                                                   The moon and tectonics\n",
       "3153                                                                                                                                                                                                                                                                                          Time to come in\n",
       "1766                                                                                                                                                                                                                                                                                                    Ice 9\n",
       "2489                                                                                                                                                                                                                                                                     Future eyewear (@m0ds.lab instagram)\n",
       "1878                                                                                                                                                                                                                                         Some of Shinji Aramaki’s production sketch from Bubblegum Crisis\n",
       "1995                                                                                                                                                                                                                                                                                         High as the moon\n",
       "2152                                                                                                                                                                                                                                                                                                Life 2017\n",
       "3451                                                                                                                                                                                              A cleric fight against a system he once defend where expression & feeling be outlaw in, Equilibrium (2002).\n",
       "2422                                                                                                                                                                                                                                                                          How to cause a global dark age?\n",
       "2813                                                                                                                                                                             Why don't Na'vi have four arms, four eyes, two USB cord and breathe hole in their neck like the rest of the Pandorian fauna?\n",
       "2160                                                                                                                                                                                                                                                                                New Reviewer on our page!\n",
       "1791                                                                                                                                                                                      If you be to get executed. Would you rather get cut in half by a lightsaber or vaporize by a phaser set to vaporize\n",
       "2634                                                                                                                                                                                                                                                                              Continuing Mission Kelvin A\n",
       "1804                                                                                                                                                                                                                                LIVE coverage from NASA of the Solar Ecliipse (11:30am ET Saturday - NOW)\n",
       "2065                                                                                                                                                                                                                                      Here's a severely damage android limping around for your amusement.\n",
       "2215                                                                                                                        Researcher Human Eya 227L from Military / Scientific Base 'Glaring Concave', Ny Rossøya. Emblem of 'Glaring Concave'. Base establish 2507. Personnel 1500, Humans and Posthumans.\n",
       "3050                                                                                                                                                                                                                                                                                              Here we Go!\n",
       "3428                                 The world’s large collection of Space Age artifacts be hidden away, in a secret barn, somewhere in upstate New York. The archive of 10,000 object and over 8,000 period photograph have be assembled, catalogue and preserve by a single family over the past 4 decades.\n",
       "3530                                                                                         Earthlings likely to welcome alien life rather than panicking, study show - Should aliens be discovered, public reaction be likely to be positive, say researcher – despite alarm fictional portrayal of contact\n",
       "2818                 An Engineer at a mining outpost on the far side of Moon be at the end of his 3-year contract with Lunar Industries. With no Live comms, he spend time send record message to his family. One day, he spy on his AI computer GERTY make a live call to Earth, and thing start to unravel!\n",
       "2078                                                                                                                                                                                                                                                                                 Penelope The Rat | NOEMA"
      ]
     },
     "execution_count": 220,
     "metadata": {},
     "output_type": "execute_result"
    }
   ],
   "source": [
    "reddit_data_df.iloc[false_positives, 2].to_frame()"
   ]
  },
  {
   "cell_type": "code",
   "execution_count": 275,
   "id": "7763794a-5131-4f95-81fd-61f0cdaf06fe",
   "metadata": {
    "tags": []
   },
   "outputs": [
    {
     "data": {
      "text/html": [
       "<div>\n",
       "<style scoped>\n",
       "    .dataframe tbody tr th:only-of-type {\n",
       "        vertical-align: middle;\n",
       "    }\n",
       "\n",
       "    .dataframe tbody tr th {\n",
       "        vertical-align: top;\n",
       "    }\n",
       "\n",
       "    .dataframe thead th {\n",
       "        text-align: right;\n",
       "    }\n",
       "</style>\n",
       "<table border=\"1\" class=\"dataframe\">\n",
       "  <thead>\n",
       "    <tr style=\"text-align: right;\">\n",
       "      <th></th>\n",
       "      <th>actually Futurology</th>\n",
       "      <th>predicted Futurology</th>\n",
       "    </tr>\n",
       "    <tr>\n",
       "      <th>id</th>\n",
       "      <th></th>\n",
       "      <th></th>\n",
       "    </tr>\n",
       "  </thead>\n",
       "  <tbody>\n",
       "    <tr>\n",
       "      <th>mpeykb</th>\n",
       "      <td>0</td>\n",
       "      <td>1</td>\n",
       "    </tr>\n",
       "    <tr>\n",
       "      <th>166gns0</th>\n",
       "      <td>1</td>\n",
       "      <td>0</td>\n",
       "    </tr>\n",
       "    <tr>\n",
       "      <th>15qqpot</th>\n",
       "      <td>1</td>\n",
       "      <td>0</td>\n",
       "    </tr>\n",
       "    <tr>\n",
       "      <th>16i563y</th>\n",
       "      <td>1</td>\n",
       "      <td>0</td>\n",
       "    </tr>\n",
       "    <tr>\n",
       "      <th>15uiq28</th>\n",
       "      <td>1</td>\n",
       "      <td>0</td>\n",
       "    </tr>\n",
       "    <tr>\n",
       "      <th>16ar3u8</th>\n",
       "      <td>1</td>\n",
       "      <td>0</td>\n",
       "    </tr>\n",
       "    <tr>\n",
       "      <th>178osme</th>\n",
       "      <td>0</td>\n",
       "      <td>1</td>\n",
       "    </tr>\n",
       "    <tr>\n",
       "      <th>16m2duk</th>\n",
       "      <td>0</td>\n",
       "      <td>1</td>\n",
       "    </tr>\n",
       "    <tr>\n",
       "      <th>165yzac</th>\n",
       "      <td>1</td>\n",
       "      <td>0</td>\n",
       "    </tr>\n",
       "    <tr>\n",
       "      <th>mk7aiq</th>\n",
       "      <td>1</td>\n",
       "      <td>0</td>\n",
       "    </tr>\n",
       "    <tr>\n",
       "      <th>16z2dgk</th>\n",
       "      <td>1</td>\n",
       "      <td>0</td>\n",
       "    </tr>\n",
       "    <tr>\n",
       "      <th>172q9e7</th>\n",
       "      <td>0</td>\n",
       "      <td>1</td>\n",
       "    </tr>\n",
       "    <tr>\n",
       "      <th>16ffv8x</th>\n",
       "      <td>1</td>\n",
       "      <td>0</td>\n",
       "    </tr>\n",
       "    <tr>\n",
       "      <th>zu9paw</th>\n",
       "      <td>0</td>\n",
       "      <td>1</td>\n",
       "    </tr>\n",
       "    <tr>\n",
       "      <th>15wi75l</th>\n",
       "      <td>1</td>\n",
       "      <td>0</td>\n",
       "    </tr>\n",
       "    <tr>\n",
       "      <th>16rlj3m</th>\n",
       "      <td>1</td>\n",
       "      <td>0</td>\n",
       "    </tr>\n",
       "    <tr>\n",
       "      <th>16aya0y</th>\n",
       "      <td>1</td>\n",
       "      <td>0</td>\n",
       "    </tr>\n",
       "    <tr>\n",
       "      <th>16nno9q</th>\n",
       "      <td>0</td>\n",
       "      <td>1</td>\n",
       "    </tr>\n",
       "    <tr>\n",
       "      <th>16phs6a</th>\n",
       "      <td>1</td>\n",
       "      <td>0</td>\n",
       "    </tr>\n",
       "    <tr>\n",
       "      <th>zy34ug</th>\n",
       "      <td>0</td>\n",
       "      <td>1</td>\n",
       "    </tr>\n",
       "    <tr>\n",
       "      <th>15r9p43</th>\n",
       "      <td>1</td>\n",
       "      <td>0</td>\n",
       "    </tr>\n",
       "    <tr>\n",
       "      <th>178f5u2</th>\n",
       "      <td>1</td>\n",
       "      <td>0</td>\n",
       "    </tr>\n",
       "    <tr>\n",
       "      <th>16rrp37</th>\n",
       "      <td>1</td>\n",
       "      <td>0</td>\n",
       "    </tr>\n",
       "    <tr>\n",
       "      <th>16ehq5w</th>\n",
       "      <td>1</td>\n",
       "      <td>0</td>\n",
       "    </tr>\n",
       "    <tr>\n",
       "      <th>16bivxg</th>\n",
       "      <td>1</td>\n",
       "      <td>0</td>\n",
       "    </tr>\n",
       "    <tr>\n",
       "      <th>16actyw</th>\n",
       "      <td>1</td>\n",
       "      <td>0</td>\n",
       "    </tr>\n",
       "    <tr>\n",
       "      <th>178i6oz</th>\n",
       "      <td>0</td>\n",
       "      <td>1</td>\n",
       "    </tr>\n",
       "    <tr>\n",
       "      <th>16k74gp</th>\n",
       "      <td>1</td>\n",
       "      <td>0</td>\n",
       "    </tr>\n",
       "    <tr>\n",
       "      <th>177s5ew</th>\n",
       "      <td>0</td>\n",
       "      <td>1</td>\n",
       "    </tr>\n",
       "    <tr>\n",
       "      <th>16kzlhd</th>\n",
       "      <td>1</td>\n",
       "      <td>0</td>\n",
       "    </tr>\n",
       "    <tr>\n",
       "      <th>15wv0kj</th>\n",
       "      <td>1</td>\n",
       "      <td>0</td>\n",
       "    </tr>\n",
       "    <tr>\n",
       "      <th>16kc5r8</th>\n",
       "      <td>1</td>\n",
       "      <td>0</td>\n",
       "    </tr>\n",
       "    <tr>\n",
       "      <th>16v4afs</th>\n",
       "      <td>0</td>\n",
       "      <td>1</td>\n",
       "    </tr>\n",
       "    <tr>\n",
       "      <th>16mwkpd</th>\n",
       "      <td>1</td>\n",
       "      <td>0</td>\n",
       "    </tr>\n",
       "    <tr>\n",
       "      <th>1776zqj</th>\n",
       "      <td>1</td>\n",
       "      <td>0</td>\n",
       "    </tr>\n",
       "    <tr>\n",
       "      <th>iq4r91</th>\n",
       "      <td>0</td>\n",
       "      <td>1</td>\n",
       "    </tr>\n",
       "    <tr>\n",
       "      <th>7ydz67</th>\n",
       "      <td>0</td>\n",
       "      <td>1</td>\n",
       "    </tr>\n",
       "    <tr>\n",
       "      <th>16cn4fb</th>\n",
       "      <td>1</td>\n",
       "      <td>0</td>\n",
       "    </tr>\n",
       "    <tr>\n",
       "      <th>cuzm9i</th>\n",
       "      <td>1</td>\n",
       "      <td>0</td>\n",
       "    </tr>\n",
       "    <tr>\n",
       "      <th>10h82k5</th>\n",
       "      <td>0</td>\n",
       "      <td>1</td>\n",
       "    </tr>\n",
       "  </tbody>\n",
       "</table>\n",
       "</div>"
      ],
      "text/plain": [
       "         actually Futurology  predicted Futurology\n",
       "id                                                \n",
       "mpeykb                     0                     1\n",
       "166gns0                    1                     0\n",
       "15qqpot                    1                     0\n",
       "16i563y                    1                     0\n",
       "15uiq28                    1                     0\n",
       "16ar3u8                    1                     0\n",
       "178osme                    0                     1\n",
       "16m2duk                    0                     1\n",
       "165yzac                    1                     0\n",
       "mk7aiq                     1                     0\n",
       "16z2dgk                    1                     0\n",
       "172q9e7                    0                     1\n",
       "16ffv8x                    1                     0\n",
       "zu9paw                     0                     1\n",
       "15wi75l                    1                     0\n",
       "16rlj3m                    1                     0\n",
       "16aya0y                    1                     0\n",
       "16nno9q                    0                     1\n",
       "16phs6a                    1                     0\n",
       "zy34ug                     0                     1\n",
       "15r9p43                    1                     0\n",
       "178f5u2                    1                     0\n",
       "16rrp37                    1                     0\n",
       "16ehq5w                    1                     0\n",
       "16bivxg                    1                     0\n",
       "16actyw                    1                     0\n",
       "178i6oz                    0                     1\n",
       "16k74gp                    1                     0\n",
       "177s5ew                    0                     1\n",
       "16kzlhd                    1                     0\n",
       "15wv0kj                    1                     0\n",
       "16kc5r8                    1                     0\n",
       "16v4afs                    0                     1\n",
       "16mwkpd                    1                     0\n",
       "1776zqj                    1                     0\n",
       "iq4r91                     0                     1\n",
       "7ydz67                     0                     1\n",
       "16cn4fb                    1                     0\n",
       "cuzm9i                     1                     0\n",
       "10h82k5                    0                     1"
      ]
     },
     "execution_count": 275,
     "metadata": {},
     "output_type": "execute_result"
    }
   ],
   "source": [
    "results[results['actually Futurology'] != results['predicted Futurology']]"
   ]
  },
  {
   "cell_type": "code",
   "execution_count": null,
   "id": "91285b4b-9769-4e84-a822-1245f9c2fd1d",
   "metadata": {},
   "outputs": [],
   "source": []
  },
  {
   "cell_type": "code",
   "execution_count": null,
   "id": "f8dc6713-cd3a-4f61-a87b-ceb5a957bcc2",
   "metadata": {},
   "outputs": [],
   "source": []
  }
 ],
 "metadata": {
  "kernelspec": {
   "display_name": "Python 3 (ipykernel)",
   "language": "python",
   "name": "python3"
  },
  "language_info": {
   "codemirror_mode": {
    "name": "ipython",
    "version": 3
   },
   "file_extension": ".py",
   "mimetype": "text/x-python",
   "name": "python",
   "nbconvert_exporter": "python",
   "pygments_lexer": "ipython3",
   "version": "3.11.4"
  }
 },
 "nbformat": 4,
 "nbformat_minor": 5
}
