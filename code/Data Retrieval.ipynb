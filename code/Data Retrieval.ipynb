{
 "cells": [
  {
   "cell_type": "code",
   "execution_count": 54,
   "id": "5ae6deb8-875c-4e58-934c-5089a7324a5f",
   "metadata": {
    "tags": []
   },
   "outputs": [],
   "source": [
    "import praw\n",
    "import pandas as pd\n",
    "import datetime"
   ]
  },
  {
   "cell_type": "code",
   "execution_count": 55,
   "id": "75bba883-0376-4782-b290-57522bca86c2",
   "metadata": {
    "tags": []
   },
   "outputs": [],
   "source": [
    "config = pd.read_json('../config.json', typ='series')"
   ]
  },
  {
   "cell_type": "code",
   "execution_count": null,
   "id": "950b527c-5abd-423a-a117-38f4b7cc3949",
   "metadata": {
    "tags": []
   },
   "outputs": [],
   "source": []
  },
  {
   "cell_type": "code",
   "execution_count": null,
   "id": "46536bc4-b210-4a18-9c2f-14f73ca6c32d",
   "metadata": {},
   "outputs": [],
   "source": []
  },
  {
   "cell_type": "code",
   "execution_count": 56,
   "id": "b108f659-d2ba-47a1-ba32-8756cb265273",
   "metadata": {
    "tags": []
   },
   "outputs": [],
   "source": [
    "reddit = praw.Reddit(\n",
    "    client_id=config['client_id'],\n",
    "    client_secret=config['client_secret'],\n",
    "    user_agent=config['user_agent'],\n",
    "    username=config['username'],\n",
    "    password=config['password']\n",
    ")"
   ]
  },
  {
   "cell_type": "code",
   "execution_count": 57,
   "id": "ae174071-b758-4b39-86d5-4191ac9996e3",
   "metadata": {
    "tags": []
   },
   "outputs": [],
   "source": [
    "## Futurology"
   ]
  },
  {
   "cell_type": "code",
   "execution_count": 58,
   "id": "8a9a8c88-72e0-4bbf-8b59-81a3d0f945e9",
   "metadata": {
    "tags": []
   },
   "outputs": [],
   "source": [
    "subreddit_1 = reddit.subreddit('futurology')"
   ]
  },
  {
   "cell_type": "code",
   "execution_count": 59,
   "id": "6f3e15c0-6ce5-499a-80a1-dbe46b76e198",
   "metadata": {},
   "outputs": [],
   "source": [
    "hot_posts = subreddit_1.hot(limit=1000)\n",
    "rising_posts = subreddit_1.rising(limit=1000)\n",
    "new_posts = subreddit_1.new(limit=1000)\n",
    "top_posts = subreddit_1.top(limit=1000)"
   ]
  },
  {
   "cell_type": "code",
   "execution_count": 60,
   "id": "851619b8-b2db-4027-a56c-121da130f5d1",
   "metadata": {
    "tags": []
   },
   "outputs": [],
   "source": [
    "listings = [(hot_posts, 'hot'), \n",
    "            (rising_posts, 'rising'),\n",
    "            (new_posts, 'new'),\n",
    "            (top_posts, 'top')\n",
    "           ]"
   ]
  },
  {
   "cell_type": "code",
   "execution_count": 61,
   "id": "73728e7a-e495-4785-b61c-c18ccd2e915b",
   "metadata": {
    "tags": []
   },
   "outputs": [],
   "source": [
    "subreddit_1_data = []\n",
    "for listing, label in listings:\n",
    "    for post in listing:\n",
    "        subreddit_1_data.append([label, post.id, post.created_utc, post.title, post.selftext, post.subreddit, post.upvote_ratio, post.url, post.author])"
   ]
  },
  {
   "cell_type": "code",
   "execution_count": 62,
   "id": "55a53b17-b254-4d63-84e3-0c78a7cae6a9",
   "metadata": {
    "tags": []
   },
   "outputs": [],
   "source": [
    "futurology = pd.DataFrame(subreddit_1_data, columns = ['type', 'id','created_utc', 'title', 'self_text', 'subreddit', 'upvote_ratio', 'link_address', 'user'])"
   ]
  },
  {
   "cell_type": "code",
   "execution_count": 63,
   "id": "7650b2f8-7da9-4af1-bced-c157764c2c79",
   "metadata": {},
   "outputs": [],
   "source": [
    "futurology['datetime'] = futurology['created_utc'].apply(lambda time: datetime.datetime.fromtimestamp(time))"
   ]
  },
  {
   "cell_type": "code",
   "execution_count": 64,
   "id": "15759b9b-327a-4881-9be6-000a5c5897de",
   "metadata": {},
   "outputs": [],
   "source": [
    "futurology.drop('created_utc', axis = 1, inplace = True)"
   ]
  },
  {
   "cell_type": "code",
   "execution_count": 65,
   "id": "41914234-211d-449d-b892-31620b62d9e9",
   "metadata": {
    "tags": []
   },
   "outputs": [],
   "source": [
    "futurology_uniques = futurology.drop_duplicates(subset='id')"
   ]
  },
  {
   "cell_type": "code",
   "execution_count": 66,
   "id": "3d6ae4f7-915f-4b21-8d54-579873e789c5",
   "metadata": {
    "tags": []
   },
   "outputs": [],
   "source": [
    "futurology_uniques.set_index('id', inplace = True)"
   ]
  },
  {
   "cell_type": "code",
   "execution_count": null,
   "id": "b465c414-fdb6-4ac9-bc99-f9bbb651bf74",
   "metadata": {
    "tags": []
   },
   "outputs": [],
   "source": []
  },
  {
   "cell_type": "code",
   "execution_count": null,
   "id": "4a1d2031-ece9-41a0-bb89-db03eda0dc78",
   "metadata": {
    "tags": []
   },
   "outputs": [],
   "source": []
  },
  {
   "cell_type": "code",
   "execution_count": 67,
   "id": "0b8d2d59-90e9-4ca5-be44-5a04d39d6698",
   "metadata": {
    "tags": []
   },
   "outputs": [],
   "source": [
    "futurology_uniques.to_csv('../datasets/futurology_' + str(datetime.date.today())+ '_with_links.csv', index=True)"
   ]
  },
  {
   "cell_type": "code",
   "execution_count": 68,
   "id": "3df2c893-585a-4564-9f9f-4240fdc58380",
   "metadata": {
    "tags": []
   },
   "outputs": [],
   "source": [
    "subreddit_2 = reddit.subreddit('scifi')"
   ]
  },
  {
   "cell_type": "code",
   "execution_count": 69,
   "id": "e0d8df9f-b473-417d-a6f0-9f45e35c7754",
   "metadata": {},
   "outputs": [],
   "source": [
    "hot_posts = subreddit_2.hot(limit=1000)\n",
    "rising_posts = subreddit_2.rising(limit=1000)\n",
    "new_posts = subreddit_2.new(limit=1000)\n",
    "top_posts = subreddit_2.top(limit=1000)"
   ]
  },
  {
   "cell_type": "code",
   "execution_count": 70,
   "id": "60fa0f50-02ed-434c-b6d4-f11e5508cbc1",
   "metadata": {
    "tags": []
   },
   "outputs": [],
   "source": [
    "listings = [(hot_posts, 'hot'), \n",
    "            (rising_posts, 'rising'),\n",
    "            (new_posts, 'new'),\n",
    "            (top_posts, 'top')\n",
    "           ]"
   ]
  },
  {
   "cell_type": "code",
   "execution_count": 71,
   "id": "5c4def0d-3e5f-40d9-af3c-c819f5574cf6",
   "metadata": {
    "tags": []
   },
   "outputs": [],
   "source": [
    "subreddit_2_data = []\n",
    "for listing, label in listings:\n",
    "    for post in listing:\n",
    "        subreddit_2_data.append([label, post.id, post.created_utc, post.title, post.selftext, post.subreddit, post.upvote_ratio, post.url, post.author])"
   ]
  },
  {
   "cell_type": "code",
   "execution_count": 72,
   "id": "91c5532e-24cf-45f4-969a-a19a0080a544",
   "metadata": {
    "tags": []
   },
   "outputs": [],
   "source": [
    "scifi = pd.DataFrame(subreddit_2_data, columns = ['type', 'id','created_utc', 'title', 'self_text', 'subreddit', 'upvote_ratio', 'link_address', 'user'])"
   ]
  },
  {
   "cell_type": "code",
   "execution_count": 73,
   "id": "3b9ec444-ad9c-4177-b773-c1114a363705",
   "metadata": {},
   "outputs": [],
   "source": [
    "scifi['datetime'] = scifi['created_utc'].apply(lambda time: datetime.datetime.fromtimestamp(time))"
   ]
  },
  {
   "cell_type": "code",
   "execution_count": 74,
   "id": "35c0def6-019a-46c8-a92a-9f8b84c28779",
   "metadata": {},
   "outputs": [],
   "source": [
    "scifi.drop('created_utc', axis = 1, inplace = True)"
   ]
  },
  {
   "cell_type": "code",
   "execution_count": 75,
   "id": "3af34ac5-cd6a-4720-aca4-ebfaa4f6dd1a",
   "metadata": {
    "tags": []
   },
   "outputs": [],
   "source": [
    "scifi_uniques = scifi.drop_duplicates(subset='id')"
   ]
  },
  {
   "cell_type": "code",
   "execution_count": 76,
   "id": "8542d542-baaf-4dbb-951a-7aee37196fe1",
   "metadata": {
    "tags": []
   },
   "outputs": [],
   "source": [
    "scifi_uniques.set_index('id', inplace = True)"
   ]
  },
  {
   "cell_type": "code",
   "execution_count": 77,
   "id": "e8b32691-672e-4aeb-a8e5-68e8fb9c5034",
   "metadata": {
    "tags": []
   },
   "outputs": [],
   "source": [
    "scifi_uniques.to_csv('../datasets/scifi_' + str(datetime.date.today())+ '_with_links.csv', index=True)"
   ]
  }
 ],
 "metadata": {
  "kernelspec": {
   "display_name": "Python 3 (ipykernel)",
   "language": "python",
   "name": "python3"
  },
  "language_info": {
   "codemirror_mode": {
    "name": "ipython",
    "version": 3
   },
   "file_extension": ".py",
   "mimetype": "text/x-python",
   "name": "python",
   "nbconvert_exporter": "python",
   "pygments_lexer": "ipython3",
   "version": "3.11.4"
  }
 },
 "nbformat": 4,
 "nbformat_minor": 5
}
