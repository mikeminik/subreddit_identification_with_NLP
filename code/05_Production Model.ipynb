{
 "cells": [
  {
   "cell_type": "code",
   "execution_count": 22,
   "id": "4edd738f-1d13-4752-9251-07d5137eefc7",
   "metadata": {
    "tags": []
   },
   "outputs": [],
   "source": [
    "import pandas as pd\n",
    "import numpy as np\n",
    "import matplotlib.pyplot as plt\n",
    "\n",
    "\n",
    "import nltk\n",
    "from nltk.tokenize import sent_tokenize, word_tokenize, RegexpTokenizer\n",
    "from nltk.stem import PorterStemmer, WordNetLemmatizer\n",
    "from nltk.corpus import stopwords, wordnet\n",
    "\n",
    "from sklearn.feature_extraction.text import CountVectorizer, TfidfVectorizer\n",
    "from sklearn.compose import ColumnTransformer\n",
    "from sklearn.pipeline import Pipeline\n",
    "from sklearn.model_selection import GridSearchCV, RandomizedSearchCV\n",
    "from sklearn.naive_bayes import MultinomialNB\n",
    "from sklearn.model_selection import train_test_split\n",
    "from sklearn.preprocessing import OneHotEncoder\n",
    "from sklearn.metrics import confusion_matrix, ConfusionMatrixDisplay, recall_score"
   ]
  },
  {
   "cell_type": "code",
   "execution_count": 23,
   "id": "ad4cb3dd-e1f4-478c-9f62-7e051e2b9c90",
   "metadata": {
    "tags": []
   },
   "outputs": [],
   "source": [
    "pd.set_option('display.max_colwidth', None)"
   ]
  },
  {
   "cell_type": "code",
   "execution_count": 53,
   "id": "8b7d38ed-72c3-4577-85c6-5c4c9fc861f9",
   "metadata": {
    "tags": []
   },
   "outputs": [],
   "source": [
    "model_data = pd.read_csv('../datasets/reddit_data_model_ready.csv')\n",
    "original_reddit_df = pd.read_csv('../datasets/subreddit_data_2023-10-20.csv')"
   ]
  },
  {
   "cell_type": "code",
   "execution_count": 25,
   "id": "113030cc-ce3c-4e53-b46b-f3fd64af8e80",
   "metadata": {
    "tags": []
   },
   "outputs": [],
   "source": [
    "model_data.fillna('NA', inplace = True)"
   ]
  },
  {
   "cell_type": "code",
   "execution_count": 26,
   "id": "46978943-bac9-4fbf-b9eb-3fb66c24efe5",
   "metadata": {
    "tags": []
   },
   "outputs": [
    {
     "data": {
      "text/plain": [
       "Unnamed: 0               0\n",
       "id                       0\n",
       "type                     0\n",
       "title                    0\n",
       "self_text                0\n",
       "subreddit                0\n",
       "upvote_ratio             0\n",
       "link_address             0\n",
       "user                     0\n",
       "datetime                 0\n",
       "title_length_chars       0\n",
       "title_length_words       0\n",
       "title_avg_word_length    0\n",
       "url_content              0\n",
       "url_domain               0\n",
       "external_link            0\n",
       "dtype: int64"
      ]
     },
     "execution_count": 26,
     "metadata": {},
     "output_type": "execute_result"
    }
   ],
   "source": [
    "model_data.isnull().sum()"
   ]
  },
  {
   "cell_type": "code",
   "execution_count": null,
   "id": "2a42e574-3d34-42e3-a2d9-4c49b6da9a08",
   "metadata": {},
   "outputs": [],
   "source": []
  },
  {
   "cell_type": "code",
   "execution_count": 27,
   "id": "1eba5c8e-da54-4a58-aa6c-27c548f51118",
   "metadata": {
    "tags": []
   },
   "outputs": [],
   "source": [
    "transformers = [\n",
    "    ('title_vectorizer', CountVectorizer(binary= True, max_df = 0.9, min_df= 1, ngram_range=(1,1), stop_words=None), 'title'),\n",
    "    ('url_content_vectorizer', CountVectorizer(binary = False, max_df=0.9, min_df=2, ngram_range=(2,2), stop_words='english'), 'url_content'),\n",
    "    ('domain_one_hot', OneHotEncoder(drop='first', handle_unknown = 'ignore'), ['url_domain'])\n",
    "]"
   ]
  },
  {
   "cell_type": "code",
   "execution_count": 28,
   "id": "34cffd99-5601-4113-9e06-fdd02b2b2c3c",
   "metadata": {
    "tags": []
   },
   "outputs": [],
   "source": [
    "pipe_nb = Pipeline([\n",
    "    ('cvecs', ColumnTransformer(transformers, remainder = 'passthrough')),\n",
    "    ('nb', MultinomialNB())\n",
    "])"
   ]
  },
  {
   "cell_type": "code",
   "execution_count": 29,
   "id": "d3c6142e-e7eb-49dc-9d3d-ad15fb230489",
   "metadata": {
    "tags": []
   },
   "outputs": [],
   "source": [
    "X = model_data.loc[: , ['title', 'url_content', 'url_domain']]\n",
    "y = model_data['subreddit']"
   ]
  },
  {
   "cell_type": "code",
   "execution_count": 30,
   "id": "783c51d7-e1c1-4ec9-b8c3-15b5501b92eb",
   "metadata": {
    "tags": []
   },
   "outputs": [
    {
     "data": {
      "text/html": [
       "<style>#sk-container-id-2 {color: black;}#sk-container-id-2 pre{padding: 0;}#sk-container-id-2 div.sk-toggleable {background-color: white;}#sk-container-id-2 label.sk-toggleable__label {cursor: pointer;display: block;width: 100%;margin-bottom: 0;padding: 0.3em;box-sizing: border-box;text-align: center;}#sk-container-id-2 label.sk-toggleable__label-arrow:before {content: \"▸\";float: left;margin-right: 0.25em;color: #696969;}#sk-container-id-2 label.sk-toggleable__label-arrow:hover:before {color: black;}#sk-container-id-2 div.sk-estimator:hover label.sk-toggleable__label-arrow:before {color: black;}#sk-container-id-2 div.sk-toggleable__content {max-height: 0;max-width: 0;overflow: hidden;text-align: left;background-color: #f0f8ff;}#sk-container-id-2 div.sk-toggleable__content pre {margin: 0.2em;color: black;border-radius: 0.25em;background-color: #f0f8ff;}#sk-container-id-2 input.sk-toggleable__control:checked~div.sk-toggleable__content {max-height: 200px;max-width: 100%;overflow: auto;}#sk-container-id-2 input.sk-toggleable__control:checked~label.sk-toggleable__label-arrow:before {content: \"▾\";}#sk-container-id-2 div.sk-estimator input.sk-toggleable__control:checked~label.sk-toggleable__label {background-color: #d4ebff;}#sk-container-id-2 div.sk-label input.sk-toggleable__control:checked~label.sk-toggleable__label {background-color: #d4ebff;}#sk-container-id-2 input.sk-hidden--visually {border: 0;clip: rect(1px 1px 1px 1px);clip: rect(1px, 1px, 1px, 1px);height: 1px;margin: -1px;overflow: hidden;padding: 0;position: absolute;width: 1px;}#sk-container-id-2 div.sk-estimator {font-family: monospace;background-color: #f0f8ff;border: 1px dotted black;border-radius: 0.25em;box-sizing: border-box;margin-bottom: 0.5em;}#sk-container-id-2 div.sk-estimator:hover {background-color: #d4ebff;}#sk-container-id-2 div.sk-parallel-item::after {content: \"\";width: 100%;border-bottom: 1px solid gray;flex-grow: 1;}#sk-container-id-2 div.sk-label:hover label.sk-toggleable__label {background-color: #d4ebff;}#sk-container-id-2 div.sk-serial::before {content: \"\";position: absolute;border-left: 1px solid gray;box-sizing: border-box;top: 0;bottom: 0;left: 50%;z-index: 0;}#sk-container-id-2 div.sk-serial {display: flex;flex-direction: column;align-items: center;background-color: white;padding-right: 0.2em;padding-left: 0.2em;position: relative;}#sk-container-id-2 div.sk-item {position: relative;z-index: 1;}#sk-container-id-2 div.sk-parallel {display: flex;align-items: stretch;justify-content: center;background-color: white;position: relative;}#sk-container-id-2 div.sk-item::before, #sk-container-id-2 div.sk-parallel-item::before {content: \"\";position: absolute;border-left: 1px solid gray;box-sizing: border-box;top: 0;bottom: 0;left: 50%;z-index: -1;}#sk-container-id-2 div.sk-parallel-item {display: flex;flex-direction: column;z-index: 1;position: relative;background-color: white;}#sk-container-id-2 div.sk-parallel-item:first-child::after {align-self: flex-end;width: 50%;}#sk-container-id-2 div.sk-parallel-item:last-child::after {align-self: flex-start;width: 50%;}#sk-container-id-2 div.sk-parallel-item:only-child::after {width: 0;}#sk-container-id-2 div.sk-dashed-wrapped {border: 1px dashed gray;margin: 0 0.4em 0.5em 0.4em;box-sizing: border-box;padding-bottom: 0.4em;background-color: white;}#sk-container-id-2 div.sk-label label {font-family: monospace;font-weight: bold;display: inline-block;line-height: 1.2em;}#sk-container-id-2 div.sk-label-container {text-align: center;}#sk-container-id-2 div.sk-container {/* jupyter's `normalize.less` sets `[hidden] { display: none; }` but bootstrap.min.css set `[hidden] { display: none !important; }` so we also need the `!important` here to be able to override the default hidden behavior on the sphinx rendered scikit-learn.org. See: https://github.com/scikit-learn/scikit-learn/issues/21755 */display: inline-block !important;position: relative;}#sk-container-id-2 div.sk-text-repr-fallback {display: none;}</style><div id=\"sk-container-id-2\" class=\"sk-top-container\"><div class=\"sk-text-repr-fallback\"><pre>Pipeline(steps=[(&#x27;cvecs&#x27;,\n",
       "                 ColumnTransformer(remainder=&#x27;passthrough&#x27;,\n",
       "                                   transformers=[(&#x27;title_vectorizer&#x27;,\n",
       "                                                  CountVectorizer(binary=True,\n",
       "                                                                  max_df=0.9),\n",
       "                                                  &#x27;title&#x27;),\n",
       "                                                 (&#x27;url_content_vectorizer&#x27;,\n",
       "                                                  CountVectorizer(max_df=0.9,\n",
       "                                                                  min_df=2,\n",
       "                                                                  ngram_range=(2,\n",
       "                                                                               2),\n",
       "                                                                  stop_words=&#x27;english&#x27;),\n",
       "                                                  &#x27;url_content&#x27;),\n",
       "                                                 (&#x27;domain_one_hot&#x27;,\n",
       "                                                  OneHotEncoder(drop=&#x27;first&#x27;,\n",
       "                                                                handle_unknown=&#x27;ignore&#x27;),\n",
       "                                                  [&#x27;url_domain&#x27;])])),\n",
       "                (&#x27;nb&#x27;, MultinomialNB())])</pre><b>In a Jupyter environment, please rerun this cell to show the HTML representation or trust the notebook. <br />On GitHub, the HTML representation is unable to render, please try loading this page with nbviewer.org.</b></div><div class=\"sk-container\" hidden><div class=\"sk-item sk-dashed-wrapped\"><div class=\"sk-label-container\"><div class=\"sk-label sk-toggleable\"><input class=\"sk-toggleable__control sk-hidden--visually\" id=\"sk-estimator-id-12\" type=\"checkbox\" ><label for=\"sk-estimator-id-12\" class=\"sk-toggleable__label sk-toggleable__label-arrow\">Pipeline</label><div class=\"sk-toggleable__content\"><pre>Pipeline(steps=[(&#x27;cvecs&#x27;,\n",
       "                 ColumnTransformer(remainder=&#x27;passthrough&#x27;,\n",
       "                                   transformers=[(&#x27;title_vectorizer&#x27;,\n",
       "                                                  CountVectorizer(binary=True,\n",
       "                                                                  max_df=0.9),\n",
       "                                                  &#x27;title&#x27;),\n",
       "                                                 (&#x27;url_content_vectorizer&#x27;,\n",
       "                                                  CountVectorizer(max_df=0.9,\n",
       "                                                                  min_df=2,\n",
       "                                                                  ngram_range=(2,\n",
       "                                                                               2),\n",
       "                                                                  stop_words=&#x27;english&#x27;),\n",
       "                                                  &#x27;url_content&#x27;),\n",
       "                                                 (&#x27;domain_one_hot&#x27;,\n",
       "                                                  OneHotEncoder(drop=&#x27;first&#x27;,\n",
       "                                                                handle_unknown=&#x27;ignore&#x27;),\n",
       "                                                  [&#x27;url_domain&#x27;])])),\n",
       "                (&#x27;nb&#x27;, MultinomialNB())])</pre></div></div></div><div class=\"sk-serial\"><div class=\"sk-item sk-dashed-wrapped\"><div class=\"sk-label-container\"><div class=\"sk-label sk-toggleable\"><input class=\"sk-toggleable__control sk-hidden--visually\" id=\"sk-estimator-id-13\" type=\"checkbox\" ><label for=\"sk-estimator-id-13\" class=\"sk-toggleable__label sk-toggleable__label-arrow\">cvecs: ColumnTransformer</label><div class=\"sk-toggleable__content\"><pre>ColumnTransformer(remainder=&#x27;passthrough&#x27;,\n",
       "                  transformers=[(&#x27;title_vectorizer&#x27;,\n",
       "                                 CountVectorizer(binary=True, max_df=0.9),\n",
       "                                 &#x27;title&#x27;),\n",
       "                                (&#x27;url_content_vectorizer&#x27;,\n",
       "                                 CountVectorizer(max_df=0.9, min_df=2,\n",
       "                                                 ngram_range=(2, 2),\n",
       "                                                 stop_words=&#x27;english&#x27;),\n",
       "                                 &#x27;url_content&#x27;),\n",
       "                                (&#x27;domain_one_hot&#x27;,\n",
       "                                 OneHotEncoder(drop=&#x27;first&#x27;,\n",
       "                                               handle_unknown=&#x27;ignore&#x27;),\n",
       "                                 [&#x27;url_domain&#x27;])])</pre></div></div></div><div class=\"sk-parallel\"><div class=\"sk-parallel-item\"><div class=\"sk-item\"><div class=\"sk-label-container\"><div class=\"sk-label sk-toggleable\"><input class=\"sk-toggleable__control sk-hidden--visually\" id=\"sk-estimator-id-14\" type=\"checkbox\" ><label for=\"sk-estimator-id-14\" class=\"sk-toggleable__label sk-toggleable__label-arrow\">title_vectorizer</label><div class=\"sk-toggleable__content\"><pre>title</pre></div></div></div><div class=\"sk-serial\"><div class=\"sk-item\"><div class=\"sk-estimator sk-toggleable\"><input class=\"sk-toggleable__control sk-hidden--visually\" id=\"sk-estimator-id-15\" type=\"checkbox\" ><label for=\"sk-estimator-id-15\" class=\"sk-toggleable__label sk-toggleable__label-arrow\">CountVectorizer</label><div class=\"sk-toggleable__content\"><pre>CountVectorizer(binary=True, max_df=0.9)</pre></div></div></div></div></div></div><div class=\"sk-parallel-item\"><div class=\"sk-item\"><div class=\"sk-label-container\"><div class=\"sk-label sk-toggleable\"><input class=\"sk-toggleable__control sk-hidden--visually\" id=\"sk-estimator-id-16\" type=\"checkbox\" ><label for=\"sk-estimator-id-16\" class=\"sk-toggleable__label sk-toggleable__label-arrow\">url_content_vectorizer</label><div class=\"sk-toggleable__content\"><pre>url_content</pre></div></div></div><div class=\"sk-serial\"><div class=\"sk-item\"><div class=\"sk-estimator sk-toggleable\"><input class=\"sk-toggleable__control sk-hidden--visually\" id=\"sk-estimator-id-17\" type=\"checkbox\" ><label for=\"sk-estimator-id-17\" class=\"sk-toggleable__label sk-toggleable__label-arrow\">CountVectorizer</label><div class=\"sk-toggleable__content\"><pre>CountVectorizer(max_df=0.9, min_df=2, ngram_range=(2, 2), stop_words=&#x27;english&#x27;)</pre></div></div></div></div></div></div><div class=\"sk-parallel-item\"><div class=\"sk-item\"><div class=\"sk-label-container\"><div class=\"sk-label sk-toggleable\"><input class=\"sk-toggleable__control sk-hidden--visually\" id=\"sk-estimator-id-18\" type=\"checkbox\" ><label for=\"sk-estimator-id-18\" class=\"sk-toggleable__label sk-toggleable__label-arrow\">domain_one_hot</label><div class=\"sk-toggleable__content\"><pre>[&#x27;url_domain&#x27;]</pre></div></div></div><div class=\"sk-serial\"><div class=\"sk-item\"><div class=\"sk-estimator sk-toggleable\"><input class=\"sk-toggleable__control sk-hidden--visually\" id=\"sk-estimator-id-19\" type=\"checkbox\" ><label for=\"sk-estimator-id-19\" class=\"sk-toggleable__label sk-toggleable__label-arrow\">OneHotEncoder</label><div class=\"sk-toggleable__content\"><pre>OneHotEncoder(drop=&#x27;first&#x27;, handle_unknown=&#x27;ignore&#x27;)</pre></div></div></div></div></div></div><div class=\"sk-parallel-item\"><div class=\"sk-item\"><div class=\"sk-label-container\"><div class=\"sk-label sk-toggleable\"><input class=\"sk-toggleable__control sk-hidden--visually\" id=\"sk-estimator-id-20\" type=\"checkbox\" ><label for=\"sk-estimator-id-20\" class=\"sk-toggleable__label sk-toggleable__label-arrow\">remainder</label><div class=\"sk-toggleable__content\"><pre>[]</pre></div></div></div><div class=\"sk-serial\"><div class=\"sk-item\"><div class=\"sk-estimator sk-toggleable\"><input class=\"sk-toggleable__control sk-hidden--visually\" id=\"sk-estimator-id-21\" type=\"checkbox\" ><label for=\"sk-estimator-id-21\" class=\"sk-toggleable__label sk-toggleable__label-arrow\">passthrough</label><div class=\"sk-toggleable__content\"><pre>passthrough</pre></div></div></div></div></div></div></div></div><div class=\"sk-item\"><div class=\"sk-estimator sk-toggleable\"><input class=\"sk-toggleable__control sk-hidden--visually\" id=\"sk-estimator-id-22\" type=\"checkbox\" ><label for=\"sk-estimator-id-22\" class=\"sk-toggleable__label sk-toggleable__label-arrow\">MultinomialNB</label><div class=\"sk-toggleable__content\"><pre>MultinomialNB()</pre></div></div></div></div></div></div></div>"
      ],
      "text/plain": [
       "Pipeline(steps=[('cvecs',\n",
       "                 ColumnTransformer(remainder='passthrough',\n",
       "                                   transformers=[('title_vectorizer',\n",
       "                                                  CountVectorizer(binary=True,\n",
       "                                                                  max_df=0.9),\n",
       "                                                  'title'),\n",
       "                                                 ('url_content_vectorizer',\n",
       "                                                  CountVectorizer(max_df=0.9,\n",
       "                                                                  min_df=2,\n",
       "                                                                  ngram_range=(2,\n",
       "                                                                               2),\n",
       "                                                                  stop_words='english'),\n",
       "                                                  'url_content'),\n",
       "                                                 ('domain_one_hot',\n",
       "                                                  OneHotEncoder(drop='first',\n",
       "                                                                handle_unknown='ignore'),\n",
       "                                                  ['url_domain'])])),\n",
       "                ('nb', MultinomialNB())])"
      ]
     },
     "execution_count": 30,
     "metadata": {},
     "output_type": "execute_result"
    }
   ],
   "source": [
    "pipe_nb.fit(X, y)"
   ]
  },
  {
   "cell_type": "code",
   "execution_count": 31,
   "id": "0a932cdf-7817-4dc0-8e0b-2fed96ae1390",
   "metadata": {
    "tags": []
   },
   "outputs": [
    {
     "data": {
      "text/plain": [
       "0.9805798687089715"
      ]
     },
     "execution_count": 31,
     "metadata": {},
     "output_type": "execute_result"
    }
   ],
   "source": [
    "pipe_nb.score(X, y)"
   ]
  },
  {
   "cell_type": "code",
   "execution_count": 32,
   "id": "6d9e0181-4af7-4a93-b1a8-f8f0ecc26c7f",
   "metadata": {
    "tags": []
   },
   "outputs": [],
   "source": [
    "y_preds = pipe_nb.predict(X)"
   ]
  },
  {
   "cell_type": "code",
   "execution_count": 33,
   "id": "1775ed36-eb7a-4e43-aca2-c72bced5c7f8",
   "metadata": {
    "tags": []
   },
   "outputs": [
    {
     "data": {
      "text/plain": [
       "<sklearn.metrics._plot.confusion_matrix.ConfusionMatrixDisplay at 0x2bb56b5c510>"
      ]
     },
     "execution_count": 33,
     "metadata": {},
     "output_type": "execute_result"
    },
    {
     "data": {
      "image/png": "[encoded data removed]",
      "text/plain": [
       "<Figure size 640x480 with 2 Axes>"
      ]
     },
     "metadata": {},
     "output_type": "display_data"
    }
   ],
   "source": [
    "ConfusionMatrixDisplay.from_estimator(pipe_nb, X, y, cmap = 'Blues', display_labels=['r/Scifi', 'r/Futurology'])"
   ]
  },
  {
   "cell_type": "code",
   "execution_count": 34,
   "id": "4628938d-bbdb-457d-a146-b8e819703deb",
   "metadata": {
    "tags": []
   },
   "outputs": [
    {
     "data": {
      "text/plain": [
       "0.9651917404129794"
      ]
     },
     "execution_count": 34,
     "metadata": {},
     "output_type": "execute_result"
    }
   ],
   "source": [
    "recall_score(y, y_preds)"
   ]
  },
  {
   "cell_type": "code",
   "execution_count": 35,
   "id": "dc8c57ad-b42e-4031-9c97-22681732539f",
   "metadata": {
    "tags": []
   },
   "outputs": [
    {
     "data": {
      "text/plain": [
       "Int64Index([1766, 2227, 2322, 2416, 2422, 2558, 2664, 2818, 3124, 3174, 3355,\n",
       "            3530],\n",
       "           dtype='int64')"
      ]
     },
     "execution_count": 35,
     "metadata": {},
     "output_type": "execute_result"
    }
   ],
   "source": [
    "results = pd.DataFrame({\n",
    "    'actually Futurology' : y,\n",
    "    'predicted Futurology' : y_preds\n",
    "})\n",
    "\n",
    "false_positives = results[(results['actually Futurology'] == 0) & (results['predicted Futurology'] == 1)].index\n",
    "\n",
    "false_positives"
   ]
  },
  {
   "cell_type": "code",
   "execution_count": 36,
   "id": "ff39d03b-9a4a-46cc-9f66-69d34807e991",
   "metadata": {
    "tags": []
   },
   "outputs": [
    {
     "data": {
      "text/plain": [
       "Int64Index([  36,   41,   42,   50,   81,  102,  120,  144,  148,  156,  160,\n",
       "             169,  193,  215,  243,  253,  268,  271,  277,  286,  296,  302,\n",
       "             321,  324,  329,  330,  364,  372,  381,  403,  428,  435,  439,\n",
       "             455,  457,  471,  491,  501,  514,  520,  526,  528,  542,  555,\n",
       "             556,  564,  575,  588,  597,  608,  611,  615,  641,  696,  897,\n",
       "            1052, 1200, 1518, 1605],\n",
       "           dtype='int64')"
      ]
     },
     "execution_count": 36,
     "metadata": {},
     "output_type": "execute_result"
    }
   ],
   "source": [
    "false_negatives = results[(results['actually Futurology'] == 1) & (results['predicted Futurology'] == 0)].index\n",
    "\n",
    "false_negatives"
   ]
  },
  {
   "cell_type": "code",
   "execution_count": 37,
   "id": "fc751907-031a-4ac6-a212-b038d8d13b0c",
   "metadata": {
    "tags": []
   },
   "outputs": [],
   "source": [
    "post_prediction_df = model_data.copy()"
   ]
  },
  {
   "cell_type": "code",
   "execution_count": 38,
   "id": "bf2b19b0-d360-452a-8769-98b38dc4c600",
   "metadata": {
    "tags": []
   },
   "outputs": [],
   "source": [
    "post_prediction_df['pred_futurology'] = y_preds"
   ]
  },
  {
   "cell_type": "code",
   "execution_count": 39,
   "id": "600eaef9-8ffa-4771-92c0-856838545d3d",
   "metadata": {
    "tags": []
   },
   "outputs": [
    {
     "data": {
      "text/plain": [
       "(3656, 17)"
      ]
     },
     "execution_count": 39,
     "metadata": {},
     "output_type": "execute_result"
    }
   ],
   "source": [
    "post_prediction_df.shape"
   ]
  },
  {
   "cell_type": "code",
   "execution_count": 40,
   "id": "c7b8261e-036a-41d0-bd3f-e6eda3898553",
   "metadata": {
    "tags": []
   },
   "outputs": [],
   "source": [
    "post_prediction_df['space'] = ' '"
   ]
  },
  {
   "cell_type": "code",
   "execution_count": null,
   "id": "e7e51de9-08f4-4b96-adbd-c42de6986ffd",
   "metadata": {},
   "outputs": [],
   "source": []
  },
  {
   "cell_type": "code",
   "execution_count": 41,
   "id": "a1efe9d8-387e-42c1-b6a4-aa25a26427bc",
   "metadata": {
    "tags": []
   },
   "outputs": [],
   "source": [
    "post_prediction_df['title_and_url_content'] = post_prediction_df['title'] + post_prediction_df['space'] + post_prediction_df['url_content']"
   ]
  },
  {
   "cell_type": "code",
   "execution_count": null,
   "id": "44144b0f-0d76-457c-8d99-3062704a0361",
   "metadata": {
    "tags": []
   },
   "outputs": [],
   "source": []
  },
  {
   "cell_type": "code",
   "execution_count": null,
   "id": "fde727b2-954d-4d61-a233-f049df46e1fb",
   "metadata": {
    "tags": []
   },
   "outputs": [],
   "source": []
  },
  {
   "cell_type": "code",
   "execution_count": 42,
   "id": "4707fde6-cac4-4d48-8096-ff6eb2dbc6e2",
   "metadata": {
    "tags": []
   },
   "outputs": [],
   "source": [
    "post_prediction_df_X = post_prediction_df.loc[ post_prediction_df['pred_futurology'] == 1 , ['title_and_url_content']]"
   ]
  },
  {
   "cell_type": "code",
   "execution_count": 43,
   "id": "ab6d72e4-3700-468d-ac35-a014ada7bf40",
   "metadata": {
    "tags": []
   },
   "outputs": [
    {
     "data": {
      "text/plain": [
       "(1648,)"
      ]
     },
     "execution_count": 43,
     "metadata": {},
     "output_type": "execute_result"
    }
   ],
   "source": [
    "X = post_prediction_df_X['title_and_url_content']\n",
    "X.shape"
   ]
  },
  {
   "cell_type": "code",
   "execution_count": 44,
   "id": "840a3455-0d82-4889-ac7b-a4bf681fdb52",
   "metadata": {
    "tags": []
   },
   "outputs": [],
   "source": [
    "cvec = CountVectorizer(stop_words='english', ngram_range=(2,4))"
   ]
  },
  {
   "cell_type": "code",
   "execution_count": 45,
   "id": "5095d567-2ef4-41db-b03d-a237b39666be",
   "metadata": {
    "tags": []
   },
   "outputs": [],
   "source": [
    "X_cvec = cvec.fit_transform(X)"
   ]
  },
  {
   "cell_type": "code",
   "execution_count": 46,
   "id": "634f143e-0484-4015-ac0a-90e865b1dc36",
   "metadata": {
    "tags": []
   },
   "outputs": [],
   "source": [
    "X_df = pd.DataFrame(X_cvec.todense(), columns= cvec.get_feature_names_out())"
   ]
  },
  {
   "cell_type": "code",
   "execution_count": null,
   "id": "22d44b78-b9bc-44b1-a568-ea3aa4095f21",
   "metadata": {
    "tags": []
   },
   "outputs": [],
   "source": []
  },
  {
   "cell_type": "code",
   "execution_count": 47,
   "id": "ddd5030c-680c-4732-9bed-963fcd60f123",
   "metadata": {
    "tags": []
   },
   "outputs": [
    {
     "data": {
      "text/plain": [
       "Text(0.5, 1.0, 'Most Common Futurology Title Terms (NGrams (2,4))')"
      ]
     },
     "execution_count": 47,
     "metadata": {},
     "output_type": "execute_result"
    },
    {
     "data": {
      "image/png": "[encoded data removed]",
      "text/plain": [
       "<Figure size 800x800 with 1 Axes>"
      ]
     },
     "metadata": {},
     "output_type": "display_data"
    }
   ],
   "source": [
    "plt.figure(figsize=(8, 8))\n",
    "X_df.sum().sort_values(ascending=False).head(25).plot.barh( color = 'navy')\n",
    "plt.title('Most Common Futurology Title Terms (NGrams (2,4))', size=14)\n",
    "#plt.savefig('../images/common_ngrams.png')"
   ]
  },
  {
   "cell_type": "code",
   "execution_count": 48,
   "id": "882ff351-af18-4647-a866-1deac85304fd",
   "metadata": {
    "tags": []
   },
   "outputs": [],
   "source": [
    "post_prediction_df_urls = post_prediction_df.loc[ post_prediction_df['pred_futurology'] == 1 , ['url_domain']]"
   ]
  },
  {
   "cell_type": "code",
   "execution_count": 49,
   "id": "74626cc7-b8fd-4016-b0da-032a3d26017f",
   "metadata": {
    "tags": []
   },
   "outputs": [
    {
     "data": {
      "text/plain": [
       "Text(0.5, 1.0, 'Most Common Externally Linked To Sources')"
      ]
     },
     "execution_count": 49,
     "metadata": {},
     "output_type": "execute_result"
    },
    {
     "data": {
      "image/png": "[encoded data removed]",
      "text/plain": [
       "<Figure size 800x800 with 1 Axes>"
      ]
     },
     "metadata": {},
     "output_type": "display_data"
    }
   ],
   "source": [
    "plt.figure(figsize=(8, 8))\n",
    "post_prediction_df_urls.value_counts()[1:26].plot.barh()\n",
    "plt.title('Most Common Externally Linked To Sources', size=14)\n",
    "#plt.savefig('../images/common_domains.png')"
   ]
  },
  {
   "cell_type": "code",
   "execution_count": 50,
   "id": "3d4c1bcc-b33f-4269-9ead-086df2be80a3",
   "metadata": {},
   "outputs": [
    {
     "data": {
      "text/plain": [
       "Int64Index([1766, 2227, 2322, 2416, 2422, 2558, 2664, 2818, 3124, 3174, 3355,\n",
       "            3530],\n",
       "           dtype='int64')"
      ]
     },
     "execution_count": 50,
     "metadata": {},
     "output_type": "execute_result"
    }
   ],
   "source": [
    "results = pd.DataFrame({\n",
    "    'actually Futurology' : y,\n",
    "    'predicted Futurology' : y_preds\n",
    "})\n",
    "\n",
    "false_positives = results[(results['actually Futurology'] == 0) & (results['predicted Futurology'] == 1)].index\n",
    "\n",
    "false_positives"
   ]
  },
  {
   "cell_type": "code",
   "execution_count": 51,
   "id": "0bf3e327-8556-426f-bbc7-231b9760c57f",
   "metadata": {
    "tags": []
   },
   "outputs": [
    {
     "data": {
      "text/plain": [
       "Int64Index([  36,   41,   42,   50,   81,  102,  120,  144,  148,  156,  160,\n",
       "             169,  193,  215,  243,  253,  268,  271,  277,  286,  296,  302,\n",
       "             321,  324,  329,  330,  364,  372,  381,  403,  428,  435,  439,\n",
       "             455,  457,  471,  491,  501,  514,  520,  526,  528,  542,  555,\n",
       "             556,  564,  575,  588,  597,  608,  611,  615,  641,  696,  897,\n",
       "            1052, 1200, 1518, 1605],\n",
       "           dtype='int64')"
      ]
     },
     "execution_count": 51,
     "metadata": {},
     "output_type": "execute_result"
    }
   ],
   "source": [
    "false_negatives = results[(results['actually Futurology'] == 1) & (results['predicted Futurology'] == 0)].index\n",
    "\n",
    "false_negatives"
   ]
  },
  {
   "cell_type": "code",
   "execution_count": 56,
   "id": "3d3d0873-de9a-413f-bf3f-197f11197019",
   "metadata": {
    "tags": []
   },
   "outputs": [
    {
     "data": {
      "text/html": [
       "<div>\n",
       "<style scoped>\n",
       "    .dataframe tbody tr th:only-of-type {\n",
       "        vertical-align: middle;\n",
       "    }\n",
       "\n",
       "    .dataframe tbody tr th {\n",
       "        vertical-align: top;\n",
       "    }\n",
       "\n",
       "    .dataframe thead th {\n",
       "        text-align: right;\n",
       "    }\n",
       "</style>\n",
       "<table border=\"1\" class=\"dataframe\">\n",
       "  <thead>\n",
       "    <tr style=\"text-align: right;\">\n",
       "      <th></th>\n",
       "      <th>title</th>\n",
       "      <th>subreddit</th>\n",
       "    </tr>\n",
       "  </thead>\n",
       "  <tbody>\n",
       "    <tr>\n",
       "      <th>1766</th>\n",
       "      <td>Ice 9</td>\n",
       "      <td>scifi</td>\n",
       "    </tr>\n",
       "    <tr>\n",
       "      <th>2227</th>\n",
       "      <td>What technologies could potentially be invented in the near future?</td>\n",
       "      <td>scifi</td>\n",
       "    </tr>\n",
       "    <tr>\n",
       "      <th>2322</th>\n",
       "      <td>Due to the universe's expansion, 94% of the galaxies in the observable universe are now beyond reach even at light speed. Hypothetically, if we intercepted a radio signal travelling for hundreds of millions of years from a civilization in one of those galaxies, we'd never be able to respond.</td>\n",
       "      <td>scifi</td>\n",
       "    </tr>\n",
       "    <tr>\n",
       "      <th>2416</th>\n",
       "      <td>Would you opt to forgo a natural birth and use a detachable, artificial womb if the technology became available in the future?</td>\n",
       "      <td>scifi</td>\n",
       "    </tr>\n",
       "    <tr>\n",
       "      <th>2422</th>\n",
       "      <td>How to cause a global dark age?</td>\n",
       "      <td>scifi</td>\n",
       "    </tr>\n",
       "    <tr>\n",
       "      <th>2558</th>\n",
       "      <td>According to Nikola Tesla, Pyramids in the Egypt were giant transmitters of energy. What's your opinion? Is it true?</td>\n",
       "      <td>scifi</td>\n",
       "    </tr>\n",
       "    <tr>\n",
       "      <th>2664</th>\n",
       "      <td>Join the Battle for Net Neutrality! Don't let the FCC destroy the internet!</td>\n",
       "      <td>scifi</td>\n",
       "    </tr>\n",
       "    <tr>\n",
       "      <th>2818</th>\n",
       "      <td>An Engineer at a mining outpost on the far side of Moon is at the end of his 3-year contract with Lunar Industries. With no Live comms, he spends time sending recorded messages to his family. One day, he spies on his AI computer GERTY making a live call to Earth, and things start to unravel!</td>\n",
       "      <td>scifi</td>\n",
       "    </tr>\n",
       "    <tr>\n",
       "      <th>3124</th>\n",
       "      <td>Awful news: Iain M Banks has late-stage cancer and less than a year to live</td>\n",
       "      <td>scifi</td>\n",
       "    </tr>\n",
       "    <tr>\n",
       "      <th>3174</th>\n",
       "      <td>San Francisco becomes the first US city to ban facial recognition by government agencies</td>\n",
       "      <td>scifi</td>\n",
       "    </tr>\n",
       "    <tr>\n",
       "      <th>3355</th>\n",
       "      <td>Scientists at Harvard and MIT have collaborated to discover an entirely new form of matter. They have created molecules from light - and the properties of these new photon-molecules are similar to that of a LIGHT SABER</td>\n",
       "      <td>scifi</td>\n",
       "    </tr>\n",
       "    <tr>\n",
       "      <th>3530</th>\n",
       "      <td>Earthlings likely to welcome alien life rather than panicking, study shows - Should aliens be discovered, public reaction is likely to be positive, say researchers – despite alarming fictional portrayals of contact</td>\n",
       "      <td>scifi</td>\n",
       "    </tr>\n",
       "  </tbody>\n",
       "</table>\n",
       "</div>"
      ],
      "text/plain": [
       "                                                                                                                                                                                                                                                                                                     title  \\\n",
       "1766                                                                                                                                                                                                                                                                                                 Ice 9   \n",
       "2227                                                                                                                                                                                                                                   What technologies could potentially be invented in the near future?   \n",
       "2322  Due to the universe's expansion, 94% of the galaxies in the observable universe are now beyond reach even at light speed. Hypothetically, if we intercepted a radio signal travelling for hundreds of millions of years from a civilization in one of those galaxies, we'd never be able to respond.   \n",
       "2416                                                                                                                                                                        Would you opt to forgo a natural birth and use a detachable, artificial womb if the technology became available in the future?   \n",
       "2422                                                                                                                                                                                                                                                                       How to cause a global dark age?   \n",
       "2558                                                                                                                                                                                  According to Nikola Tesla, Pyramids in the Egypt were giant transmitters of energy. What's your opinion? Is it true?   \n",
       "2664                                                                                                                                                                                                                           Join the Battle for Net Neutrality! Don't let the FCC destroy the internet!   \n",
       "2818  An Engineer at a mining outpost on the far side of Moon is at the end of his 3-year contract with Lunar Industries. With no Live comms, he spends time sending recorded messages to his family. One day, he spies on his AI computer GERTY making a live call to Earth, and things start to unravel!   \n",
       "3124                                                                                                                                                                                                                           Awful news: Iain M Banks has late-stage cancer and less than a year to live   \n",
       "3174                                                                                                                                                                                                              San Francisco becomes the first US city to ban facial recognition by government agencies   \n",
       "3355                                                                            Scientists at Harvard and MIT have collaborated to discover an entirely new form of matter. They have created molecules from light - and the properties of these new photon-molecules are similar to that of a LIGHT SABER   \n",
       "3530                                                                                Earthlings likely to welcome alien life rather than panicking, study shows - Should aliens be discovered, public reaction is likely to be positive, say researchers – despite alarming fictional portrayals of contact   \n",
       "\n",
       "     subreddit  \n",
       "1766     scifi  \n",
       "2227     scifi  \n",
       "2322     scifi  \n",
       "2416     scifi  \n",
       "2422     scifi  \n",
       "2558     scifi  \n",
       "2664     scifi  \n",
       "2818     scifi  \n",
       "3124     scifi  \n",
       "3174     scifi  \n",
       "3355     scifi  \n",
       "3530     scifi  "
      ]
     },
     "execution_count": 56,
     "metadata": {},
     "output_type": "execute_result"
    }
   ],
   "source": [
    "original_reddit_df.iloc[[1766, 2227, 2322, 2416, 2422, 2558, 2664, 2818, 3124, 3174, 3355,\n",
    "            3530], [2, 4]]"
   ]
  },
  {
   "cell_type": "code",
   "execution_count": 57,
   "id": "0d561349-29ad-45cc-9666-5504ecee8cf2",
   "metadata": {
    "tags": []
   },
   "outputs": [
    {
     "data": {
      "text/html": [
       "<div>\n",
       "<style scoped>\n",
       "    .dataframe tbody tr th:only-of-type {\n",
       "        vertical-align: middle;\n",
       "    }\n",
       "\n",
       "    .dataframe tbody tr th {\n",
       "        vertical-align: top;\n",
       "    }\n",
       "\n",
       "    .dataframe thead th {\n",
       "        text-align: right;\n",
       "    }\n",
       "</style>\n",
       "<table border=\"1\" class=\"dataframe\">\n",
       "  <thead>\n",
       "    <tr style=\"text-align: right;\">\n",
       "      <th></th>\n",
       "      <th>title</th>\n",
       "      <th>subreddit</th>\n",
       "    </tr>\n",
       "  </thead>\n",
       "  <tbody>\n",
       "    <tr>\n",
       "      <th>36</th>\n",
       "      <td>Will we ever send something out of our universe?</td>\n",
       "      <td>Futurology</td>\n",
       "    </tr>\n",
       "    <tr>\n",
       "      <th>41</th>\n",
       "      <td>Genuine question</td>\n",
       "      <td>Futurology</td>\n",
       "    </tr>\n",
       "    <tr>\n",
       "      <th>42</th>\n",
       "      <td>Remembering Jacque Fresco</td>\n",
       "      <td>Futurology</td>\n",
       "    </tr>\n",
       "    <tr>\n",
       "      <th>50</th>\n",
       "      <td>What recent/contemporary futurists should I be reading?</td>\n",
       "      <td>Futurology</td>\n",
       "    </tr>\n",
       "    <tr>\n",
       "      <th>81</th>\n",
       "      <td>How should I feel about the future?</td>\n",
       "      <td>Futurology</td>\n",
       "    </tr>\n",
       "    <tr>\n",
       "      <th>102</th>\n",
       "      <td>Best prediction from an underestimated source?</td>\n",
       "      <td>Futurology</td>\n",
       "    </tr>\n",
       "    <tr>\n",
       "      <th>120</th>\n",
       "      <td>Should I be optimistic about the future?</td>\n",
       "      <td>Futurology</td>\n",
       "    </tr>\n",
       "    <tr>\n",
       "      <th>144</th>\n",
       "      <td>What will the future of space travel be like and humanity?</td>\n",
       "      <td>Futurology</td>\n",
       "    </tr>\n",
       "    <tr>\n",
       "      <th>148</th>\n",
       "      <td>What are your thoughts on the possibility of a base on the surface of Mars?</td>\n",
       "      <td>Futurology</td>\n",
       "    </tr>\n",
       "    <tr>\n",
       "      <th>156</th>\n",
       "      <td>10 years ago, YouTube served as a platform for a Transhumanist series called H+. Today it stands as one of the more prescient pieces of the 2000's on the risks and dangers of this post-modern digital Pandora's Box</td>\n",
       "      <td>Futurology</td>\n",
       "    </tr>\n",
       "    <tr>\n",
       "      <th>160</th>\n",
       "      <td>What might life be like after waking up from cryogenics?</td>\n",
       "      <td>Futurology</td>\n",
       "    </tr>\n",
       "    <tr>\n",
       "      <th>169</th>\n",
       "      <td>\"Strategically Charting My Computer Science Journey: Seeking Insights on High-ROI Technologies\"</td>\n",
       "      <td>Futurology</td>\n",
       "    </tr>\n",
       "    <tr>\n",
       "      <th>193</th>\n",
       "      <td>Atoms and Bits ( the future?)</td>\n",
       "      <td>Futurology</td>\n",
       "    </tr>\n",
       "    <tr>\n",
       "      <th>215</th>\n",
       "      <td>Time-Travel for future degenerates/ Grandfather paradox form</td>\n",
       "      <td>Futurology</td>\n",
       "    </tr>\n",
       "    <tr>\n",
       "      <th>243</th>\n",
       "      <td>Can AI finish the oldest know sheet of music from 1,950 BCE??</td>\n",
       "      <td>Futurology</td>\n",
       "    </tr>\n",
       "    <tr>\n",
       "      <th>253</th>\n",
       "      <td>How come AI would be better?</td>\n",
       "      <td>Futurology</td>\n",
       "    </tr>\n",
       "    <tr>\n",
       "      <th>268</th>\n",
       "      <td>Directed energy weapons making jump from sci-fi to real world</td>\n",
       "      <td>Futurology</td>\n",
       "    </tr>\n",
       "    <tr>\n",
       "      <th>271</th>\n",
       "      <td>Is a speciation event inevitable from Homo Sapiens Sapiens?</td>\n",
       "      <td>Futurology</td>\n",
       "    </tr>\n",
       "    <tr>\n",
       "      <th>277</th>\n",
       "      <td>What treatments might help with Autism?</td>\n",
       "      <td>Futurology</td>\n",
       "    </tr>\n",
       "    <tr>\n",
       "      <th>286</th>\n",
       "      <td>Personal Protective Shield</td>\n",
       "      <td>Futurology</td>\n",
       "    </tr>\n",
       "    <tr>\n",
       "      <th>296</th>\n",
       "      <td>What do you think the potential is for flesh and biopunk given the science and realism?</td>\n",
       "      <td>Futurology</td>\n",
       "    </tr>\n",
       "    <tr>\n",
       "      <th>302</th>\n",
       "      <td>Why are there so many anomalies in the universe?</td>\n",
       "      <td>Futurology</td>\n",
       "    </tr>\n",
       "    <tr>\n",
       "      <th>321</th>\n",
       "      <td>What are your predictions for the future?</td>\n",
       "      <td>Futurology</td>\n",
       "    </tr>\n",
       "    <tr>\n",
       "      <th>324</th>\n",
       "      <td>Does Cloud Bursting Technology Exist?</td>\n",
       "      <td>Futurology</td>\n",
       "    </tr>\n",
       "    <tr>\n",
       "      <th>329</th>\n",
       "      <td>I have this idea ive been thinking on, and I'm sure somebody else is already theorized about it</td>\n",
       "      <td>Futurology</td>\n",
       "    </tr>\n",
       "    <tr>\n",
       "      <th>330</th>\n",
       "      <td>What interplanetary wars might look like in the future</td>\n",
       "      <td>Futurology</td>\n",
       "    </tr>\n",
       "    <tr>\n",
       "      <th>364</th>\n",
       "      <td>What does 2033(10 years from now) look like to you?</td>\n",
       "      <td>Futurology</td>\n",
       "    </tr>\n",
       "    <tr>\n",
       "      <th>372</th>\n",
       "      <td>What role do you think non-profits and NGOs play in Futurology?</td>\n",
       "      <td>Futurology</td>\n",
       "    </tr>\n",
       "    <tr>\n",
       "      <th>381</th>\n",
       "      <td>The Good And Bad News About Scientific Advancement</td>\n",
       "      <td>Futurology</td>\n",
       "    </tr>\n",
       "    <tr>\n",
       "      <th>403</th>\n",
       "      <td>Subscriptions</td>\n",
       "      <td>Futurology</td>\n",
       "    </tr>\n",
       "    <tr>\n",
       "      <th>428</th>\n",
       "      <td>Is John Horgan’s End of Science book correct?</td>\n",
       "      <td>Futurology</td>\n",
       "    </tr>\n",
       "    <tr>\n",
       "      <th>435</th>\n",
       "      <td>What will music sound like in 2024</td>\n",
       "      <td>Futurology</td>\n",
       "    </tr>\n",
       "    <tr>\n",
       "      <th>439</th>\n",
       "      <td>Why are we so early?</td>\n",
       "      <td>Futurology</td>\n",
       "    </tr>\n",
       "    <tr>\n",
       "      <th>455</th>\n",
       "      <td>If you could genetically engineer one thing for your body; what would it be?</td>\n",
       "      <td>Futurology</td>\n",
       "    </tr>\n",
       "    <tr>\n",
       "      <th>457</th>\n",
       "      <td>Reading recommendations</td>\n",
       "      <td>Futurology</td>\n",
       "    </tr>\n",
       "    <tr>\n",
       "      <th>471</th>\n",
       "      <td>What do you think the world 2099 will look like ???</td>\n",
       "      <td>Futurology</td>\n",
       "    </tr>\n",
       "    <tr>\n",
       "      <th>491</th>\n",
       "      <td>Roko's Basilisk and mind-reading</td>\n",
       "      <td>Futurology</td>\n",
       "    </tr>\n",
       "    <tr>\n",
       "      <th>501</th>\n",
       "      <td>Constant time computer</td>\n",
       "      <td>Futurology</td>\n",
       "    </tr>\n",
       "    <tr>\n",
       "      <th>514</th>\n",
       "      <td>GPT mind reading</td>\n",
       "      <td>Futurology</td>\n",
       "    </tr>\n",
       "    <tr>\n",
       "      <th>520</th>\n",
       "      <td>Exploring the Space or Sea?</td>\n",
       "      <td>Futurology</td>\n",
       "    </tr>\n",
       "    <tr>\n",
       "      <th>526</th>\n",
       "      <td>What action do you think would change society?</td>\n",
       "      <td>Futurology</td>\n",
       "    </tr>\n",
       "    <tr>\n",
       "      <th>528</th>\n",
       "      <td>Why not everyone on the world not trying to make a sci-fi utopia?</td>\n",
       "      <td>Futurology</td>\n",
       "    </tr>\n",
       "    <tr>\n",
       "      <th>542</th>\n",
       "      <td>Anyone else get the feeling that they were born too early for life extension?</td>\n",
       "      <td>Futurology</td>\n",
       "    </tr>\n",
       "    <tr>\n",
       "      <th>555</th>\n",
       "      <td>AI-Created Art Isn’t Copyrightable, Judge Says in Ruling That Could Give Hollywood Studios Pause</td>\n",
       "      <td>Futurology</td>\n",
       "    </tr>\n",
       "    <tr>\n",
       "      <th>556</th>\n",
       "      <td>Eating is overrated</td>\n",
       "      <td>Futurology</td>\n",
       "    </tr>\n",
       "    <tr>\n",
       "      <th>564</th>\n",
       "      <td>AI LLM Thoughtfulness: Just Me, or Is It Kind of Amazing?</td>\n",
       "      <td>Futurology</td>\n",
       "    </tr>\n",
       "    <tr>\n",
       "      <th>575</th>\n",
       "      <td>Autonomy - a free book about future alternatives(auto-translate needed)</td>\n",
       "      <td>Futurology</td>\n",
       "    </tr>\n",
       "    <tr>\n",
       "      <th>588</th>\n",
       "      <td>Has Michio Kaku made any original predictions?</td>\n",
       "      <td>Futurology</td>\n",
       "    </tr>\n",
       "    <tr>\n",
       "      <th>597</th>\n",
       "      <td>Animals in space</td>\n",
       "      <td>Futurology</td>\n",
       "    </tr>\n",
       "    <tr>\n",
       "      <th>608</th>\n",
       "      <td>Has any actual \"Futurology\" post to this sub come true?</td>\n",
       "      <td>Futurology</td>\n",
       "    </tr>\n",
       "    <tr>\n",
       "      <th>611</th>\n",
       "      <td>1st Interstellar Travel</td>\n",
       "      <td>Futurology</td>\n",
       "    </tr>\n",
       "    <tr>\n",
       "      <th>615</th>\n",
       "      <td>Question about cryogenically freezing people</td>\n",
       "      <td>Futurology</td>\n",
       "    </tr>\n",
       "    <tr>\n",
       "      <th>641</th>\n",
       "      <td>Why not cover whole cities to shield from the sun?</td>\n",
       "      <td>Futurology</td>\n",
       "    </tr>\n",
       "    <tr>\n",
       "      <th>696</th>\n",
       "      <td>Cryonics of Today</td>\n",
       "      <td>Futurology</td>\n",
       "    </tr>\n",
       "    <tr>\n",
       "      <th>897</th>\n",
       "      <td>First photo of a black hole in the heart of the M87 galaxy taken by the Event Horizon Telescope</td>\n",
       "      <td>Futurology</td>\n",
       "    </tr>\n",
       "    <tr>\n",
       "      <th>1052</th>\n",
       "      <td>Boston Dynamics - Introducing Handle</td>\n",
       "      <td>Futurology</td>\n",
       "    </tr>\n",
       "    <tr>\n",
       "      <th>1200</th>\n",
       "      <td>Japan makes 'online insults' punishable by one year in prison in wake of reality TV star's death</td>\n",
       "      <td>Futurology</td>\n",
       "    </tr>\n",
       "    <tr>\n",
       "      <th>1518</th>\n",
       "      <td>It’s not aliens. It’ll probably never be aliens. So stop. Please just stop.</td>\n",
       "      <td>Futurology</td>\n",
       "    </tr>\n",
       "    <tr>\n",
       "      <th>1605</th>\n",
       "      <td>Keanu Reeves Says Deepfakes Are Scary, Confirms His Film Contracts Ban Digital Edits to His Acting</td>\n",
       "      <td>Futurology</td>\n",
       "    </tr>\n",
       "  </tbody>\n",
       "</table>\n",
       "</div>"
      ],
      "text/plain": [
       "                                                                                                                                                                                                                      title  \\\n",
       "36                                                                                                                                                                         Will we ever send something out of our universe?   \n",
       "41                                                                                                                                                                                                         Genuine question   \n",
       "42                                                                                                                                                                                                Remembering Jacque Fresco   \n",
       "50                                                                                                                                                                  What recent/contemporary futurists should I be reading?   \n",
       "81                                                                                                                                                                                      How should I feel about the future?   \n",
       "102                                                                                                                                                                          Best prediction from an underestimated source?   \n",
       "120                                                                                                                                                                                Should I be optimistic about the future?   \n",
       "144                                                                                                                                                              What will the future of space travel be like and humanity?   \n",
       "148                                                                                                                                             What are your thoughts on the possibility of a base on the surface of Mars?   \n",
       "156   10 years ago, YouTube served as a platform for a Transhumanist series called H+. Today it stands as one of the more prescient pieces of the 2000's on the risks and dangers of this post-modern digital Pandora's Box   \n",
       "160                                                                                                                                                                What might life be like after waking up from cryogenics?   \n",
       "169                                                                                                                         \"Strategically Charting My Computer Science Journey: Seeking Insights on High-ROI Technologies\"   \n",
       "193                                                                                                                                                                                           Atoms and Bits ( the future?)   \n",
       "215                                                                                                                                                            Time-Travel for future degenerates/ Grandfather paradox form   \n",
       "243                                                                                                                                                           Can AI finish the oldest know sheet of music from 1,950 BCE??   \n",
       "253                                                                                                                                                                                            How come AI would be better?   \n",
       "268                                                                                                                                                           Directed energy weapons making jump from sci-fi to real world   \n",
       "271                                                                                                                                                             Is a speciation event inevitable from Homo Sapiens Sapiens?   \n",
       "277                                                                                                                                                                                 What treatments might help with Autism?   \n",
       "286                                                                                                                                                                                              Personal Protective Shield   \n",
       "296                                                                                                                                 What do you think the potential is for flesh and biopunk given the science and realism?   \n",
       "302                                                                                                                                                                        Why are there so many anomalies in the universe?   \n",
       "321                                                                                                                                                                               What are your predictions for the future?   \n",
       "324                                                                                                                                                                                   Does Cloud Bursting Technology Exist?   \n",
       "329                                                                                                                         I have this idea ive been thinking on, and I'm sure somebody else is already theorized about it   \n",
       "330                                                                                                                                                                  What interplanetary wars might look like in the future   \n",
       "364                                                                                                                                                                     What does 2033(10 years from now) look like to you?   \n",
       "372                                                                                                                                                         What role do you think non-profits and NGOs play in Futurology?   \n",
       "381                                                                                                                                                                      The Good And Bad News About Scientific Advancement   \n",
       "403                                                                                                                                                                                                           Subscriptions   \n",
       "428                                                                                                                                                                           Is John Horgan’s End of Science book correct?   \n",
       "435                                                                                                                                                                                      What will music sound like in 2024   \n",
       "439                                                                                                                                                                                                    Why are we so early?   \n",
       "455                                                                                                                                            If you could genetically engineer one thing for your body; what would it be?   \n",
       "457                                                                                                                                                                                                 Reading recommendations   \n",
       "471                                                                                                                                                                     What do you think the world 2099 will look like ???   \n",
       "491                                                                                                                                                                                        Roko's Basilisk and mind-reading   \n",
       "501                                                                                                                                                                                                  Constant time computer   \n",
       "514                                                                                                                                                                                                        GPT mind reading   \n",
       "520                                                                                                                                                                                             Exploring the Space or Sea?   \n",
       "526                                                                                                                                                                          What action do you think would change society?   \n",
       "528                                                                                                                                                       Why not everyone on the world not trying to make a sci-fi utopia?   \n",
       "542                                                                                                                                           Anyone else get the feeling that they were born too early for life extension?   \n",
       "555                                                                                                                        AI-Created Art Isn’t Copyrightable, Judge Says in Ruling That Could Give Hollywood Studios Pause   \n",
       "556                                                                                                                                                                                                     Eating is overrated   \n",
       "564                                                                                                                                                               AI LLM Thoughtfulness: Just Me, or Is It Kind of Amazing?   \n",
       "575                                                                                                                                                 Autonomy - a free book about future alternatives(auto-translate needed)   \n",
       "588                                                                                                                                                                          Has Michio Kaku made any original predictions?   \n",
       "597                                                                                                                                                                                                        Animals in space   \n",
       "608                                                                                                                                                                 Has any actual \"Futurology\" post to this sub come true?   \n",
       "611                                                                                                                                                                                                 1st Interstellar Travel   \n",
       "615                                                                                                                                                                            Question about cryogenically freezing people   \n",
       "641                                                                                                                                                                      Why not cover whole cities to shield from the sun?   \n",
       "696                                                                                                                                                                                                       Cryonics of Today   \n",
       "897                                                                                                                         First photo of a black hole in the heart of the M87 galaxy taken by the Event Horizon Telescope   \n",
       "1052                                                                                                                                                                                   Boston Dynamics - Introducing Handle   \n",
       "1200                                                                                                                       Japan makes 'online insults' punishable by one year in prison in wake of reality TV star's death   \n",
       "1518                                                                                                                                            It’s not aliens. It’ll probably never be aliens. So stop. Please just stop.   \n",
       "1605                                                                                                                     Keanu Reeves Says Deepfakes Are Scary, Confirms His Film Contracts Ban Digital Edits to His Acting   \n",
       "\n",
       "       subreddit  \n",
       "36    Futurology  \n",
       "41    Futurology  \n",
       "42    Futurology  \n",
       "50    Futurology  \n",
       "81    Futurology  \n",
       "102   Futurology  \n",
       "120   Futurology  \n",
       "144   Futurology  \n",
       "148   Futurology  \n",
       "156   Futurology  \n",
       "160   Futurology  \n",
       "169   Futurology  \n",
       "193   Futurology  \n",
       "215   Futurology  \n",
       "243   Futurology  \n",
       "253   Futurology  \n",
       "268   Futurology  \n",
       "271   Futurology  \n",
       "277   Futurology  \n",
       "286   Futurology  \n",
       "296   Futurology  \n",
       "302   Futurology  \n",
       "321   Futurology  \n",
       "324   Futurology  \n",
       "329   Futurology  \n",
       "330   Futurology  \n",
       "364   Futurology  \n",
       "372   Futurology  \n",
       "381   Futurology  \n",
       "403   Futurology  \n",
       "428   Futurology  \n",
       "435   Futurology  \n",
       "439   Futurology  \n",
       "455   Futurology  \n",
       "457   Futurology  \n",
       "471   Futurology  \n",
       "491   Futurology  \n",
       "501   Futurology  \n",
       "514   Futurology  \n",
       "520   Futurology  \n",
       "526   Futurology  \n",
       "528   Futurology  \n",
       "542   Futurology  \n",
       "555   Futurology  \n",
       "556   Futurology  \n",
       "564   Futurology  \n",
       "575   Futurology  \n",
       "588   Futurology  \n",
       "597   Futurology  \n",
       "608   Futurology  \n",
       "611   Futurology  \n",
       "615   Futurology  \n",
       "641   Futurology  \n",
       "696   Futurology  \n",
       "897   Futurology  \n",
       "1052  Futurology  \n",
       "1200  Futurology  \n",
       "1518  Futurology  \n",
       "1605  Futurology  "
      ]
     },
     "execution_count": 57,
     "metadata": {},
     "output_type": "execute_result"
    }
   ],
   "source": [
    "original_reddit_df.iloc[[  36,   41,   42,   50,   81,  102,  120,  144,  148,  156,  160,\n",
    "             169,  193,  215,  243,  253,  268,  271,  277,  286,  296,  302,\n",
    "             321,  324,  329,  330,  364,  372,  381,  403,  428,  435,  439,\n",
    "             455,  457,  471,  491,  501,  514,  520,  526,  528,  542,  555,\n",
    "             556,  564,  575,  588,  597,  608,  611,  615,  641,  696,  897,\n",
    "            1052, 1200, 1518, 1605], [2, 4]]"
   ]
  },
  {
   "cell_type": "code",
   "execution_count": null,
   "id": "2554b577-1b5b-4bfe-800b-9432d9abb31f",
   "metadata": {},
   "outputs": [],
   "source": []
  }
 ],
 "metadata": {
  "kernelspec": {
   "display_name": "Python 3 (ipykernel)",
   "language": "python",
   "name": "python3"
  },
  "language_info": {
   "codemirror_mode": {
    "name": "ipython",
    "version": 3
   },
   "file_extension": ".py",
   "mimetype": "text/x-python",
   "name": "python",
   "nbconvert_exporter": "python",
   "pygments_lexer": "ipython3",
   "version": "3.11.4"
  }
 },
 "nbformat": 4,
 "nbformat_minor": 5
}
