{
 "cells": [
  {
   "cell_type": "code",
   "execution_count": 48,
   "id": "a0aa5407-f229-4ab2-88f2-fe5a3136eb7e",
   "metadata": {
    "tags": []
   },
   "outputs": [],
   "source": [
    "import numpy as np\n",
    "import pandas as pd\n",
    "import matplotlib.pyplot as plt"
   ]
  },
  {
   "cell_type": "markdown",
   "id": "b4b0aae5-77fc-4a21-b929-f423131ee435",
   "metadata": {},
   "source": [
    "### Read in data created from Data Retrieval"
   ]
  },
  {
   "cell_type": "code",
   "execution_count": 49,
   "id": "f39f5a70-3009-4688-9d6f-812ccebcb3d4",
   "metadata": {
    "tags": []
   },
   "outputs": [],
   "source": [
    "#TODO: Import existing csvs from datasets\n",
    "futurology_10_16 = pd.read_csv('../datasets/futurology_2023-10-16.csv')\n",
    "futurology_10_17 = pd.read_csv('../datasets/futurology_2023-10-17.csv')\n",
    "scifi_10_16 = pd.read_csv('../datasets/scifi_2023-10-16.csv')\n",
    "scifi_10_17 = pd.read_csv('../datasets/scifi_2023-10-17.csv')"
   ]
  },
  {
   "cell_type": "code",
   "execution_count": 50,
   "id": "cf91d459-9f10-4355-81a9-9290270a7430",
   "metadata": {
    "tags": []
   },
   "outputs": [
    {
     "data": {
      "text/plain": [
       "(1677, 7)"
      ]
     },
     "execution_count": 50,
     "metadata": {},
     "output_type": "execute_result"
    }
   ],
   "source": [
    "futurology_10_16.shape"
   ]
  },
  {
   "cell_type": "code",
   "execution_count": 51,
   "id": "f13f2e29-31c4-4d3b-9919-50f9aa188046",
   "metadata": {
    "tags": []
   },
   "outputs": [
    {
     "data": {
      "text/plain": [
       "(1678, 7)"
      ]
     },
     "execution_count": 51,
     "metadata": {},
     "output_type": "execute_result"
    }
   ],
   "source": [
    "futurology_10_17.shape"
   ]
  },
  {
   "cell_type": "code",
   "execution_count": 52,
   "id": "ba64e7a0-acb1-4f43-80e2-c06721eef1f5",
   "metadata": {
    "tags": []
   },
   "outputs": [
    {
     "data": {
      "text/plain": [
       "(1943, 7)"
      ]
     },
     "execution_count": 52,
     "metadata": {},
     "output_type": "execute_result"
    }
   ],
   "source": [
    "scifi_10_16.shape"
   ]
  },
  {
   "cell_type": "code",
   "execution_count": 53,
   "id": "294a58d7-1b3d-4083-8a8e-79d523d8d1a9",
   "metadata": {
    "tags": []
   },
   "outputs": [
    {
     "data": {
      "text/plain": [
       "(1941, 7)"
      ]
     },
     "execution_count": 53,
     "metadata": {},
     "output_type": "execute_result"
    }
   ],
   "source": [
    "scifi_10_17.shape"
   ]
  },
  {
   "cell_type": "markdown",
   "id": "bb4ac665-8b92-4c74-9c8c-7bc3f0d5ee01",
   "metadata": {},
   "source": [
    "### Combine posts from each respective subreddit and drop duplicates based on Id"
   ]
  },
  {
   "cell_type": "code",
   "execution_count": 54,
   "id": "efcd475c-2643-4244-ba23-7f49bba17778",
   "metadata": {
    "tags": []
   },
   "outputs": [],
   "source": [
    "futurology = pd.concat([futurology_10_16, futurology_10_17])"
   ]
  },
  {
   "cell_type": "code",
   "execution_count": 55,
   "id": "64d370ee-b411-4259-9d13-0c4c07128be5",
   "metadata": {
    "tags": []
   },
   "outputs": [
    {
     "data": {
      "text/plain": [
       "(3355, 7)"
      ]
     },
     "execution_count": 55,
     "metadata": {},
     "output_type": "execute_result"
    }
   ],
   "source": [
    "futurology.shape"
   ]
  },
  {
   "cell_type": "code",
   "execution_count": 56,
   "id": "c3a87e44-a13f-442c-ab42-49fe44cca83e",
   "metadata": {
    "tags": []
   },
   "outputs": [],
   "source": [
    "scifi = pd.concat([scifi_10_16, scifi_10_17])"
   ]
  },
  {
   "cell_type": "code",
   "execution_count": 57,
   "id": "cd59c624-f270-43f0-bcd4-535c9f433b26",
   "metadata": {
    "tags": []
   },
   "outputs": [
    {
     "data": {
      "text/plain": [
       "(3884, 7)"
      ]
     },
     "execution_count": 57,
     "metadata": {},
     "output_type": "execute_result"
    }
   ],
   "source": [
    "scifi.shape"
   ]
  },
  {
   "cell_type": "code",
   "execution_count": 58,
   "id": "393dc99f-d746-4e0b-a338-b6719109561d",
   "metadata": {
    "tags": []
   },
   "outputs": [
    {
     "data": {
      "text/html": [
       "<div>\n",
       "<style scoped>\n",
       "    .dataframe tbody tr th:only-of-type {\n",
       "        vertical-align: middle;\n",
       "    }\n",
       "\n",
       "    .dataframe tbody tr th {\n",
       "        vertical-align: top;\n",
       "    }\n",
       "\n",
       "    .dataframe thead th {\n",
       "        text-align: right;\n",
       "    }\n",
       "</style>\n",
       "<table border=\"1\" class=\"dataframe\">\n",
       "  <thead>\n",
       "    <tr style=\"text-align: right;\">\n",
       "      <th></th>\n",
       "      <th>id</th>\n",
       "      <th>type</th>\n",
       "      <th>title</th>\n",
       "      <th>self_text</th>\n",
       "      <th>subreddit</th>\n",
       "      <th>upvote_ratio</th>\n",
       "      <th>datetime</th>\n",
       "    </tr>\n",
       "  </thead>\n",
       "  <tbody>\n",
       "    <tr>\n",
       "      <th>0</th>\n",
       "      <td>15wi75l</td>\n",
       "      <td>hot</td>\n",
       "      <td>r/futurology is now in the fediverse at - http...</td>\n",
       "      <td>https://futurology.today\\n\\nWe’ve had a Discor...</td>\n",
       "      <td>Futurology</td>\n",
       "      <td>0.88</td>\n",
       "      <td>2023-08-20 14:00:44</td>\n",
       "    </tr>\n",
       "    <tr>\n",
       "      <th>6</th>\n",
       "      <td>179ade0</td>\n",
       "      <td>hot</td>\n",
       "      <td>Opinion: To shut down the supply side of clima...</td>\n",
       "      <td>NaN</td>\n",
       "      <td>Futurology</td>\n",
       "      <td>0.88</td>\n",
       "      <td>2023-10-16 12:40:30</td>\n",
       "    </tr>\n",
       "    <tr>\n",
       "      <th>8</th>\n",
       "      <td>178x6wl</td>\n",
       "      <td>hot</td>\n",
       "      <td>Google’s AI Is Making Traffic Lights More Effi...</td>\n",
       "      <td>NaN</td>\n",
       "      <td>Futurology</td>\n",
       "      <td>0.93</td>\n",
       "      <td>2023-10-15 23:53:33</td>\n",
       "    </tr>\n",
       "    <tr>\n",
       "      <th>9</th>\n",
       "      <td>1797npd</td>\n",
       "      <td>hot</td>\n",
       "      <td>Physicists demonstrate powerful physics phenom...</td>\n",
       "      <td>NaN</td>\n",
       "      <td>Futurology</td>\n",
       "      <td>0.96</td>\n",
       "      <td>2023-10-16 10:45:22</td>\n",
       "    </tr>\n",
       "    <tr>\n",
       "      <th>14</th>\n",
       "      <td>17972gf</td>\n",
       "      <td>hot</td>\n",
       "      <td>In the mycelium revolution fungi roots are sha...</td>\n",
       "      <td>NaN</td>\n",
       "      <td>Futurology</td>\n",
       "      <td>0.90</td>\n",
       "      <td>2023-10-16 10:19:30</td>\n",
       "    </tr>\n",
       "    <tr>\n",
       "      <th>...</th>\n",
       "      <td>...</td>\n",
       "      <td>...</td>\n",
       "      <td>...</td>\n",
       "      <td>...</td>\n",
       "      <td>...</td>\n",
       "      <td>...</td>\n",
       "      <td>...</td>\n",
       "    </tr>\n",
       "    <tr>\n",
       "      <th>1673</th>\n",
       "      <td>11h277x</td>\n",
       "      <td>top</td>\n",
       "      <td>Self-Driving Cars Need to Be 99.99982% Crash-F...</td>\n",
       "      <td>NaN</td>\n",
       "      <td>Futurology</td>\n",
       "      <td>0.89</td>\n",
       "      <td>2023-03-03 09:31:22</td>\n",
       "    </tr>\n",
       "    <tr>\n",
       "      <th>1674</th>\n",
       "      <td>6mdsvf</td>\n",
       "      <td>top</td>\n",
       "      <td>Shell Plans to Spend $1 Billion a Year on Clea...</td>\n",
       "      <td>NaN</td>\n",
       "      <td>Futurology</td>\n",
       "      <td>0.89</td>\n",
       "      <td>2017-07-10 07:16:08</td>\n",
       "    </tr>\n",
       "    <tr>\n",
       "      <th>1675</th>\n",
       "      <td>cdw1rg</td>\n",
       "      <td>top</td>\n",
       "      <td>Humans May Be Accidentally Geoengineering the ...</td>\n",
       "      <td>NaN</td>\n",
       "      <td>Futurology</td>\n",
       "      <td>0.93</td>\n",
       "      <td>2019-07-16 07:55:30</td>\n",
       "    </tr>\n",
       "    <tr>\n",
       "      <th>1676</th>\n",
       "      <td>erbtjy</td>\n",
       "      <td>top</td>\n",
       "      <td>All new homes in Wales will only be heated and...</td>\n",
       "      <td>NaN</td>\n",
       "      <td>Futurology</td>\n",
       "      <td>0.94</td>\n",
       "      <td>2020-01-20 06:00:53</td>\n",
       "    </tr>\n",
       "    <tr>\n",
       "      <th>1677</th>\n",
       "      <td>nfcomc</td>\n",
       "      <td>top</td>\n",
       "      <td>A single dose of psilocybin has a lasting ther...</td>\n",
       "      <td>NaN</td>\n",
       "      <td>Futurology</td>\n",
       "      <td>0.96</td>\n",
       "      <td>2021-05-18 10:51:05</td>\n",
       "    </tr>\n",
       "  </tbody>\n",
       "</table>\n",
       "<p>1666 rows × 7 columns</p>\n",
       "</div>"
      ],
      "text/plain": [
       "           id type                                              title  \\\n",
       "0     15wi75l  hot  r/futurology is now in the fediverse at - http...   \n",
       "6     179ade0  hot  Opinion: To shut down the supply side of clima...   \n",
       "8     178x6wl  hot  Google’s AI Is Making Traffic Lights More Effi...   \n",
       "9     1797npd  hot  Physicists demonstrate powerful physics phenom...   \n",
       "14    17972gf  hot  In the mycelium revolution fungi roots are sha...   \n",
       "...       ...  ...                                                ...   \n",
       "1673  11h277x  top  Self-Driving Cars Need to Be 99.99982% Crash-F...   \n",
       "1674   6mdsvf  top  Shell Plans to Spend $1 Billion a Year on Clea...   \n",
       "1675   cdw1rg  top  Humans May Be Accidentally Geoengineering the ...   \n",
       "1676   erbtjy  top  All new homes in Wales will only be heated and...   \n",
       "1677   nfcomc  top  A single dose of psilocybin has a lasting ther...   \n",
       "\n",
       "                                              self_text   subreddit  \\\n",
       "0     https://futurology.today\\n\\nWe’ve had a Discor...  Futurology   \n",
       "6                                                   NaN  Futurology   \n",
       "8                                                   NaN  Futurology   \n",
       "9                                                   NaN  Futurology   \n",
       "14                                                  NaN  Futurology   \n",
       "...                                                 ...         ...   \n",
       "1673                                                NaN  Futurology   \n",
       "1674                                                NaN  Futurology   \n",
       "1675                                                NaN  Futurology   \n",
       "1676                                                NaN  Futurology   \n",
       "1677                                                NaN  Futurology   \n",
       "\n",
       "      upvote_ratio             datetime  \n",
       "0             0.88  2023-08-20 14:00:44  \n",
       "6             0.88  2023-10-16 12:40:30  \n",
       "8             0.93  2023-10-15 23:53:33  \n",
       "9             0.96  2023-10-16 10:45:22  \n",
       "14            0.90  2023-10-16 10:19:30  \n",
       "...            ...                  ...  \n",
       "1673          0.89  2023-03-03 09:31:22  \n",
       "1674          0.89  2017-07-10 07:16:08  \n",
       "1675          0.93  2019-07-16 07:55:30  \n",
       "1676          0.94  2020-01-20 06:00:53  \n",
       "1677          0.96  2021-05-18 10:51:05  \n",
       "\n",
       "[1666 rows x 7 columns]"
      ]
     },
     "execution_count": 58,
     "metadata": {},
     "output_type": "execute_result"
    }
   ],
   "source": [
    "futurology[futurology['id'].duplicated() == True]"
   ]
  },
  {
   "cell_type": "code",
   "execution_count": 59,
   "id": "9ff1446c-ad19-4333-8bb1-70e82f8d5716",
   "metadata": {
    "tags": []
   },
   "outputs": [
    {
     "data": {
      "text/html": [
       "<div>\n",
       "<style scoped>\n",
       "    .dataframe tbody tr th:only-of-type {\n",
       "        vertical-align: middle;\n",
       "    }\n",
       "\n",
       "    .dataframe tbody tr th {\n",
       "        vertical-align: top;\n",
       "    }\n",
       "\n",
       "    .dataframe thead th {\n",
       "        text-align: right;\n",
       "    }\n",
       "</style>\n",
       "<table border=\"1\" class=\"dataframe\">\n",
       "  <thead>\n",
       "    <tr style=\"text-align: right;\">\n",
       "      <th></th>\n",
       "      <th>id</th>\n",
       "      <th>type</th>\n",
       "      <th>title</th>\n",
       "      <th>self_text</th>\n",
       "      <th>subreddit</th>\n",
       "      <th>upvote_ratio</th>\n",
       "      <th>datetime</th>\n",
       "    </tr>\n",
       "  </thead>\n",
       "  <tbody>\n",
       "    <tr>\n",
       "      <th>0</th>\n",
       "      <td>16yswpw</td>\n",
       "      <td>hot</td>\n",
       "      <td>I am Scott Sigler, author of many leather-boun...</td>\n",
       "      <td>How do you do, fellow kids? I'm a #1 New York ...</td>\n",
       "      <td>scifi</td>\n",
       "      <td>0.79</td>\n",
       "      <td>2023-10-03 10:08:21</td>\n",
       "    </tr>\n",
       "    <tr>\n",
       "      <th>1</th>\n",
       "      <td>172ww0k</td>\n",
       "      <td>hot</td>\n",
       "      <td>6 years later and it’s fair to say Star Trek: ...</td>\n",
       "      <td>NaN</td>\n",
       "      <td>scifi</td>\n",
       "      <td>0.88</td>\n",
       "      <td>2023-10-08 07:29:17</td>\n",
       "    </tr>\n",
       "    <tr>\n",
       "      <th>7</th>\n",
       "      <td>179ivdg</td>\n",
       "      <td>hot</td>\n",
       "      <td>What's an older sci-fi film that you think wou...</td>\n",
       "      <td>This occured to me while looking for the film ...</td>\n",
       "      <td>scifi</td>\n",
       "      <td>0.90</td>\n",
       "      <td>2023-10-16 18:34:25</td>\n",
       "    </tr>\n",
       "    <tr>\n",
       "      <th>10</th>\n",
       "      <td>17985zv</td>\n",
       "      <td>hot</td>\n",
       "      <td>Do you guys like Johnny Mnemonic ?</td>\n",
       "      <td>NaN</td>\n",
       "      <td>scifi</td>\n",
       "      <td>0.93</td>\n",
       "      <td>2023-10-16 11:07:23</td>\n",
       "    </tr>\n",
       "    <tr>\n",
       "      <th>12</th>\n",
       "      <td>179i53v</td>\n",
       "      <td>hot</td>\n",
       "      <td>What do you think about Samuel R. Delany?</td>\n",
       "      <td>I haven't read anything by this author yet, bu...</td>\n",
       "      <td>scifi</td>\n",
       "      <td>0.84</td>\n",
       "      <td>2023-10-16 18:03:18</td>\n",
       "    </tr>\n",
       "    <tr>\n",
       "      <th>...</th>\n",
       "      <td>...</td>\n",
       "      <td>...</td>\n",
       "      <td>...</td>\n",
       "      <td>...</td>\n",
       "      <td>...</td>\n",
       "      <td>...</td>\n",
       "      <td>...</td>\n",
       "    </tr>\n",
       "    <tr>\n",
       "      <th>1936</th>\n",
       "      <td>erjs4l</td>\n",
       "      <td>top</td>\n",
       "      <td>Why Hulu Picked Up Seth MacFarlane's The Orvil...</td>\n",
       "      <td>NaN</td>\n",
       "      <td>scifi</td>\n",
       "      <td>0.94</td>\n",
       "      <td>2020-01-20 16:13:05</td>\n",
       "    </tr>\n",
       "    <tr>\n",
       "      <th>1937</th>\n",
       "      <td>3scmoj</td>\n",
       "      <td>top</td>\n",
       "      <td>A beautiful story about someone we love</td>\n",
       "      <td>NaN</td>\n",
       "      <td>scifi</td>\n",
       "      <td>0.91</td>\n",
       "      <td>2015-11-10 20:12:30</td>\n",
       "    </tr>\n",
       "    <tr>\n",
       "      <th>1938</th>\n",
       "      <td>gfu65e</td>\n",
       "      <td>top</td>\n",
       "      <td>Tom Cruise will work with NASA on first movie ...</td>\n",
       "      <td>NaN</td>\n",
       "      <td>scifi</td>\n",
       "      <td>0.92</td>\n",
       "      <td>2020-05-08 10:25:19</td>\n",
       "    </tr>\n",
       "    <tr>\n",
       "      <th>1939</th>\n",
       "      <td>1lf3oo</td>\n",
       "      <td>top</td>\n",
       "      <td>Ever wonder what Picard's crew would look like...</td>\n",
       "      <td>Enjoy!\\n\\nhttp://imgur.com/a/s9BEh\\n\\nNote: In...</td>\n",
       "      <td>scifi</td>\n",
       "      <td>0.92</td>\n",
       "      <td>2013-08-30 15:41:54</td>\n",
       "    </tr>\n",
       "    <tr>\n",
       "      <th>1940</th>\n",
       "      <td>3z8zll</td>\n",
       "      <td>top</td>\n",
       "      <td>Boba Fett Actor Jason Wingreen Dies : People.com</td>\n",
       "      <td>NaN</td>\n",
       "      <td>scifi</td>\n",
       "      <td>0.90</td>\n",
       "      <td>2016-01-03 02:26:37</td>\n",
       "    </tr>\n",
       "  </tbody>\n",
       "</table>\n",
       "<p>1931 rows × 7 columns</p>\n",
       "</div>"
      ],
      "text/plain": [
       "           id type                                              title  \\\n",
       "0     16yswpw  hot  I am Scott Sigler, author of many leather-boun...   \n",
       "1     172ww0k  hot  6 years later and it’s fair to say Star Trek: ...   \n",
       "7     179ivdg  hot  What's an older sci-fi film that you think wou...   \n",
       "10    17985zv  hot                 Do you guys like Johnny Mnemonic ?   \n",
       "12    179i53v  hot          What do you think about Samuel R. Delany?   \n",
       "...       ...  ...                                                ...   \n",
       "1936   erjs4l  top  Why Hulu Picked Up Seth MacFarlane's The Orvil...   \n",
       "1937   3scmoj  top            A beautiful story about someone we love   \n",
       "1938   gfu65e  top  Tom Cruise will work with NASA on first movie ...   \n",
       "1939   1lf3oo  top  Ever wonder what Picard's crew would look like...   \n",
       "1940   3z8zll  top   Boba Fett Actor Jason Wingreen Dies : People.com   \n",
       "\n",
       "                                              self_text subreddit  \\\n",
       "0     How do you do, fellow kids? I'm a #1 New York ...     scifi   \n",
       "1                                                   NaN     scifi   \n",
       "7     This occured to me while looking for the film ...     scifi   \n",
       "10                                                  NaN     scifi   \n",
       "12    I haven't read anything by this author yet, bu...     scifi   \n",
       "...                                                 ...       ...   \n",
       "1936                                                NaN     scifi   \n",
       "1937                                                NaN     scifi   \n",
       "1938                                                NaN     scifi   \n",
       "1939  Enjoy!\\n\\nhttp://imgur.com/a/s9BEh\\n\\nNote: In...     scifi   \n",
       "1940                                                NaN     scifi   \n",
       "\n",
       "      upvote_ratio             datetime  \n",
       "0             0.79  2023-10-03 10:08:21  \n",
       "1             0.88  2023-10-08 07:29:17  \n",
       "7             0.90  2023-10-16 18:34:25  \n",
       "10            0.93  2023-10-16 11:07:23  \n",
       "12            0.84  2023-10-16 18:03:18  \n",
       "...            ...                  ...  \n",
       "1936          0.94  2020-01-20 16:13:05  \n",
       "1937          0.91  2015-11-10 20:12:30  \n",
       "1938          0.92  2020-05-08 10:25:19  \n",
       "1939          0.92  2013-08-30 15:41:54  \n",
       "1940          0.90  2016-01-03 02:26:37  \n",
       "\n",
       "[1931 rows x 7 columns]"
      ]
     },
     "execution_count": 59,
     "metadata": {},
     "output_type": "execute_result"
    }
   ],
   "source": [
    "scifi[scifi['id'].duplicated() == True]"
   ]
  },
  {
   "cell_type": "code",
   "execution_count": 60,
   "id": "b77f0ac3-0fbb-4ecd-8a13-19ee0fadf57f",
   "metadata": {
    "tags": []
   },
   "outputs": [],
   "source": [
    "futurology.drop_duplicates(subset = 'id', keep = 'last', inplace = True)\n",
    "\n",
    "futurology.set_index('id', inplace = True)"
   ]
  },
  {
   "cell_type": "code",
   "execution_count": 64,
   "id": "e1c478dc-950b-4ad3-bab5-0bf642c59ddf",
   "metadata": {
    "tags": []
   },
   "outputs": [],
   "source": [
    "scifi.drop_duplicates(subset = 'id', keep = 'last', inplace = True)\n",
    "\n",
    "scifi.set_index('id', inplace = True)"
   ]
  },
  {
   "cell_type": "code",
   "execution_count": null,
   "id": "9269615a-3a69-438d-916d-7586e3bde171",
   "metadata": {
    "tags": []
   },
   "outputs": [],
   "source": []
  },
  {
   "cell_type": "code",
   "execution_count": 68,
   "id": "686019f9-395c-492c-a4ff-be02d3beb351",
   "metadata": {
    "tags": []
   },
   "outputs": [],
   "source": [
    "reddit_data_df = pd.concat([futurology, scifi])"
   ]
  },
  {
   "cell_type": "code",
   "execution_count": 70,
   "id": "b4eb27ab-aa17-458e-820c-148267992fe4",
   "metadata": {
    "tags": []
   },
   "outputs": [
    {
     "data": {
      "text/plain": [
       "scifi         1953\n",
       "Futurology    1689\n",
       "Name: subreddit, dtype: int64"
      ]
     },
     "execution_count": 70,
     "metadata": {},
     "output_type": "execute_result"
    }
   ],
   "source": [
    "reddit_data_df['subreddit'].value_counts()"
   ]
  },
  {
   "cell_type": "code",
   "execution_count": null,
   "id": "d8c565d0-e0f4-47b7-b0a0-30087aca9ce3",
   "metadata": {
    "tags": []
   },
   "outputs": [],
   "source": []
  },
  {
   "cell_type": "code",
   "execution_count": null,
   "id": "7ef618b5-6ed3-4688-9e6c-c0721b1e1a82",
   "metadata": {},
   "outputs": [],
   "source": []
  }
 ],
 "metadata": {
  "kernelspec": {
   "display_name": "Python 3 (ipykernel)",
   "language": "python",
   "name": "python3"
  },
  "language_info": {
   "codemirror_mode": {
    "name": "ipython",
    "version": 3
   },
   "file_extension": ".py",
   "mimetype": "text/x-python",
   "name": "python",
   "nbconvert_exporter": "python",
   "pygments_lexer": "ipython3",
   "version": "3.11.4"
  }
 },
 "nbformat": 4,
 "nbformat_minor": 5
}
