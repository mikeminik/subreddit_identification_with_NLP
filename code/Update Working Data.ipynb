{
 "cells": [
  {
   "cell_type": "code",
   "execution_count": 1,
   "id": "f39f5a70-3009-4688-9d6f-812ccebcb3d4",
   "metadata": {
    "tags": []
   },
   "outputs": [],
   "source": [
    "#TODO: Import existing csvs from datasets\n"
   ]
  },
  {
   "cell_type": "code",
   "execution_count": 5,
   "id": "9269615a-3a69-438d-916d-7586e3bde171",
   "metadata": {
    "tags": []
   },
   "outputs": [],
   "source": [
    "#TODO: Combine like subreddits together into respective dataframes"
   ]
  },
  {
   "cell_type": "code",
   "execution_count": 3,
   "id": "686019f9-395c-492c-a4ff-be02d3beb351",
   "metadata": {
    "tags": []
   },
   "outputs": [],
   "source": [
    "#TODO: Drop duplicates based on id"
   ]
  },
  {
   "cell_type": "code",
   "execution_count": 6,
   "id": "d8c565d0-e0f4-47b7-b0a0-30087aca9ce3",
   "metadata": {
    "tags": []
   },
   "outputs": [],
   "source": [
    "#TODO: Combine results into one master dataframe"
   ]
  },
  {
   "cell_type": "code",
   "execution_count": null,
   "id": "7ef618b5-6ed3-4688-9e6c-c0721b1e1a82",
   "metadata": {},
   "outputs": [],
   "source": []
  }
 ],
 "metadata": {
  "kernelspec": {
   "display_name": "Python 3 (ipykernel)",
   "language": "python",
   "name": "python3"
  },
  "language_info": {
   "codemirror_mode": {
    "name": "ipython",
    "version": 3
   },
   "file_extension": ".py",
   "mimetype": "text/x-python",
   "name": "python",
   "nbconvert_exporter": "python",
   "pygments_lexer": "ipython3",
   "version": "3.11.4"
  }
 },
 "nbformat": 4,
 "nbformat_minor": 5
}
