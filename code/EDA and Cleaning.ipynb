{
 "cells": [
  {
   "cell_type": "code",
   "execution_count": 85,
   "id": "a0aa5407-f229-4ab2-88f2-fe5a3136eb7e",
   "metadata": {
    "tags": []
   },
   "outputs": [],
   "source": [
    "import numpy as np\n",
    "import pandas as pd\n",
    "import matplotlib.pyplot as plt\n",
    "\n",
    "import nltk\n",
    "from nltk.tokenize import sent_tokenize, word_tokenize, RegexpTokenizer\n",
    "from nltk.stem import PorterStemmer, WordNetLemmatizer\n",
    "from nltk.corpus import stopwords, wordnet\n",
    "from nltk.sentiment.vader import SentimentIntensityAnalyzer"
   ]
  },
  {
   "cell_type": "markdown",
   "id": "b4b0aae5-77fc-4a21-b929-f423131ee435",
   "metadata": {},
   "source": [
    "### Read in data created from Data Retrieval"
   ]
  },
  {
   "cell_type": "code",
   "execution_count": 86,
   "id": "f39f5a70-3009-4688-9d6f-812ccebcb3d4",
   "metadata": {
    "tags": []
   },
   "outputs": [],
   "source": [
    "#TODO: Import existing csvs from datasets\n",
    "futurology = pd.read_csv('../datasets/futurology_2023-10-17_with_links.csv')\n",
    "scifi = pd.read_csv('../datasets/scifi_2023-10-17_with_links.csv')"
   ]
  },
  {
   "cell_type": "code",
   "execution_count": 87,
   "id": "b77f0ac3-0fbb-4ecd-8a13-19ee0fadf57f",
   "metadata": {
    "tags": []
   },
   "outputs": [],
   "source": [
    "futurology.set_index('id', inplace = True)"
   ]
  },
  {
   "cell_type": "code",
   "execution_count": 88,
   "id": "e1c478dc-950b-4ad3-bab5-0bf642c59ddf",
   "metadata": {
    "tags": []
   },
   "outputs": [],
   "source": [
    "scifi.set_index('id', inplace = True)"
   ]
  },
  {
   "cell_type": "code",
   "execution_count": null,
   "id": "b8ec6058-b54b-47e1-b644-e1c1c1b71ce1",
   "metadata": {
    "tags": []
   },
   "outputs": [],
   "source": []
  },
  {
   "cell_type": "code",
   "execution_count": 89,
   "id": "7ef618b5-6ed3-4688-9e6c-c0721b1e1a82",
   "metadata": {},
   "outputs": [],
   "source": [
    "reddit_data_df = pd.concat([futurology, scifi])"
   ]
  },
  {
   "cell_type": "code",
   "execution_count": 90,
   "id": "2ac5dfef-fbd7-4eb5-9bbf-50db9f5fa2a0",
   "metadata": {
    "tags": []
   },
   "outputs": [
    {
     "data": {
      "text/html": [
       "<div>\n",
       "<style scoped>\n",
       "    .dataframe tbody tr th:only-of-type {\n",
       "        vertical-align: middle;\n",
       "    }\n",
       "\n",
       "    .dataframe tbody tr th {\n",
       "        vertical-align: top;\n",
       "    }\n",
       "\n",
       "    .dataframe thead th {\n",
       "        text-align: right;\n",
       "    }\n",
       "</style>\n",
       "<table border=\"1\" class=\"dataframe\">\n",
       "  <thead>\n",
       "    <tr style=\"text-align: right;\">\n",
       "      <th></th>\n",
       "      <th>type</th>\n",
       "      <th>title</th>\n",
       "      <th>self_text</th>\n",
       "      <th>subreddit</th>\n",
       "      <th>upvote_ratio</th>\n",
       "      <th>link_address</th>\n",
       "      <th>user</th>\n",
       "      <th>datetime</th>\n",
       "    </tr>\n",
       "    <tr>\n",
       "      <th>id</th>\n",
       "      <th></th>\n",
       "      <th></th>\n",
       "      <th></th>\n",
       "      <th></th>\n",
       "      <th></th>\n",
       "      <th></th>\n",
       "      <th></th>\n",
       "      <th></th>\n",
       "    </tr>\n",
       "  </thead>\n",
       "  <tbody>\n",
       "    <tr>\n",
       "      <th>15wi75l</th>\n",
       "      <td>hot</td>\n",
       "      <td>r/futurology is now in the fediverse at - http...</td>\n",
       "      <td>https://futurology.today\\n\\nWe’ve had a Discor...</td>\n",
       "      <td>Futurology</td>\n",
       "      <td>0.90</td>\n",
       "      <td>https://www.reddit.com/r/Futurology/comments/1...</td>\n",
       "      <td>FuturologyModTeam</td>\n",
       "      <td>2023-08-20 14:00:44</td>\n",
       "    </tr>\n",
       "    <tr>\n",
       "      <th>17a1cd6</th>\n",
       "      <td>hot</td>\n",
       "      <td>SpaceX says the US Federal Aviation Authority'...</td>\n",
       "      <td>NaN</td>\n",
       "      <td>Futurology</td>\n",
       "      <td>0.89</td>\n",
       "      <td>https://arstechnica.com/space/2023/10/citing-s...</td>\n",
       "      <td>lughnasadh</td>\n",
       "      <td>2023-10-17 11:44:21</td>\n",
       "    </tr>\n",
       "    <tr>\n",
       "      <th>179wk9u</th>\n",
       "      <td>hot</td>\n",
       "      <td>Over 1 million satellites could be headed to E...</td>\n",
       "      <td>NaN</td>\n",
       "      <td>Futurology</td>\n",
       "      <td>0.93</td>\n",
       "      <td>https://www.space.com/million-satellites-conge...</td>\n",
       "      <td>LiveScience_</td>\n",
       "      <td>2023-10-17 07:51:27</td>\n",
       "    </tr>\n",
       "    <tr>\n",
       "      <th>179pcbt</th>\n",
       "      <td>hot</td>\n",
       "      <td>Marc Andreessen just dropped a ‘Techno-Optimis...</td>\n",
       "      <td>NaN</td>\n",
       "      <td>Futurology</td>\n",
       "      <td>0.76</td>\n",
       "      <td>https://fortune.com/2023/10/16/marc-andreessen...</td>\n",
       "      <td>JamesTiberiusKirque</td>\n",
       "      <td>2023-10-16 23:47:22</td>\n",
       "    </tr>\n",
       "    <tr>\n",
       "      <th>17a1mue</th>\n",
       "      <td>hot</td>\n",
       "      <td>Will human languages be more unified or divers...</td>\n",
       "      <td>Direction A: For example, designing a universa...</td>\n",
       "      <td>Futurology</td>\n",
       "      <td>0.84</td>\n",
       "      <td>https://www.reddit.com/r/Futurology/comments/1...</td>\n",
       "      <td>Ghenym</td>\n",
       "      <td>2023-10-17 11:57:22</td>\n",
       "    </tr>\n",
       "  </tbody>\n",
       "</table>\n",
       "</div>"
      ],
      "text/plain": [
       "        type                                              title  \\\n",
       "id                                                                \n",
       "15wi75l  hot  r/futurology is now in the fediverse at - http...   \n",
       "17a1cd6  hot  SpaceX says the US Federal Aviation Authority'...   \n",
       "179wk9u  hot  Over 1 million satellites could be headed to E...   \n",
       "179pcbt  hot  Marc Andreessen just dropped a ‘Techno-Optimis...   \n",
       "17a1mue  hot  Will human languages be more unified or divers...   \n",
       "\n",
       "                                                 self_text   subreddit  \\\n",
       "id                                                                       \n",
       "15wi75l  https://futurology.today\\n\\nWe’ve had a Discor...  Futurology   \n",
       "17a1cd6                                                NaN  Futurology   \n",
       "179wk9u                                                NaN  Futurology   \n",
       "179pcbt                                                NaN  Futurology   \n",
       "17a1mue  Direction A: For example, designing a universa...  Futurology   \n",
       "\n",
       "         upvote_ratio                                       link_address  \\\n",
       "id                                                                         \n",
       "15wi75l          0.90  https://www.reddit.com/r/Futurology/comments/1...   \n",
       "17a1cd6          0.89  https://arstechnica.com/space/2023/10/citing-s...   \n",
       "179wk9u          0.93  https://www.space.com/million-satellites-conge...   \n",
       "179pcbt          0.76  https://fortune.com/2023/10/16/marc-andreessen...   \n",
       "17a1mue          0.84  https://www.reddit.com/r/Futurology/comments/1...   \n",
       "\n",
       "                        user             datetime  \n",
       "id                                                 \n",
       "15wi75l    FuturologyModTeam  2023-08-20 14:00:44  \n",
       "17a1cd6           lughnasadh  2023-10-17 11:44:21  \n",
       "179wk9u         LiveScience_  2023-10-17 07:51:27  \n",
       "179pcbt  JamesTiberiusKirque  2023-10-16 23:47:22  \n",
       "17a1mue               Ghenym  2023-10-17 11:57:22  "
      ]
     },
     "execution_count": 90,
     "metadata": {},
     "output_type": "execute_result"
    }
   ],
   "source": [
    "reddit_data_df.head()"
   ]
  },
  {
   "cell_type": "code",
   "execution_count": 91,
   "id": "91b30ab9-c552-4fd5-a38b-186529b62d13",
   "metadata": {
    "tags": []
   },
   "outputs": [
    {
     "data": {
      "text/plain": [
       "(3618, 8)"
      ]
     },
     "execution_count": 91,
     "metadata": {},
     "output_type": "execute_result"
    }
   ],
   "source": [
    "reddit_data_df.shape"
   ]
  },
  {
   "cell_type": "code",
   "execution_count": 92,
   "id": "86b9b5e1-5258-4de1-bfe1-42ce25e8a2cf",
   "metadata": {
    "tags": []
   },
   "outputs": [
    {
     "data": {
      "text/plain": [
       "type               0\n",
       "title              0\n",
       "self_text       2785\n",
       "subreddit          0\n",
       "upvote_ratio       0\n",
       "link_address       0\n",
       "user             151\n",
       "datetime           0\n",
       "dtype: int64"
      ]
     },
     "execution_count": 92,
     "metadata": {},
     "output_type": "execute_result"
    }
   ],
   "source": [
    "reddit_data_df.isnull().sum()"
   ]
  },
  {
   "cell_type": "code",
   "execution_count": 93,
   "id": "86b1def5-fce0-4632-a3e6-e3767a2b60f2",
   "metadata": {
    "tags": []
   },
   "outputs": [],
   "source": [
    "def URL_tokenize(url):\n",
    "    text = url\n",
    "    text = text.replace('https:', '')\n",
    "    text = text.replace('http:','')\n",
    "    text = text.replace('&amp', '&')\n",
    "    text = text.replace('&nbsp', ' ')\n",
    "    text = text.replace('?', ' ')\n",
    "    text = text.replace('//', ' ')\n",
    "    text = text.replace('/', ' ')\n",
    "    text = text.replace('-', ' ')\n",
    "    text = text.replace('_', ' ')\n",
    "    text = text.split()\n",
    "    text = ' '.join(text[1:])\n",
    "    return text"
   ]
  },
  {
   "cell_type": "code",
   "execution_count": 94,
   "id": "6eca510b-e876-4696-94f8-236f6296f057",
   "metadata": {
    "tags": []
   },
   "outputs": [],
   "source": [
    "def extract_domain(url):\n",
    "    text = url\n",
    "    text = text.replace('https:', '')\n",
    "    text = text.replace('http:','')\n",
    "    text = text.replace('www.', '')\n",
    "    text = text.replace('/', ' ')\n",
    "    return text.split()[0]"
   ]
  },
  {
   "cell_type": "code",
   "execution_count": 95,
   "id": "c81fc411-67fd-4ec6-adc6-efc823995420",
   "metadata": {
    "tags": []
   },
   "outputs": [
    {
     "name": "stdout",
     "output_type": "stream",
     "text": [
      "google.com\n"
     ]
    }
   ],
   "source": [
    "print(extract_domain('http://www.google.com/hello'))"
   ]
  },
  {
   "cell_type": "code",
   "execution_count": 96,
   "id": "dbf1d0d9-e5cf-442c-b1ed-12a6b57d8997",
   "metadata": {
    "tags": []
   },
   "outputs": [
    {
     "name": "stdout",
     "output_type": "stream",
     "text": [
      "hello world good&stuff\n"
     ]
    }
   ],
   "source": [
    "print(make_URLs_usable('http://www.google.com/hello-world/good&ampstuff'))"
   ]
  },
  {
   "cell_type": "code",
   "execution_count": 97,
   "id": "b3ad03e7-f5da-4c33-807b-8c2f12072a92",
   "metadata": {
    "tags": []
   },
   "outputs": [],
   "source": [
    "reddit_data_df['url_content'] = reddit_data_df['link_address'].apply(lambda url: URL_tokenize(url))"
   ]
  },
  {
   "cell_type": "code",
   "execution_count": 98,
   "id": "ae8ab250-4328-404f-9549-d37adcf1d95c",
   "metadata": {
    "tags": []
   },
   "outputs": [],
   "source": [
    "reddit_data_df['url_domain'] = reddit_data_df['link_address'].apply(lambda url: extract_domain(url))"
   ]
  },
  {
   "cell_type": "code",
   "execution_count": 99,
   "id": "29504fe8-8df2-4501-a680-955cd6fee53e",
   "metadata": {
    "tags": []
   },
   "outputs": [
    {
     "data": {
      "text/plain": [
       "url_domain     0\n",
       "url_content    0\n",
       "dtype: int64"
      ]
     },
     "execution_count": 99,
     "metadata": {},
     "output_type": "execute_result"
    }
   ],
   "source": [
    "reddit_data_df.loc[: , ['url_domain', 'url_content']].isnull().sum()"
   ]
  },
  {
   "cell_type": "code",
   "execution_count": 100,
   "id": "43b66279-1a55-4f9e-81ea-14c18dd447b4",
   "metadata": {
    "tags": []
   },
   "outputs": [],
   "source": [
    "X = reddit_data_df.loc[:, ['title', 'url_domain', 'url_content']]\n",
    "y = reddit_data_df['subreddit']"
   ]
  },
  {
   "cell_type": "code",
   "execution_count": 101,
   "id": "0f70d3bd-e2ea-423d-8a36-08ca61273caf",
   "metadata": {
    "tags": []
   },
   "outputs": [
    {
     "data": {
      "text/html": [
       "<div>\n",
       "<style scoped>\n",
       "    .dataframe tbody tr th:only-of-type {\n",
       "        vertical-align: middle;\n",
       "    }\n",
       "\n",
       "    .dataframe tbody tr th {\n",
       "        vertical-align: top;\n",
       "    }\n",
       "\n",
       "    .dataframe thead th {\n",
       "        text-align: right;\n",
       "    }\n",
       "</style>\n",
       "<table border=\"1\" class=\"dataframe\">\n",
       "  <thead>\n",
       "    <tr style=\"text-align: right;\">\n",
       "      <th></th>\n",
       "      <th>title</th>\n",
       "      <th>url_domain</th>\n",
       "      <th>url_content</th>\n",
       "    </tr>\n",
       "    <tr>\n",
       "      <th>id</th>\n",
       "      <th></th>\n",
       "      <th></th>\n",
       "      <th></th>\n",
       "    </tr>\n",
       "  </thead>\n",
       "  <tbody>\n",
       "    <tr>\n",
       "      <th>15wi75l</th>\n",
       "      <td>r/futurology is now in the fediverse at - http...</td>\n",
       "      <td>reddit.com</td>\n",
       "      <td>r Futurology comments 15wi75l rfuturology is n...</td>\n",
       "    </tr>\n",
       "    <tr>\n",
       "      <th>17a1cd6</th>\n",
       "      <td>SpaceX says the US Federal Aviation Authority'...</td>\n",
       "      <td>arstechnica.com</td>\n",
       "      <td>space 2023 10 citing slow starship reviews spa...</td>\n",
       "    </tr>\n",
       "    <tr>\n",
       "      <th>179wk9u</th>\n",
       "      <td>Over 1 million satellites could be headed to E...</td>\n",
       "      <td>space.com</td>\n",
       "      <td>million satellites congest low earth orbit stu...</td>\n",
       "    </tr>\n",
       "    <tr>\n",
       "      <th>179pcbt</th>\n",
       "      <td>Marc Andreessen just dropped a ‘Techno-Optimis...</td>\n",
       "      <td>fortune.com</td>\n",
       "      <td>2023 10 16 marc andreessen techno optimist man...</td>\n",
       "    </tr>\n",
       "    <tr>\n",
       "      <th>17a1mue</th>\n",
       "      <td>Will human languages be more unified or divers...</td>\n",
       "      <td>reddit.com</td>\n",
       "      <td>r Futurology comments 17a1mue will human langu...</td>\n",
       "    </tr>\n",
       "  </tbody>\n",
       "</table>\n",
       "</div>"
      ],
      "text/plain": [
       "                                                     title       url_domain  \\\n",
       "id                                                                            \n",
       "15wi75l  r/futurology is now in the fediverse at - http...       reddit.com   \n",
       "17a1cd6  SpaceX says the US Federal Aviation Authority'...  arstechnica.com   \n",
       "179wk9u  Over 1 million satellites could be headed to E...        space.com   \n",
       "179pcbt  Marc Andreessen just dropped a ‘Techno-Optimis...      fortune.com   \n",
       "17a1mue  Will human languages be more unified or divers...       reddit.com   \n",
       "\n",
       "                                               url_content  \n",
       "id                                                          \n",
       "15wi75l  r Futurology comments 15wi75l rfuturology is n...  \n",
       "17a1cd6  space 2023 10 citing slow starship reviews spa...  \n",
       "179wk9u  million satellites congest low earth orbit stu...  \n",
       "179pcbt  2023 10 16 marc andreessen techno optimist man...  \n",
       "17a1mue  r Futurology comments 17a1mue will human langu...  "
      ]
     },
     "execution_count": 101,
     "metadata": {},
     "output_type": "execute_result"
    }
   ],
   "source": [
    "X.head()"
   ]
  },
  {
   "cell_type": "code",
   "execution_count": 104,
   "id": "476a05e2-8530-45d8-999b-f7eb47865d49",
   "metadata": {
    "tags": []
   },
   "outputs": [],
   "source": [
    "ps = PorterStemmer()\n",
    "wn = WordNetLemmatizer()"
   ]
  },
  {
   "cell_type": "code",
   "execution_count": 102,
   "id": "cfa2bd8c-dbf4-4c9e-8dfe-481ba5b6865d",
   "metadata": {
    "tags": []
   },
   "outputs": [],
   "source": [
    "## custom Tim funcion for mapping nltk POS_TAG for wordnet lemmatizing\n",
    "def custom_lemmatize(word, tag):\n",
    "    mapper = {\n",
    "        'J': wordnet.ADJ,\n",
    "        'V': wordnet.VERB,\n",
    "        'N': wordnet.NOUN,\n",
    "        'R': wordnet.ADV\n",
    "    }\n",
    "    pos = mapper.get(tag[0])\n",
    "    \n",
    "    return wn.lemmatize(word, pos) if pos else word"
   ]
  },
  {
   "cell_type": "markdown",
   "id": "a18e1fbc-8223-4da0-aa03-15fbd571761d",
   "metadata": {},
   "source": [
    "### Stem"
   ]
  },
  {
   "cell_type": "code",
   "execution_count": 110,
   "id": "aa069845-92ba-493d-8ca3-7e21ecf54b11",
   "metadata": {
    "tags": []
   },
   "outputs": [],
   "source": [
    "# reddit_data_df['title'].apply(lambda title: [ps.stem(word) for word in title.split()])"
   ]
  },
  {
   "cell_type": "code",
   "execution_count": 107,
   "id": "054a1daf-3197-464f-8486-77f9c49e1efc",
   "metadata": {
    "tags": []
   },
   "outputs": [
    {
     "data": {
      "text/plain": [
       "'drop'"
      ]
     },
     "execution_count": 107,
     "metadata": {},
     "output_type": "execute_result"
    }
   ],
   "source": [
    "ps.stem('dropped')"
   ]
  },
  {
   "cell_type": "markdown",
   "id": "efcf09c1-0c31-4d3b-9811-793e3ad84147",
   "metadata": {},
   "source": [
    "### Lemmatize"
   ]
  },
  {
   "cell_type": "code",
   "execution_count": null,
   "id": "e6b2e3b8-50cc-492d-b7f7-614215d48a6c",
   "metadata": {
    "tags": []
   },
   "outputs": [],
   "source": []
  },
  {
   "cell_type": "code",
   "execution_count": 114,
   "id": "3e80d501-6df5-4313-8e09-363370fed94a",
   "metadata": {
    "tags": []
   },
   "outputs": [
    {
     "data": {
      "text/plain": [
       "id\n",
       "15wi75l    r/futurology be now in the fediverse at - http...\n",
       "17a1cd6    SpaceX say the US Federal Aviation Authority's...\n",
       "179wk9u    Over 1 million satellite could be head to Eart...\n",
       "179pcbt    Marc Andreessen just drop a ‘Techno-Optimist M...\n",
       "17a1mue    Will human language be more unified or diverse...\n",
       "                                 ...                        \n",
       "erjs4l     Why Hulu Picked Up Seth MacFarlane's The Orvil...\n",
       "3scmoj               A beautiful story about someone we love\n",
       "gfu65e     Tom Cruise will work with NASA on first movie ...\n",
       "1lf3oo     Ever wonder what Picard's crew would look like...\n",
       "3z8zll      Boba Fett Actor Jason Wingreen Dies : People.com\n",
       "Name: title, Length: 3618, dtype: object"
      ]
     },
     "execution_count": 114,
     "metadata": {},
     "output_type": "execute_result"
    }
   ],
   "source": [
    "reddit_data_df['title'].apply(lambda title : ' '.join([custom_lemmatize(word,tag) for word, tag in nltk.pos_tag(title.split())]))"
   ]
  },
  {
   "cell_type": "code",
   "execution_count": null,
   "id": "a890625e-0a99-4de6-a18d-dddf8ba32d25",
   "metadata": {},
   "outputs": [],
   "source": []
  },
  {
   "cell_type": "code",
   "execution_count": null,
   "id": "8cf84dc6-aa69-4be6-868c-9d075fa5c34a",
   "metadata": {},
   "outputs": [],
   "source": []
  }
 ],
 "metadata": {
  "kernelspec": {
   "display_name": "Python 3 (ipykernel)",
   "language": "python",
   "name": "python3"
  },
  "language_info": {
   "codemirror_mode": {
    "name": "ipython",
    "version": 3
   },
   "file_extension": ".py",
   "mimetype": "text/x-python",
   "name": "python",
   "nbconvert_exporter": "python",
   "pygments_lexer": "ipython3",
   "version": "3.11.4"
  }
 },
 "nbformat": 4,
 "nbformat_minor": 5
}
