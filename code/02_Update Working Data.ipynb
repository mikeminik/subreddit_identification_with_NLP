{
 "cells": [
  {
   "cell_type": "code",
   "execution_count": 32,
   "id": "a0aa5407-f229-4ab2-88f2-fe5a3136eb7e",
   "metadata": {
    "tags": []
   },
   "outputs": [],
   "source": [
    "import numpy as np\n",
    "import pandas as pd\n",
    "import matplotlib.pyplot as plt\n",
    "import datetime"
   ]
  },
  {
   "cell_type": "markdown",
   "id": "b4b0aae5-77fc-4a21-b929-f423131ee435",
   "metadata": {},
   "source": [
    "### Read in data created from Data Retrieval"
   ]
  },
  {
   "cell_type": "code",
   "execution_count": 33,
   "id": "f39f5a70-3009-4688-9d6f-812ccebcb3d4",
   "metadata": {
    "tags": []
   },
   "outputs": [],
   "source": [
    "#TODO: Import existing csvs from datasets\n",
    "futurology_10_17_with_links = pd.read_csv('../datasets/futurology_2023-10-17_with_links.csv')\n",
    "futurology_10_18_with_links = pd.read_csv('../datasets/futurology_2023-10-18_with_links.csv')\n",
    "scifi_10_17_with_links = pd.read_csv('../datasets/scifi_2023-10-17_with_links.csv')\n",
    "scifi_10_18_with_links = pd.read_csv('../datasets/scifi_2023-10-18_with_links.csv')"
   ]
  },
  {
   "cell_type": "markdown",
   "id": "bb4ac665-8b92-4c74-9c8c-7bc3f0d5ee01",
   "metadata": {},
   "source": [
    "### Combine posts from each respective subreddit and drop duplicates based on Id"
   ]
  },
  {
   "cell_type": "code",
   "execution_count": 34,
   "id": "efcd475c-2643-4244-ba23-7f49bba17778",
   "metadata": {
    "tags": []
   },
   "outputs": [],
   "source": [
    "futurology = pd.concat([futurology_10_17_with_links, futurology_10_18_with_links])"
   ]
  },
  {
   "cell_type": "code",
   "execution_count": 35,
   "id": "64d370ee-b411-4259-9d13-0c4c07128be5",
   "metadata": {
    "tags": []
   },
   "outputs": [
    {
     "data": {
      "text/plain": [
       "(3357, 9)"
      ]
     },
     "execution_count": 35,
     "metadata": {},
     "output_type": "execute_result"
    }
   ],
   "source": [
    "futurology.shape"
   ]
  },
  {
   "cell_type": "code",
   "execution_count": 36,
   "id": "c3a87e44-a13f-442c-ab42-49fe44cca83e",
   "metadata": {
    "tags": []
   },
   "outputs": [],
   "source": [
    "scifi = pd.concat([scifi_10_17_with_links, scifi_10_18_with_links])"
   ]
  },
  {
   "cell_type": "code",
   "execution_count": 37,
   "id": "cd59c624-f270-43f0-bcd4-535c9f433b26",
   "metadata": {
    "tags": []
   },
   "outputs": [
    {
     "data": {
      "text/plain": [
       "(3881, 9)"
      ]
     },
     "execution_count": 37,
     "metadata": {},
     "output_type": "execute_result"
    }
   ],
   "source": [
    "scifi.shape"
   ]
  },
  {
   "cell_type": "code",
   "execution_count": 38,
   "id": "393dc99f-d746-4e0b-a338-b6719109561d",
   "metadata": {
    "tags": []
   },
   "outputs": [
    {
     "data": {
      "text/html": [
       "<div>\n",
       "<style scoped>\n",
       "    .dataframe tbody tr th:only-of-type {\n",
       "        vertical-align: middle;\n",
       "    }\n",
       "\n",
       "    .dataframe tbody tr th {\n",
       "        vertical-align: top;\n",
       "    }\n",
       "\n",
       "    .dataframe thead th {\n",
       "        text-align: right;\n",
       "    }\n",
       "</style>\n",
       "<table border=\"1\" class=\"dataframe\">\n",
       "  <thead>\n",
       "    <tr style=\"text-align: right;\">\n",
       "      <th></th>\n",
       "      <th>id</th>\n",
       "      <th>type</th>\n",
       "      <th>title</th>\n",
       "      <th>self_text</th>\n",
       "      <th>subreddit</th>\n",
       "      <th>upvote_ratio</th>\n",
       "      <th>link_address</th>\n",
       "      <th>user</th>\n",
       "      <th>datetime</th>\n",
       "    </tr>\n",
       "  </thead>\n",
       "  <tbody>\n",
       "    <tr>\n",
       "      <th>0</th>\n",
       "      <td>15wi75l</td>\n",
       "      <td>hot</td>\n",
       "      <td>r/futurology is now in the fediverse at - http...</td>\n",
       "      <td>https://futurology.today\\n\\nWe’ve had a Discor...</td>\n",
       "      <td>Futurology</td>\n",
       "      <td>0.90</td>\n",
       "      <td>https://www.reddit.com/r/Futurology/comments/1...</td>\n",
       "      <td>FuturologyModTeam</td>\n",
       "      <td>2023-08-20 14:00:44</td>\n",
       "    </tr>\n",
       "    <tr>\n",
       "      <th>9</th>\n",
       "      <td>17a1cd6</td>\n",
       "      <td>hot</td>\n",
       "      <td>SpaceX says the US Federal Aviation Authority'...</td>\n",
       "      <td>NaN</td>\n",
       "      <td>Futurology</td>\n",
       "      <td>0.90</td>\n",
       "      <td>https://arstechnica.com/space/2023/10/citing-s...</td>\n",
       "      <td>lughnasadh</td>\n",
       "      <td>2023-10-17 11:44:21</td>\n",
       "    </tr>\n",
       "    <tr>\n",
       "      <th>14</th>\n",
       "      <td>179wk9u</td>\n",
       "      <td>hot</td>\n",
       "      <td>Over 1 million satellites could be headed to E...</td>\n",
       "      <td>NaN</td>\n",
       "      <td>Futurology</td>\n",
       "      <td>0.94</td>\n",
       "      <td>https://www.space.com/million-satellites-conge...</td>\n",
       "      <td>LiveScience_</td>\n",
       "      <td>2023-10-17 07:51:27</td>\n",
       "    </tr>\n",
       "    <tr>\n",
       "      <th>17</th>\n",
       "      <td>179pcbt</td>\n",
       "      <td>hot</td>\n",
       "      <td>Marc Andreessen just dropped a ‘Techno-Optimis...</td>\n",
       "      <td>NaN</td>\n",
       "      <td>Futurology</td>\n",
       "      <td>0.76</td>\n",
       "      <td>https://fortune.com/2023/10/16/marc-andreessen...</td>\n",
       "      <td>JamesTiberiusKirque</td>\n",
       "      <td>2023-10-16 23:47:22</td>\n",
       "    </tr>\n",
       "    <tr>\n",
       "      <th>18</th>\n",
       "      <td>17a1mue</td>\n",
       "      <td>hot</td>\n",
       "      <td>Will human languages be more unified or divers...</td>\n",
       "      <td>Direction A: For example, designing a universa...</td>\n",
       "      <td>Futurology</td>\n",
       "      <td>0.87</td>\n",
       "      <td>https://www.reddit.com/r/Futurology/comments/1...</td>\n",
       "      <td>Ghenym</td>\n",
       "      <td>2023-10-17 11:57:22</td>\n",
       "    </tr>\n",
       "    <tr>\n",
       "      <th>...</th>\n",
       "      <td>...</td>\n",
       "      <td>...</td>\n",
       "      <td>...</td>\n",
       "      <td>...</td>\n",
       "      <td>...</td>\n",
       "      <td>...</td>\n",
       "      <td>...</td>\n",
       "      <td>...</td>\n",
       "      <td>...</td>\n",
       "    </tr>\n",
       "    <tr>\n",
       "      <th>1674</th>\n",
       "      <td>11h277x</td>\n",
       "      <td>top</td>\n",
       "      <td>Self-Driving Cars Need to Be 99.99982% Crash-F...</td>\n",
       "      <td>NaN</td>\n",
       "      <td>Futurology</td>\n",
       "      <td>0.89</td>\n",
       "      <td>https://jalopnik.com/self-driving-car-vs-human...</td>\n",
       "      <td>Pemulis</td>\n",
       "      <td>2023-03-03 09:31:22</td>\n",
       "    </tr>\n",
       "    <tr>\n",
       "      <th>1675</th>\n",
       "      <td>6mdsvf</td>\n",
       "      <td>top</td>\n",
       "      <td>Shell Plans to Spend $1 Billion a Year on Clea...</td>\n",
       "      <td>NaN</td>\n",
       "      <td>Futurology</td>\n",
       "      <td>0.89</td>\n",
       "      <td>https://www.bloomberg.com/news/articles/2017-0...</td>\n",
       "      <td>mvea</td>\n",
       "      <td>2017-07-10 07:16:08</td>\n",
       "    </tr>\n",
       "    <tr>\n",
       "      <th>1676</th>\n",
       "      <td>cdw1rg</td>\n",
       "      <td>top</td>\n",
       "      <td>Humans May Be Accidentally Geoengineering the ...</td>\n",
       "      <td>NaN</td>\n",
       "      <td>Futurology</td>\n",
       "      <td>0.93</td>\n",
       "      <td>https://www.scientificamerican.com/article/hum...</td>\n",
       "      <td>mvea</td>\n",
       "      <td>2019-07-16 07:55:30</td>\n",
       "    </tr>\n",
       "    <tr>\n",
       "      <th>1677</th>\n",
       "      <td>erbtjy</td>\n",
       "      <td>top</td>\n",
       "      <td>All new homes in Wales will only be heated and...</td>\n",
       "      <td>NaN</td>\n",
       "      <td>Futurology</td>\n",
       "      <td>0.94</td>\n",
       "      <td>https://www.bbc.co.uk/news/uk-wales-51151032</td>\n",
       "      <td>Wagamaga</td>\n",
       "      <td>2020-01-20 06:00:53</td>\n",
       "    </tr>\n",
       "    <tr>\n",
       "      <th>1678</th>\n",
       "      <td>nfcomc</td>\n",
       "      <td>top</td>\n",
       "      <td>A single dose of psilocybin has a lasting ther...</td>\n",
       "      <td>NaN</td>\n",
       "      <td>Futurology</td>\n",
       "      <td>0.96</td>\n",
       "      <td>https://www.psypost.org/2021/05/a-single-dose-...</td>\n",
       "      <td>Sumit316</td>\n",
       "      <td>2021-05-18 10:51:05</td>\n",
       "    </tr>\n",
       "  </tbody>\n",
       "</table>\n",
       "<p>1662 rows × 9 columns</p>\n",
       "</div>"
      ],
      "text/plain": [
       "           id type                                              title  \\\n",
       "0     15wi75l  hot  r/futurology is now in the fediverse at - http...   \n",
       "9     17a1cd6  hot  SpaceX says the US Federal Aviation Authority'...   \n",
       "14    179wk9u  hot  Over 1 million satellites could be headed to E...   \n",
       "17    179pcbt  hot  Marc Andreessen just dropped a ‘Techno-Optimis...   \n",
       "18    17a1mue  hot  Will human languages be more unified or divers...   \n",
       "...       ...  ...                                                ...   \n",
       "1674  11h277x  top  Self-Driving Cars Need to Be 99.99982% Crash-F...   \n",
       "1675   6mdsvf  top  Shell Plans to Spend $1 Billion a Year on Clea...   \n",
       "1676   cdw1rg  top  Humans May Be Accidentally Geoengineering the ...   \n",
       "1677   erbtjy  top  All new homes in Wales will only be heated and...   \n",
       "1678   nfcomc  top  A single dose of psilocybin has a lasting ther...   \n",
       "\n",
       "                                              self_text   subreddit  \\\n",
       "0     https://futurology.today\\n\\nWe’ve had a Discor...  Futurology   \n",
       "9                                                   NaN  Futurology   \n",
       "14                                                  NaN  Futurology   \n",
       "17                                                  NaN  Futurology   \n",
       "18    Direction A: For example, designing a universa...  Futurology   \n",
       "...                                                 ...         ...   \n",
       "1674                                                NaN  Futurology   \n",
       "1675                                                NaN  Futurology   \n",
       "1676                                                NaN  Futurology   \n",
       "1677                                                NaN  Futurology   \n",
       "1678                                                NaN  Futurology   \n",
       "\n",
       "      upvote_ratio                                       link_address  \\\n",
       "0             0.90  https://www.reddit.com/r/Futurology/comments/1...   \n",
       "9             0.90  https://arstechnica.com/space/2023/10/citing-s...   \n",
       "14            0.94  https://www.space.com/million-satellites-conge...   \n",
       "17            0.76  https://fortune.com/2023/10/16/marc-andreessen...   \n",
       "18            0.87  https://www.reddit.com/r/Futurology/comments/1...   \n",
       "...            ...                                                ...   \n",
       "1674          0.89  https://jalopnik.com/self-driving-car-vs-human...   \n",
       "1675          0.89  https://www.bloomberg.com/news/articles/2017-0...   \n",
       "1676          0.93  https://www.scientificamerican.com/article/hum...   \n",
       "1677          0.94       https://www.bbc.co.uk/news/uk-wales-51151032   \n",
       "1678          0.96  https://www.psypost.org/2021/05/a-single-dose-...   \n",
       "\n",
       "                     user             datetime  \n",
       "0       FuturologyModTeam  2023-08-20 14:00:44  \n",
       "9              lughnasadh  2023-10-17 11:44:21  \n",
       "14           LiveScience_  2023-10-17 07:51:27  \n",
       "17    JamesTiberiusKirque  2023-10-16 23:47:22  \n",
       "18                 Ghenym  2023-10-17 11:57:22  \n",
       "...                   ...                  ...  \n",
       "1674              Pemulis  2023-03-03 09:31:22  \n",
       "1675                 mvea  2017-07-10 07:16:08  \n",
       "1676                 mvea  2019-07-16 07:55:30  \n",
       "1677             Wagamaga  2020-01-20 06:00:53  \n",
       "1678             Sumit316  2021-05-18 10:51:05  \n",
       "\n",
       "[1662 rows x 9 columns]"
      ]
     },
     "execution_count": 38,
     "metadata": {},
     "output_type": "execute_result"
    }
   ],
   "source": [
    "futurology[futurology['id'].duplicated() == True]"
   ]
  },
  {
   "cell_type": "code",
   "execution_count": 39,
   "id": "9ff1446c-ad19-4333-8bb1-70e82f8d5716",
   "metadata": {
    "tags": []
   },
   "outputs": [
    {
     "data": {
      "text/html": [
       "<div>\n",
       "<style scoped>\n",
       "    .dataframe tbody tr th:only-of-type {\n",
       "        vertical-align: middle;\n",
       "    }\n",
       "\n",
       "    .dataframe tbody tr th {\n",
       "        vertical-align: top;\n",
       "    }\n",
       "\n",
       "    .dataframe thead th {\n",
       "        text-align: right;\n",
       "    }\n",
       "</style>\n",
       "<table border=\"1\" class=\"dataframe\">\n",
       "  <thead>\n",
       "    <tr style=\"text-align: right;\">\n",
       "      <th></th>\n",
       "      <th>id</th>\n",
       "      <th>type</th>\n",
       "      <th>title</th>\n",
       "      <th>self_text</th>\n",
       "      <th>subreddit</th>\n",
       "      <th>upvote_ratio</th>\n",
       "      <th>link_address</th>\n",
       "      <th>user</th>\n",
       "      <th>datetime</th>\n",
       "    </tr>\n",
       "  </thead>\n",
       "  <tbody>\n",
       "    <tr>\n",
       "      <th>0</th>\n",
       "      <td>16yswpw</td>\n",
       "      <td>hot</td>\n",
       "      <td>I am Scott Sigler, author of many leather-boun...</td>\n",
       "      <td>How do you do, fellow kids? I'm a #1 New York ...</td>\n",
       "      <td>scifi</td>\n",
       "      <td>0.80</td>\n",
       "      <td>https://www.reddit.com/r/scifi/comments/16yswp...</td>\n",
       "      <td>scottsigler</td>\n",
       "      <td>2023-10-03 10:08:21</td>\n",
       "    </tr>\n",
       "    <tr>\n",
       "      <th>1</th>\n",
       "      <td>17a1hlv</td>\n",
       "      <td>hot</td>\n",
       "      <td>What science fiction novels do you think have ...</td>\n",
       "      <td>For example, some assumptions about the future...</td>\n",
       "      <td>scifi</td>\n",
       "      <td>0.88</td>\n",
       "      <td>https://www.reddit.com/r/scifi/comments/17a1hl...</td>\n",
       "      <td>Ghenym</td>\n",
       "      <td>2023-10-17 11:50:46</td>\n",
       "    </tr>\n",
       "    <tr>\n",
       "      <th>5</th>\n",
       "      <td>17a5t7r</td>\n",
       "      <td>hot</td>\n",
       "      <td>What’s the most terrifying sci-fi premise or s...</td>\n",
       "      <td>I was discussing with a friend on the most ter...</td>\n",
       "      <td>scifi</td>\n",
       "      <td>0.97</td>\n",
       "      <td>https://www.reddit.com/r/scifi/comments/17a5t7...</td>\n",
       "      <td>lv-426b</td>\n",
       "      <td>2023-10-17 15:00:26</td>\n",
       "    </tr>\n",
       "    <tr>\n",
       "      <th>12</th>\n",
       "      <td>17a16it</td>\n",
       "      <td>hot</td>\n",
       "      <td>Moebius meets Annihilation with great 2D anima...</td>\n",
       "      <td>Throw in some Raised by Wolves. Hopefully we g...</td>\n",
       "      <td>scifi</td>\n",
       "      <td>0.97</td>\n",
       "      <td>https://youtu.be/NWQH8cMpWTU?si=_pLn8TJhHS4Fx79W</td>\n",
       "      <td>Yung__Buck</td>\n",
       "      <td>2023-10-17 11:37:07</td>\n",
       "    </tr>\n",
       "    <tr>\n",
       "      <th>15</th>\n",
       "      <td>17a1825</td>\n",
       "      <td>hot</td>\n",
       "      <td>oh my god rewatching severence, what a series 🤯🤯🤯</td>\n",
       "      <td>NaN</td>\n",
       "      <td>scifi</td>\n",
       "      <td>0.87</td>\n",
       "      <td>https://www.reddit.com/r/scifi/comments/17a182...</td>\n",
       "      <td>Cormac-tracks</td>\n",
       "      <td>2023-10-17 11:39:04</td>\n",
       "    </tr>\n",
       "    <tr>\n",
       "      <th>...</th>\n",
       "      <td>...</td>\n",
       "      <td>...</td>\n",
       "      <td>...</td>\n",
       "      <td>...</td>\n",
       "      <td>...</td>\n",
       "      <td>...</td>\n",
       "      <td>...</td>\n",
       "      <td>...</td>\n",
       "      <td>...</td>\n",
       "    </tr>\n",
       "    <tr>\n",
       "      <th>1936</th>\n",
       "      <td>erjs4l</td>\n",
       "      <td>top</td>\n",
       "      <td>Why Hulu Picked Up Seth MacFarlane's The Orvil...</td>\n",
       "      <td>NaN</td>\n",
       "      <td>scifi</td>\n",
       "      <td>0.94</td>\n",
       "      <td>https://www.cinemablend.com/television/2488807...</td>\n",
       "      <td>NaN</td>\n",
       "      <td>2020-01-20 16:13:05</td>\n",
       "    </tr>\n",
       "    <tr>\n",
       "      <th>1937</th>\n",
       "      <td>3scmoj</td>\n",
       "      <td>top</td>\n",
       "      <td>A beautiful story about someone we love</td>\n",
       "      <td>NaN</td>\n",
       "      <td>scifi</td>\n",
       "      <td>0.91</td>\n",
       "      <td>http://theoatmeal.com/comics/plane</td>\n",
       "      <td>mrcanoehead</td>\n",
       "      <td>2015-11-10 20:12:30</td>\n",
       "    </tr>\n",
       "    <tr>\n",
       "      <th>1938</th>\n",
       "      <td>gfu65e</td>\n",
       "      <td>top</td>\n",
       "      <td>Tom Cruise will work with NASA on first movie ...</td>\n",
       "      <td>NaN</td>\n",
       "      <td>scifi</td>\n",
       "      <td>0.92</td>\n",
       "      <td>https://www.theverge.com/2020/5/5/21248460/nas...</td>\n",
       "      <td>EricFromOuterSpace</td>\n",
       "      <td>2020-05-08 10:25:19</td>\n",
       "    </tr>\n",
       "    <tr>\n",
       "      <th>1939</th>\n",
       "      <td>1lf3oo</td>\n",
       "      <td>top</td>\n",
       "      <td>Ever wonder what Picard's crew would look like...</td>\n",
       "      <td>Enjoy!\\n\\nhttp://imgur.com/a/s9BEh\\n\\nNote: In...</td>\n",
       "      <td>scifi</td>\n",
       "      <td>0.92</td>\n",
       "      <td>https://www.reddit.com/r/scifi/comments/1lf3oo...</td>\n",
       "      <td>Gnagus</td>\n",
       "      <td>2013-08-30 15:41:54</td>\n",
       "    </tr>\n",
       "    <tr>\n",
       "      <th>1940</th>\n",
       "      <td>3z8zll</td>\n",
       "      <td>top</td>\n",
       "      <td>Boba Fett Actor Jason Wingreen Dies : People.com</td>\n",
       "      <td>NaN</td>\n",
       "      <td>scifi</td>\n",
       "      <td>0.90</td>\n",
       "      <td>http://www.people.com/article/boba-fett-jason-...</td>\n",
       "      <td>NaN</td>\n",
       "      <td>2016-01-03 02:26:37</td>\n",
       "    </tr>\n",
       "  </tbody>\n",
       "</table>\n",
       "<p>1920 rows × 9 columns</p>\n",
       "</div>"
      ],
      "text/plain": [
       "           id type                                              title  \\\n",
       "0     16yswpw  hot  I am Scott Sigler, author of many leather-boun...   \n",
       "1     17a1hlv  hot  What science fiction novels do you think have ...   \n",
       "5     17a5t7r  hot  What’s the most terrifying sci-fi premise or s...   \n",
       "12    17a16it  hot  Moebius meets Annihilation with great 2D anima...   \n",
       "15    17a1825  hot  oh my god rewatching severence, what a series 🤯🤯🤯   \n",
       "...       ...  ...                                                ...   \n",
       "1936   erjs4l  top  Why Hulu Picked Up Seth MacFarlane's The Orvil...   \n",
       "1937   3scmoj  top            A beautiful story about someone we love   \n",
       "1938   gfu65e  top  Tom Cruise will work with NASA on first movie ...   \n",
       "1939   1lf3oo  top  Ever wonder what Picard's crew would look like...   \n",
       "1940   3z8zll  top   Boba Fett Actor Jason Wingreen Dies : People.com   \n",
       "\n",
       "                                              self_text subreddit  \\\n",
       "0     How do you do, fellow kids? I'm a #1 New York ...     scifi   \n",
       "1     For example, some assumptions about the future...     scifi   \n",
       "5     I was discussing with a friend on the most ter...     scifi   \n",
       "12    Throw in some Raised by Wolves. Hopefully we g...     scifi   \n",
       "15                                                  NaN     scifi   \n",
       "...                                                 ...       ...   \n",
       "1936                                                NaN     scifi   \n",
       "1937                                                NaN     scifi   \n",
       "1938                                                NaN     scifi   \n",
       "1939  Enjoy!\\n\\nhttp://imgur.com/a/s9BEh\\n\\nNote: In...     scifi   \n",
       "1940                                                NaN     scifi   \n",
       "\n",
       "      upvote_ratio                                       link_address  \\\n",
       "0             0.80  https://www.reddit.com/r/scifi/comments/16yswp...   \n",
       "1             0.88  https://www.reddit.com/r/scifi/comments/17a1hl...   \n",
       "5             0.97  https://www.reddit.com/r/scifi/comments/17a5t7...   \n",
       "12            0.97   https://youtu.be/NWQH8cMpWTU?si=_pLn8TJhHS4Fx79W   \n",
       "15            0.87  https://www.reddit.com/r/scifi/comments/17a182...   \n",
       "...            ...                                                ...   \n",
       "1936          0.94  https://www.cinemablend.com/television/2488807...   \n",
       "1937          0.91                 http://theoatmeal.com/comics/plane   \n",
       "1938          0.92  https://www.theverge.com/2020/5/5/21248460/nas...   \n",
       "1939          0.92  https://www.reddit.com/r/scifi/comments/1lf3oo...   \n",
       "1940          0.90  http://www.people.com/article/boba-fett-jason-...   \n",
       "\n",
       "                    user             datetime  \n",
       "0            scottsigler  2023-10-03 10:08:21  \n",
       "1                 Ghenym  2023-10-17 11:50:46  \n",
       "5                lv-426b  2023-10-17 15:00:26  \n",
       "12            Yung__Buck  2023-10-17 11:37:07  \n",
       "15         Cormac-tracks  2023-10-17 11:39:04  \n",
       "...                  ...                  ...  \n",
       "1936                 NaN  2020-01-20 16:13:05  \n",
       "1937         mrcanoehead  2015-11-10 20:12:30  \n",
       "1938  EricFromOuterSpace  2020-05-08 10:25:19  \n",
       "1939              Gnagus  2013-08-30 15:41:54  \n",
       "1940                 NaN  2016-01-03 02:26:37  \n",
       "\n",
       "[1920 rows x 9 columns]"
      ]
     },
     "execution_count": 39,
     "metadata": {},
     "output_type": "execute_result"
    }
   ],
   "source": [
    "scifi[scifi['id'].duplicated() == True]"
   ]
  },
  {
   "cell_type": "code",
   "execution_count": 40,
   "id": "b77f0ac3-0fbb-4ecd-8a13-19ee0fadf57f",
   "metadata": {
    "tags": []
   },
   "outputs": [],
   "source": [
    "futurology.drop_duplicates(subset = 'id', keep = 'last', inplace = True)\n",
    "\n",
    "futurology.set_index('id', inplace = True)"
   ]
  },
  {
   "cell_type": "code",
   "execution_count": 41,
   "id": "e1c478dc-950b-4ad3-bab5-0bf642c59ddf",
   "metadata": {
    "tags": []
   },
   "outputs": [],
   "source": [
    "scifi.drop_duplicates(subset = 'id', keep = 'last', inplace = True)\n",
    "\n",
    "scifi.set_index('id', inplace = True)"
   ]
  },
  {
   "cell_type": "code",
   "execution_count": null,
   "id": "9269615a-3a69-438d-916d-7586e3bde171",
   "metadata": {
    "tags": []
   },
   "outputs": [],
   "source": []
  },
  {
   "cell_type": "code",
   "execution_count": 42,
   "id": "686019f9-395c-492c-a4ff-be02d3beb351",
   "metadata": {
    "tags": []
   },
   "outputs": [],
   "source": [
    "reddit_data_df = pd.concat([futurology, scifi])"
   ]
  },
  {
   "cell_type": "code",
   "execution_count": 43,
   "id": "b4eb27ab-aa17-458e-820c-148267992fe4",
   "metadata": {
    "tags": []
   },
   "outputs": [
    {
     "data": {
      "text/plain": [
       "scifi         1961\n",
       "Futurology    1695\n",
       "Name: subreddit, dtype: int64"
      ]
     },
     "execution_count": 43,
     "metadata": {},
     "output_type": "execute_result"
    }
   ],
   "source": [
    "reddit_data_df['subreddit'].value_counts()"
   ]
  },
  {
   "cell_type": "code",
   "execution_count": 44,
   "id": "d8c565d0-e0f4-47b7-b0a0-30087aca9ce3",
   "metadata": {
    "tags": []
   },
   "outputs": [],
   "source": [
    "reddit_data_df.to_csv('../datasets/subreddit_data_' + str(datetime.date.today()) + '.csv')"
   ]
  },
  {
   "cell_type": "code",
   "execution_count": null,
   "id": "7ef618b5-6ed3-4688-9e6c-c0721b1e1a82",
   "metadata": {},
   "outputs": [],
   "source": []
  }
 ],
 "metadata": {
  "kernelspec": {
   "display_name": "Python 3 (ipykernel)",
   "language": "python",
   "name": "python3"
  },
  "language_info": {
   "codemirror_mode": {
    "name": "ipython",
    "version": 3
   },
   "file_extension": ".py",
   "mimetype": "text/x-python",
   "name": "python",
   "nbconvert_exporter": "python",
   "pygments_lexer": "ipython3",
   "version": "3.11.4"
  }
 },
 "nbformat": 4,
 "nbformat_minor": 5
}
