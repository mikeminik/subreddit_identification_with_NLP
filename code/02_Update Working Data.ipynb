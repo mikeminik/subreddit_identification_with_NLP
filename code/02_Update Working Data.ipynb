{
 "cells": [
  {
   "cell_type": "code",
   "execution_count": 2,
   "id": "a0aa5407-f229-4ab2-88f2-fe5a3136eb7e",
   "metadata": {
    "tags": []
   },
   "outputs": [],
   "source": [
    "import numpy as np\n",
    "import pandas as pd\n",
    "import matplotlib.pyplot as plt\n",
    "import datetime"
   ]
  },
  {
   "cell_type": "markdown",
   "id": "b4b0aae5-77fc-4a21-b929-f423131ee435",
   "metadata": {},
   "source": [
    "### Read in data created from Data Retrieval"
   ]
  },
  {
   "cell_type": "code",
   "execution_count": 3,
   "id": "f39f5a70-3009-4688-9d6f-812ccebcb3d4",
   "metadata": {
    "tags": []
   },
   "outputs": [],
   "source": [
    "#TODO: Import existing csvs from datasets\n",
    "futurology_10_17_with_links = pd.read_csv('../datasets/futurology_2023-10-17_with_links.csv')\n",
    "futurology_10_18_with_links = pd.read_csv('../datasets/futurology_2023-10-18_with_links.csv')\n",
    "scifi_10_17_with_links = pd.read_csv('../datasets/scifi_2023-10-17_with_links.csv')\n",
    "scifi_10_18_with_links = pd.read_csv('../datasets/scifi_2023-10-18_with_links.csv')"
   ]
  },
  {
   "cell_type": "code",
   "execution_count": 4,
   "id": "41b70f4e-9fb0-4b91-92b7-add873586fd4",
   "metadata": {
    "tags": []
   },
   "outputs": [],
   "source": [
    "pd.set_option('display.max_colwidth', None)"
   ]
  },
  {
   "cell_type": "markdown",
   "id": "bb4ac665-8b92-4c74-9c8c-7bc3f0d5ee01",
   "metadata": {},
   "source": [
    "### Combine posts from each respective subreddit and drop duplicates based on Id"
   ]
  },
  {
   "cell_type": "code",
   "execution_count": 5,
   "id": "efcd475c-2643-4244-ba23-7f49bba17778",
   "metadata": {
    "tags": []
   },
   "outputs": [],
   "source": [
    "futurology = pd.concat([futurology_10_17_with_links, futurology_10_18_with_links])"
   ]
  },
  {
   "cell_type": "code",
   "execution_count": 6,
   "id": "64d370ee-b411-4259-9d13-0c4c07128be5",
   "metadata": {
    "tags": []
   },
   "outputs": [
    {
     "data": {
      "text/plain": [
       "(3357, 9)"
      ]
     },
     "execution_count": 6,
     "metadata": {},
     "output_type": "execute_result"
    }
   ],
   "source": [
    "futurology.shape"
   ]
  },
  {
   "cell_type": "code",
   "execution_count": 7,
   "id": "c3a87e44-a13f-442c-ab42-49fe44cca83e",
   "metadata": {
    "tags": []
   },
   "outputs": [],
   "source": [
    "scifi = pd.concat([scifi_10_17_with_links, scifi_10_18_with_links])"
   ]
  },
  {
   "cell_type": "code",
   "execution_count": 8,
   "id": "cd59c624-f270-43f0-bcd4-535c9f433b26",
   "metadata": {
    "tags": []
   },
   "outputs": [
    {
     "data": {
      "text/plain": [
       "(3881, 9)"
      ]
     },
     "execution_count": 8,
     "metadata": {},
     "output_type": "execute_result"
    }
   ],
   "source": [
    "scifi.shape"
   ]
  },
  {
   "cell_type": "code",
   "execution_count": 9,
   "id": "393dc99f-d746-4e0b-a338-b6719109561d",
   "metadata": {
    "tags": []
   },
   "outputs": [
    {
     "data": {
      "text/html": [
       "<div>\n",
       "<style scoped>\n",
       "    .dataframe tbody tr th:only-of-type {\n",
       "        vertical-align: middle;\n",
       "    }\n",
       "\n",
       "    .dataframe tbody tr th {\n",
       "        vertical-align: top;\n",
       "    }\n",
       "\n",
       "    .dataframe thead th {\n",
       "        text-align: right;\n",
       "    }\n",
       "</style>\n",
       "<table border=\"1\" class=\"dataframe\">\n",
       "  <thead>\n",
       "    <tr style=\"text-align: right;\">\n",
       "      <th></th>\n",
       "      <th>id</th>\n",
       "      <th>type</th>\n",
       "      <th>title</th>\n",
       "      <th>self_text</th>\n",
       "      <th>subreddit</th>\n",
       "      <th>upvote_ratio</th>\n",
       "      <th>link_address</th>\n",
       "      <th>user</th>\n",
       "      <th>datetime</th>\n",
       "    </tr>\n",
       "  </thead>\n",
       "  <tbody>\n",
       "    <tr>\n",
       "      <th>0</th>\n",
       "      <td>15wi75l</td>\n",
       "      <td>hot</td>\n",
       "      <td>r/futurology is now in the fediverse at - https://futurology.today</td>\n",
       "      <td>https://futurology.today\\n\\nWe’ve had a Discord channel for a while, and now you can find us in the fediverse too. \\n\\nThe site is built with software called Lemmy and looks much the same as Reddit. It even uses the r/subreddit naming conventions for different sections, just swapping out ‘r’ and using ‘c’ instead. The biggest difference is that alongside subscribing to these sections (subreddit equivalents) on our site, you can also subscribe to them on other fediverse sites, and their content will show up on your front page on our site, alongside our content.\\n\\nNothing will change on the r/futurology subreddit, this new site will be an extension of its existing community. We expect over time the site will be a mixture of people from the subreddit and brand new people who find us within the fediverse network.\\n\\n**When setting up your futurology.today account - take care with your password. You need to add an email to your account to recover it, if it's lost**</td>\n",
       "      <td>Futurology</td>\n",
       "      <td>0.90</td>\n",
       "      <td>https://www.reddit.com/r/Futurology/comments/15wi75l/rfuturology_is_now_in_the_fediverse_at/</td>\n",
       "      <td>FuturologyModTeam</td>\n",
       "      <td>2023-08-20 14:00:44</td>\n",
       "    </tr>\n",
       "    <tr>\n",
       "      <th>9</th>\n",
       "      <td>17a1cd6</td>\n",
       "      <td>hot</td>\n",
       "      <td>SpaceX says the US Federal Aviation Authority's lack of staff and funding is significantly slowing its progress, and worries the problem will worsen.</td>\n",
       "      <td>NaN</td>\n",
       "      <td>Futurology</td>\n",
       "      <td>0.90</td>\n",
       "      <td>https://arstechnica.com/space/2023/10/citing-slow-starship-reviews-spacex-urges-faa-to-double-licensing-staff/</td>\n",
       "      <td>lughnasadh</td>\n",
       "      <td>2023-10-17 11:44:21</td>\n",
       "    </tr>\n",
       "    <tr>\n",
       "      <th>14</th>\n",
       "      <td>179wk9u</td>\n",
       "      <td>hot</td>\n",
       "      <td>Over 1 million satellites could be headed to Earth orbit, and scientists are worried</td>\n",
       "      <td>NaN</td>\n",
       "      <td>Futurology</td>\n",
       "      <td>0.94</td>\n",
       "      <td>https://www.space.com/million-satellites-congest-low-earth-orbit-study-shows</td>\n",
       "      <td>LiveScience_</td>\n",
       "      <td>2023-10-17 07:51:27</td>\n",
       "    </tr>\n",
       "    <tr>\n",
       "      <th>17</th>\n",
       "      <td>179pcbt</td>\n",
       "      <td>hot</td>\n",
       "      <td>Marc Andreessen just dropped a ‘Techno-Optimist Manifesto’ that sees a world of 50 billion people settling other planets</td>\n",
       "      <td>NaN</td>\n",
       "      <td>Futurology</td>\n",
       "      <td>0.76</td>\n",
       "      <td>https://fortune.com/2023/10/16/marc-andreessen-techno-optimist-manifesto-ai-50-billion-people-billionaire-vc/</td>\n",
       "      <td>JamesTiberiusKirque</td>\n",
       "      <td>2023-10-16 23:47:22</td>\n",
       "    </tr>\n",
       "    <tr>\n",
       "      <th>18</th>\n",
       "      <td>17a1mue</td>\n",
       "      <td>hot</td>\n",
       "      <td>Will human languages be more unified or diverse in the future?</td>\n",
       "      <td>Direction A: For example, designing a universal artificial language, or using the existing English as a fully universal language, can reduce a lot of communication costs and design costs.\\n\\nDirection B: Human languages are becoming more and more diverse, and everyone can even have their own language.</td>\n",
       "      <td>Futurology</td>\n",
       "      <td>0.87</td>\n",
       "      <td>https://www.reddit.com/r/Futurology/comments/17a1mue/will_human_languages_be_more_unified_or_diverse/</td>\n",
       "      <td>Ghenym</td>\n",
       "      <td>2023-10-17 11:57:22</td>\n",
       "    </tr>\n",
       "    <tr>\n",
       "      <th>...</th>\n",
       "      <td>...</td>\n",
       "      <td>...</td>\n",
       "      <td>...</td>\n",
       "      <td>...</td>\n",
       "      <td>...</td>\n",
       "      <td>...</td>\n",
       "      <td>...</td>\n",
       "      <td>...</td>\n",
       "      <td>...</td>\n",
       "    </tr>\n",
       "    <tr>\n",
       "      <th>1674</th>\n",
       "      <td>11h277x</td>\n",
       "      <td>top</td>\n",
       "      <td>Self-Driving Cars Need to Be 99.99982% Crash-Free to Be Safer Than Humans</td>\n",
       "      <td>NaN</td>\n",
       "      <td>Futurology</td>\n",
       "      <td>0.89</td>\n",
       "      <td>https://jalopnik.com/self-driving-car-vs-human-99-percent-safe-crash-data-1850170268</td>\n",
       "      <td>Pemulis</td>\n",
       "      <td>2023-03-03 09:31:22</td>\n",
       "    </tr>\n",
       "    <tr>\n",
       "      <th>1675</th>\n",
       "      <td>6mdsvf</td>\n",
       "      <td>top</td>\n",
       "      <td>Shell Plans to Spend $1 Billion a Year on Clean Energy by 2020 - CEO says shift to renewables, electric cars is accelerating</td>\n",
       "      <td>NaN</td>\n",
       "      <td>Futurology</td>\n",
       "      <td>0.89</td>\n",
       "      <td>https://www.bloomberg.com/news/articles/2017-07-10/shell-plans-to-spend-1-billion-a-year-on-clean-energy-by-2020</td>\n",
       "      <td>mvea</td>\n",
       "      <td>2017-07-10 07:16:08</td>\n",
       "    </tr>\n",
       "    <tr>\n",
       "      <th>1676</th>\n",
       "      <td>cdw1rg</td>\n",
       "      <td>top</td>\n",
       "      <td>Humans May Be Accidentally Geoengineering the Oceans - Iron particles released by industrial activities are falling into the seas in greater quantities than previously thought. Known as “iron fertilization,” it could promote the growth of phytoplankton, which naturally suck up carbon dioxide.</td>\n",
       "      <td>NaN</td>\n",
       "      <td>Futurology</td>\n",
       "      <td>0.93</td>\n",
       "      <td>https://www.scientificamerican.com/article/humans-may-be-accidentally-geoengineering-the-oceans/</td>\n",
       "      <td>mvea</td>\n",
       "      <td>2019-07-16 07:55:30</td>\n",
       "    </tr>\n",
       "    <tr>\n",
       "      <th>1677</th>\n",
       "      <td>erbtjy</td>\n",
       "      <td>top</td>\n",
       "      <td>All new homes in Wales will only be heated and powered by clean energy under new Welsh Government plans. Housing accounts for 9% of all greenhouse gas emissions in Wales.</td>\n",
       "      <td>NaN</td>\n",
       "      <td>Futurology</td>\n",
       "      <td>0.94</td>\n",
       "      <td>https://www.bbc.co.uk/news/uk-wales-51151032</td>\n",
       "      <td>Wagamaga</td>\n",
       "      <td>2020-01-20 06:00:53</td>\n",
       "    </tr>\n",
       "    <tr>\n",
       "      <th>1678</th>\n",
       "      <td>nfcomc</td>\n",
       "      <td>top</td>\n",
       "      <td>A single dose of psilocybin has a lasting therapeutic effect on migraine headache, according to a new placebo-controlled study</td>\n",
       "      <td>NaN</td>\n",
       "      <td>Futurology</td>\n",
       "      <td>0.96</td>\n",
       "      <td>https://www.psypost.org/2021/05/a-single-dose-of-psilocybin-has-a-lasting-therapeutic-effect-on-migraine-headache-according-to-a-new-placebo-controlled-study-60793</td>\n",
       "      <td>Sumit316</td>\n",
       "      <td>2021-05-18 10:51:05</td>\n",
       "    </tr>\n",
       "  </tbody>\n",
       "</table>\n",
       "<p>1662 rows × 9 columns</p>\n",
       "</div>"
      ],
      "text/plain": [
       "           id type  \\\n",
       "0     15wi75l  hot   \n",
       "9     17a1cd6  hot   \n",
       "14    179wk9u  hot   \n",
       "17    179pcbt  hot   \n",
       "18    17a1mue  hot   \n",
       "...       ...  ...   \n",
       "1674  11h277x  top   \n",
       "1675   6mdsvf  top   \n",
       "1676   cdw1rg  top   \n",
       "1677   erbtjy  top   \n",
       "1678   nfcomc  top   \n",
       "\n",
       "                                                                                                                                                                                                                                                                                                      title  \\\n",
       "0                                                                                                                                                                                                                                        r/futurology is now in the fediverse at - https://futurology.today   \n",
       "9                                                                                                                                                     SpaceX says the US Federal Aviation Authority's lack of staff and funding is significantly slowing its progress, and worries the problem will worsen.   \n",
       "14                                                                                                                                                                                                                     Over 1 million satellites could be headed to Earth orbit, and scientists are worried   \n",
       "17                                                                                                                                                                                 Marc Andreessen just dropped a ‘Techno-Optimist Manifesto’ that sees a world of 50 billion people settling other planets   \n",
       "18                                                                                                                                                                                                                                           Will human languages be more unified or diverse in the future?   \n",
       "...                                                                                                                                                                                                                                                                                                     ...   \n",
       "1674                                                                                                                                                                                                                              Self-Driving Cars Need to Be 99.99982% Crash-Free to Be Safer Than Humans   \n",
       "1675                                                                                                                                                                           Shell Plans to Spend $1 Billion a Year on Clean Energy by 2020 - CEO says shift to renewables, electric cars is accelerating   \n",
       "1676  Humans May Be Accidentally Geoengineering the Oceans - Iron particles released by industrial activities are falling into the seas in greater quantities than previously thought. Known as “iron fertilization,” it could promote the growth of phytoplankton, which naturally suck up carbon dioxide.   \n",
       "1677                                                                                                                             All new homes in Wales will only be heated and powered by clean energy under new Welsh Government plans. Housing accounts for 9% of all greenhouse gas emissions in Wales.   \n",
       "1678                                                                                                                                                                         A single dose of psilocybin has a lasting therapeutic effect on migraine headache, according to a new placebo-controlled study   \n",
       "\n",
       "                                                                                                                                                                                                                                                                                                                                                                                                                                                                                                                                                                                                                                                                                                                                                                                                                                                                                                                                                                                                            self_text  \\\n",
       "0     https://futurology.today\\n\\nWe’ve had a Discord channel for a while, and now you can find us in the fediverse too. \\n\\nThe site is built with software called Lemmy and looks much the same as Reddit. It even uses the r/subreddit naming conventions for different sections, just swapping out ‘r’ and using ‘c’ instead. The biggest difference is that alongside subscribing to these sections (subreddit equivalents) on our site, you can also subscribe to them on other fediverse sites, and their content will show up on your front page on our site, alongside our content.\\n\\nNothing will change on the r/futurology subreddit, this new site will be an extension of its existing community. We expect over time the site will be a mixture of people from the subreddit and brand new people who find us within the fediverse network.\\n\\n**When setting up your futurology.today account - take care with your password. You need to add an email to your account to recover it, if it's lost**   \n",
       "9                                                                                                                                                                                                                                                                                                                                                                                                                                                                                                                                                                                                                                                                                                                                                                                                                                                                                                                                                                                                                 NaN   \n",
       "14                                                                                                                                                                                                                                                                                                                                                                                                                                                                                                                                                                                                                                                                                                                                                                                                                                                                                                                                                                                                                NaN   \n",
       "17                                                                                                                                                                                                                                                                                                                                                                                                                                                                                                                                                                                                                                                                                                                                                                                                                                                                                                                                                                                                                NaN   \n",
       "18                                                                                                                                                                                                                                                                                                                                                                                                                                                                                                                                                                                                                                                                                                     Direction A: For example, designing a universal artificial language, or using the existing English as a fully universal language, can reduce a lot of communication costs and design costs.\\n\\nDirection B: Human languages are becoming more and more diverse, and everyone can even have their own language.   \n",
       "...                                                                                                                                                                                                                                                                                                                                                                                                                                                                                                                                                                                                                                                                                                                                                                                                                                                                                                                                                                                                               ...   \n",
       "1674                                                                                                                                                                                                                                                                                                                                                                                                                                                                                                                                                                                                                                                                                                                                                                                                                                                                                                                                                                                                              NaN   \n",
       "1675                                                                                                                                                                                                                                                                                                                                                                                                                                                                                                                                                                                                                                                                                                                                                                                                                                                                                                                                                                                                              NaN   \n",
       "1676                                                                                                                                                                                                                                                                                                                                                                                                                                                                                                                                                                                                                                                                                                                                                                                                                                                                                                                                                                                                              NaN   \n",
       "1677                                                                                                                                                                                                                                                                                                                                                                                                                                                                                                                                                                                                                                                                                                                                                                                                                                                                                                                                                                                                              NaN   \n",
       "1678                                                                                                                                                                                                                                                                                                                                                                                                                                                                                                                                                                                                                                                                                                                                                                                                                                                                                                                                                                                                              NaN   \n",
       "\n",
       "       subreddit  upvote_ratio  \\\n",
       "0     Futurology          0.90   \n",
       "9     Futurology          0.90   \n",
       "14    Futurology          0.94   \n",
       "17    Futurology          0.76   \n",
       "18    Futurology          0.87   \n",
       "...          ...           ...   \n",
       "1674  Futurology          0.89   \n",
       "1675  Futurology          0.89   \n",
       "1676  Futurology          0.93   \n",
       "1677  Futurology          0.94   \n",
       "1678  Futurology          0.96   \n",
       "\n",
       "                                                                                                                                                             link_address  \\\n",
       "0                                                                            https://www.reddit.com/r/Futurology/comments/15wi75l/rfuturology_is_now_in_the_fediverse_at/   \n",
       "9                                                          https://arstechnica.com/space/2023/10/citing-slow-starship-reviews-spacex-urges-faa-to-double-licensing-staff/   \n",
       "14                                                                                           https://www.space.com/million-satellites-congest-low-earth-orbit-study-shows   \n",
       "17                                                          https://fortune.com/2023/10/16/marc-andreessen-techno-optimist-manifesto-ai-50-billion-people-billionaire-vc/   \n",
       "18                                                                  https://www.reddit.com/r/Futurology/comments/17a1mue/will_human_languages_be_more_unified_or_diverse/   \n",
       "...                                                                                                                                                                   ...   \n",
       "1674                                                                                 https://jalopnik.com/self-driving-car-vs-human-99-percent-safe-crash-data-1850170268   \n",
       "1675                                                     https://www.bloomberg.com/news/articles/2017-07-10/shell-plans-to-spend-1-billion-a-year-on-clean-energy-by-2020   \n",
       "1676                                                                     https://www.scientificamerican.com/article/humans-may-be-accidentally-geoengineering-the-oceans/   \n",
       "1677                                                                                                                         https://www.bbc.co.uk/news/uk-wales-51151032   \n",
       "1678  https://www.psypost.org/2021/05/a-single-dose-of-psilocybin-has-a-lasting-therapeutic-effect-on-migraine-headache-according-to-a-new-placebo-controlled-study-60793   \n",
       "\n",
       "                     user             datetime  \n",
       "0       FuturologyModTeam  2023-08-20 14:00:44  \n",
       "9              lughnasadh  2023-10-17 11:44:21  \n",
       "14           LiveScience_  2023-10-17 07:51:27  \n",
       "17    JamesTiberiusKirque  2023-10-16 23:47:22  \n",
       "18                 Ghenym  2023-10-17 11:57:22  \n",
       "...                   ...                  ...  \n",
       "1674              Pemulis  2023-03-03 09:31:22  \n",
       "1675                 mvea  2017-07-10 07:16:08  \n",
       "1676                 mvea  2019-07-16 07:55:30  \n",
       "1677             Wagamaga  2020-01-20 06:00:53  \n",
       "1678             Sumit316  2021-05-18 10:51:05  \n",
       "\n",
       "[1662 rows x 9 columns]"
      ]
     },
     "execution_count": 9,
     "metadata": {},
     "output_type": "execute_result"
    }
   ],
   "source": [
    "futurology[futurology['id'].duplicated() == True]"
   ]
  },
  {
   "cell_type": "code",
   "execution_count": 10,
   "id": "9ff1446c-ad19-4333-8bb1-70e82f8d5716",
   "metadata": {
    "tags": []
   },
   "outputs": [
    {
     "data": {
      "text/html": [
       "<div>\n",
       "<style scoped>\n",
       "    .dataframe tbody tr th:only-of-type {\n",
       "        vertical-align: middle;\n",
       "    }\n",
       "\n",
       "    .dataframe tbody tr th {\n",
       "        vertical-align: top;\n",
       "    }\n",
       "\n",
       "    .dataframe thead th {\n",
       "        text-align: right;\n",
       "    }\n",
       "</style>\n",
       "<table border=\"1\" class=\"dataframe\">\n",
       "  <thead>\n",
       "    <tr style=\"text-align: right;\">\n",
       "      <th></th>\n",
       "      <th>id</th>\n",
       "      <th>type</th>\n",
       "      <th>title</th>\n",
       "      <th>self_text</th>\n",
       "      <th>subreddit</th>\n",
       "      <th>upvote_ratio</th>\n",
       "      <th>link_address</th>\n",
       "      <th>user</th>\n",
       "      <th>datetime</th>\n",
       "    </tr>\n",
       "  </thead>\n",
       "  <tbody>\n",
       "    <tr>\n",
       "      <th>0</th>\n",
       "      <td>16yswpw</td>\n",
       "      <td>hot</td>\n",
       "      <td>I am Scott Sigler, author of many leather-bound books, including THE CRYPT: SHAKEDOWN, which is out *today* in hardcover, Kindle, and audio. AMA.</td>\n",
       "      <td>How do you do, fellow kids? I'm a #1 New York Times bestselling author. My new scifi/horror novel THE CRYPT: SHAKEDOWN just dropped. Links at [scottsigler.com/thecrypt](https://scottsigler.com/thecrypt)\\n\\nI'll hang out here for a few hours and answer any questions you might have about THE CRYPT, my Infected Trilogy, the Sun Symbol Duology, writing horror and scifi, the book biz, being a creator with AHDH, how I get shit done (or do *not* get shit done, see previous mention of ADHD), podcasting, my journey as a creator, my Galactic Football League series, and any damn other thing you want to know.\\n\\nI'm on all the socials as \"scottsigler\"\\n\\nhttps://preview.redd.it/zdjhnlyw00sb1.png?width=800&amp;format=png&amp;auto=webp&amp;s=eeda3179a4d0109625e71c39782e2d0a1c3ca8af</td>\n",
       "      <td>scifi</td>\n",
       "      <td>0.80</td>\n",
       "      <td>https://www.reddit.com/r/scifi/comments/16yswpw/i_am_scott_sigler_author_of_many_leatherbound/</td>\n",
       "      <td>scottsigler</td>\n",
       "      <td>2023-10-03 10:08:21</td>\n",
       "    </tr>\n",
       "    <tr>\n",
       "      <th>1</th>\n",
       "      <td>17a1hlv</td>\n",
       "      <td>hot</td>\n",
       "      <td>What science fiction novels do you think have shocked you?</td>\n",
       "      <td>For example, some assumptions about the future and human nature are cruel but very realistic.</td>\n",
       "      <td>scifi</td>\n",
       "      <td>0.88</td>\n",
       "      <td>https://www.reddit.com/r/scifi/comments/17a1hlv/what_science_fiction_novels_do_you_think_have/</td>\n",
       "      <td>Ghenym</td>\n",
       "      <td>2023-10-17 11:50:46</td>\n",
       "    </tr>\n",
       "    <tr>\n",
       "      <th>5</th>\n",
       "      <td>17a5t7r</td>\n",
       "      <td>hot</td>\n",
       "      <td>What’s the most terrifying sci-fi premise or story you’ve heard of.</td>\n",
       "      <td>I was discussing with a friend on the most terrifying plots or existential threat you’ve encountered read or watched.   \\nI read a short story which was the basis of event horizon which was pretty terrifying, but find most creature , sci-fi not that terrifying. Sunshine‘s harshness of the environment take was much more effective. Is there anything that’s really chilled you to your core. ?</td>\n",
       "      <td>scifi</td>\n",
       "      <td>0.97</td>\n",
       "      <td>https://www.reddit.com/r/scifi/comments/17a5t7r/whats_the_most_terrifying_scifi_premise_or_story/</td>\n",
       "      <td>lv-426b</td>\n",
       "      <td>2023-10-17 15:00:26</td>\n",
       "    </tr>\n",
       "    <tr>\n",
       "      <th>12</th>\n",
       "      <td>17a16it</td>\n",
       "      <td>hot</td>\n",
       "      <td>Moebius meets Annihilation with great 2D animation in the trailer for Scavengers Reign</td>\n",
       "      <td>Throw in some Raised by Wolves. Hopefully we get more than one season.</td>\n",
       "      <td>scifi</td>\n",
       "      <td>0.97</td>\n",
       "      <td>https://youtu.be/NWQH8cMpWTU?si=_pLn8TJhHS4Fx79W</td>\n",
       "      <td>Yung__Buck</td>\n",
       "      <td>2023-10-17 11:37:07</td>\n",
       "    </tr>\n",
       "    <tr>\n",
       "      <th>15</th>\n",
       "      <td>17a1825</td>\n",
       "      <td>hot</td>\n",
       "      <td>oh my god rewatching severence, what a series 🤯🤯🤯</td>\n",
       "      <td>NaN</td>\n",
       "      <td>scifi</td>\n",
       "      <td>0.87</td>\n",
       "      <td>https://www.reddit.com/r/scifi/comments/17a1825/oh_my_god_rewatching_severence_what_a_series/</td>\n",
       "      <td>Cormac-tracks</td>\n",
       "      <td>2023-10-17 11:39:04</td>\n",
       "    </tr>\n",
       "    <tr>\n",
       "      <th>...</th>\n",
       "      <td>...</td>\n",
       "      <td>...</td>\n",
       "      <td>...</td>\n",
       "      <td>...</td>\n",
       "      <td>...</td>\n",
       "      <td>...</td>\n",
       "      <td>...</td>\n",
       "      <td>...</td>\n",
       "      <td>...</td>\n",
       "    </tr>\n",
       "    <tr>\n",
       "      <th>1936</th>\n",
       "      <td>erjs4l</td>\n",
       "      <td>top</td>\n",
       "      <td>Why Hulu Picked Up Seth MacFarlane's The Orville Season 3 From Fox</td>\n",
       "      <td>NaN</td>\n",
       "      <td>scifi</td>\n",
       "      <td>0.94</td>\n",
       "      <td>https://www.cinemablend.com/television/2488807/why-hulu-picked-up-seth-macfarlane-the-orville-season-3-from-fox</td>\n",
       "      <td>NaN</td>\n",
       "      <td>2020-01-20 16:13:05</td>\n",
       "    </tr>\n",
       "    <tr>\n",
       "      <th>1937</th>\n",
       "      <td>3scmoj</td>\n",
       "      <td>top</td>\n",
       "      <td>A beautiful story about someone we love</td>\n",
       "      <td>NaN</td>\n",
       "      <td>scifi</td>\n",
       "      <td>0.91</td>\n",
       "      <td>http://theoatmeal.com/comics/plane</td>\n",
       "      <td>mrcanoehead</td>\n",
       "      <td>2015-11-10 20:12:30</td>\n",
       "    </tr>\n",
       "    <tr>\n",
       "      <th>1938</th>\n",
       "      <td>gfu65e</td>\n",
       "      <td>top</td>\n",
       "      <td>Tom Cruise will work with NASA on first movie filmed in space, NASA says.</td>\n",
       "      <td>NaN</td>\n",
       "      <td>scifi</td>\n",
       "      <td>0.92</td>\n",
       "      <td>https://www.theverge.com/2020/5/5/21248460/nasa-tom-cruise-movie-international-space-station</td>\n",
       "      <td>EricFromOuterSpace</td>\n",
       "      <td>2020-05-08 10:25:19</td>\n",
       "    </tr>\n",
       "    <tr>\n",
       "      <th>1939</th>\n",
       "      <td>1lf3oo</td>\n",
       "      <td>top</td>\n",
       "      <td>Ever wonder what Picard's crew would look like in Original Series uniform's? I just wanted to see Dr. Crusher in a blue miniskirt... [OC]</td>\n",
       "      <td>Enjoy!\\n\\nhttp://imgur.com/a/s9BEh\\n\\nNote: In case you are wondering, the artist decided Data was best suited to fill Spock's role as Science Officer so he is in blue, and that Troi would take over as Yeoman in red.</td>\n",
       "      <td>scifi</td>\n",
       "      <td>0.92</td>\n",
       "      <td>https://www.reddit.com/r/scifi/comments/1lf3oo/ever_wonder_what_picards_crew_would_look_like_in/</td>\n",
       "      <td>Gnagus</td>\n",
       "      <td>2013-08-30 15:41:54</td>\n",
       "    </tr>\n",
       "    <tr>\n",
       "      <th>1940</th>\n",
       "      <td>3z8zll</td>\n",
       "      <td>top</td>\n",
       "      <td>Boba Fett Actor Jason Wingreen Dies : People.com</td>\n",
       "      <td>NaN</td>\n",
       "      <td>scifi</td>\n",
       "      <td>0.90</td>\n",
       "      <td>http://www.people.com/article/boba-fett-jason-wingreen-actor-dead</td>\n",
       "      <td>NaN</td>\n",
       "      <td>2016-01-03 02:26:37</td>\n",
       "    </tr>\n",
       "  </tbody>\n",
       "</table>\n",
       "<p>1920 rows × 9 columns</p>\n",
       "</div>"
      ],
      "text/plain": [
       "           id type  \\\n",
       "0     16yswpw  hot   \n",
       "1     17a1hlv  hot   \n",
       "5     17a5t7r  hot   \n",
       "12    17a16it  hot   \n",
       "15    17a1825  hot   \n",
       "...       ...  ...   \n",
       "1936   erjs4l  top   \n",
       "1937   3scmoj  top   \n",
       "1938   gfu65e  top   \n",
       "1939   1lf3oo  top   \n",
       "1940   3z8zll  top   \n",
       "\n",
       "                                                                                                                                                  title  \\\n",
       "0     I am Scott Sigler, author of many leather-bound books, including THE CRYPT: SHAKEDOWN, which is out *today* in hardcover, Kindle, and audio. AMA.   \n",
       "1                                                                                            What science fiction novels do you think have shocked you?   \n",
       "5                                                                                   What’s the most terrifying sci-fi premise or story you’ve heard of.   \n",
       "12                                                               Moebius meets Annihilation with great 2D animation in the trailer for Scavengers Reign   \n",
       "15                                                                                                    oh my god rewatching severence, what a series 🤯🤯🤯   \n",
       "...                                                                                                                                                 ...   \n",
       "1936                                                                                 Why Hulu Picked Up Seth MacFarlane's The Orville Season 3 From Fox   \n",
       "1937                                                                                                            A beautiful story about someone we love   \n",
       "1938                                                                          Tom Cruise will work with NASA on first movie filmed in space, NASA says.   \n",
       "1939          Ever wonder what Picard's crew would look like in Original Series uniform's? I just wanted to see Dr. Crusher in a blue miniskirt... [OC]   \n",
       "1940                                                                                                   Boba Fett Actor Jason Wingreen Dies : People.com   \n",
       "\n",
       "                                                                                                                                                                                                                                                                                                                                                                                                                                                                                                                                                                                                                                                                                                                                                                                           self_text  \\\n",
       "0     How do you do, fellow kids? I'm a #1 New York Times bestselling author. My new scifi/horror novel THE CRYPT: SHAKEDOWN just dropped. Links at [scottsigler.com/thecrypt](https://scottsigler.com/thecrypt)\\n\\nI'll hang out here for a few hours and answer any questions you might have about THE CRYPT, my Infected Trilogy, the Sun Symbol Duology, writing horror and scifi, the book biz, being a creator with AHDH, how I get shit done (or do *not* get shit done, see previous mention of ADHD), podcasting, my journey as a creator, my Galactic Football League series, and any damn other thing you want to know.\\n\\nI'm on all the socials as \"scottsigler\"\\n\\nhttps://preview.redd.it/zdjhnlyw00sb1.png?width=800&format=png&auto=webp&s=eeda3179a4d0109625e71c39782e2d0a1c3ca8af   \n",
       "1                                                                                                                                                                                                                                                                                                                                                                                                                                                                                                                                                                                                                                                                                                      For example, some assumptions about the future and human nature are cruel but very realistic.   \n",
       "5                                                                                                                                                                                                                                                                                                                                                                                           I was discussing with a friend on the most terrifying plots or existential threat you’ve encountered read or watched.   \\nI read a short story which was the basis of event horizon which was pretty terrifying, but find most creature , sci-fi not that terrifying. Sunshine‘s harshness of the environment take was much more effective. Is there anything that’s really chilled you to your core. ?    \n",
       "12                                                                                                                                                                                                                                                                                                                                                                                                                                                                                                                                                                                                                                                                                                                            Throw in some Raised by Wolves. Hopefully we get more than one season.   \n",
       "15                                                                                                                                                                                                                                                                                                                                                                                                                                                                                                                                                                                                                                                                                                                                                                                               NaN   \n",
       "...                                                                                                                                                                                                                                                                                                                                                                                                                                                                                                                                                                                                                                                                                                                                                                                              ...   \n",
       "1936                                                                                                                                                                                                                                                                                                                                                                                                                                                                                                                                                                                                                                                                                                                                                                                             NaN   \n",
       "1937                                                                                                                                                                                                                                                                                                                                                                                                                                                                                                                                                                                                                                                                                                                                                                                             NaN   \n",
       "1938                                                                                                                                                                                                                                                                                                                                                                                                                                                                                                                                                                                                                                                                                                                                                                                             NaN   \n",
       "1939                                                                                                                                                                                                                                                                                                                                                                                                                                                                                                                                                                        Enjoy!\\n\\nhttp://imgur.com/a/s9BEh\\n\\nNote: In case you are wondering, the artist decided Data was best suited to fill Spock's role as Science Officer so he is in blue, and that Troi would take over as Yeoman in red.   \n",
       "1940                                                                                                                                                                                                                                                                                                                                                                                                                                                                                                                                                                                                                                                                                                                                                                                             NaN   \n",
       "\n",
       "     subreddit  upvote_ratio  \\\n",
       "0        scifi          0.80   \n",
       "1        scifi          0.88   \n",
       "5        scifi          0.97   \n",
       "12       scifi          0.97   \n",
       "15       scifi          0.87   \n",
       "...        ...           ...   \n",
       "1936     scifi          0.94   \n",
       "1937     scifi          0.91   \n",
       "1938     scifi          0.92   \n",
       "1939     scifi          0.92   \n",
       "1940     scifi          0.90   \n",
       "\n",
       "                                                                                                         link_address  \\\n",
       "0                      https://www.reddit.com/r/scifi/comments/16yswpw/i_am_scott_sigler_author_of_many_leatherbound/   \n",
       "1                      https://www.reddit.com/r/scifi/comments/17a1hlv/what_science_fiction_novels_do_you_think_have/   \n",
       "5                   https://www.reddit.com/r/scifi/comments/17a5t7r/whats_the_most_terrifying_scifi_premise_or_story/   \n",
       "12                                                                   https://youtu.be/NWQH8cMpWTU?si=_pLn8TJhHS4Fx79W   \n",
       "15                      https://www.reddit.com/r/scifi/comments/17a1825/oh_my_god_rewatching_severence_what_a_series/   \n",
       "...                                                                                                               ...   \n",
       "1936  https://www.cinemablend.com/television/2488807/why-hulu-picked-up-seth-macfarlane-the-orville-season-3-from-fox   \n",
       "1937                                                                               http://theoatmeal.com/comics/plane   \n",
       "1938                     https://www.theverge.com/2020/5/5/21248460/nasa-tom-cruise-movie-international-space-station   \n",
       "1939                 https://www.reddit.com/r/scifi/comments/1lf3oo/ever_wonder_what_picards_crew_would_look_like_in/   \n",
       "1940                                                http://www.people.com/article/boba-fett-jason-wingreen-actor-dead   \n",
       "\n",
       "                    user             datetime  \n",
       "0            scottsigler  2023-10-03 10:08:21  \n",
       "1                 Ghenym  2023-10-17 11:50:46  \n",
       "5                lv-426b  2023-10-17 15:00:26  \n",
       "12            Yung__Buck  2023-10-17 11:37:07  \n",
       "15         Cormac-tracks  2023-10-17 11:39:04  \n",
       "...                  ...                  ...  \n",
       "1936                 NaN  2020-01-20 16:13:05  \n",
       "1937         mrcanoehead  2015-11-10 20:12:30  \n",
       "1938  EricFromOuterSpace  2020-05-08 10:25:19  \n",
       "1939              Gnagus  2013-08-30 15:41:54  \n",
       "1940                 NaN  2016-01-03 02:26:37  \n",
       "\n",
       "[1920 rows x 9 columns]"
      ]
     },
     "execution_count": 10,
     "metadata": {},
     "output_type": "execute_result"
    }
   ],
   "source": [
    "scifi[scifi['id'].duplicated() == True]"
   ]
  },
  {
   "cell_type": "code",
   "execution_count": 11,
   "id": "b77f0ac3-0fbb-4ecd-8a13-19ee0fadf57f",
   "metadata": {
    "tags": []
   },
   "outputs": [],
   "source": [
    "futurology.drop_duplicates(subset = 'id', keep = 'last', inplace = True)\n",
    "\n",
    "futurology.set_index('id', inplace = True)"
   ]
  },
  {
   "cell_type": "code",
   "execution_count": 12,
   "id": "e1c478dc-950b-4ad3-bab5-0bf642c59ddf",
   "metadata": {
    "tags": []
   },
   "outputs": [],
   "source": [
    "scifi.drop_duplicates(subset = 'id', keep = 'last', inplace = True)\n",
    "\n",
    "scifi.set_index('id', inplace = True)"
   ]
  },
  {
   "cell_type": "code",
   "execution_count": null,
   "id": "9269615a-3a69-438d-916d-7586e3bde171",
   "metadata": {
    "tags": []
   },
   "outputs": [],
   "source": []
  },
  {
   "cell_type": "code",
   "execution_count": 13,
   "id": "686019f9-395c-492c-a4ff-be02d3beb351",
   "metadata": {
    "tags": []
   },
   "outputs": [],
   "source": [
    "reddit_data_df = pd.concat([futurology, scifi])"
   ]
  },
  {
   "cell_type": "code",
   "execution_count": 14,
   "id": "b4eb27ab-aa17-458e-820c-148267992fe4",
   "metadata": {
    "tags": []
   },
   "outputs": [
    {
     "data": {
      "text/plain": [
       "scifi         1961\n",
       "Futurology    1695\n",
       "Name: subreddit, dtype: int64"
      ]
     },
     "execution_count": 14,
     "metadata": {},
     "output_type": "execute_result"
    }
   ],
   "source": [
    "reddit_data_df['subreddit'].value_counts()"
   ]
  },
  {
   "cell_type": "code",
   "execution_count": null,
   "id": "ed38c52c-3007-4695-8be3-ad0e05a78810",
   "metadata": {
    "tags": []
   },
   "outputs": [],
   "source": []
  },
  {
   "cell_type": "code",
   "execution_count": 16,
   "id": "d8c565d0-e0f4-47b7-b0a0-30087aca9ce3",
   "metadata": {
    "tags": []
   },
   "outputs": [],
   "source": [
    "reddit_data_df.to_csv('../datasets/subreddit_data_' + str(datetime.date.today()) + '.csv')"
   ]
  },
  {
   "cell_type": "code",
   "execution_count": null,
   "id": "7ef618b5-6ed3-4688-9e6c-c0721b1e1a82",
   "metadata": {},
   "outputs": [],
   "source": []
  }
 ],
 "metadata": {
  "kernelspec": {
   "display_name": "Python 3 (ipykernel)",
   "language": "python",
   "name": "python3"
  },
  "language_info": {
   "codemirror_mode": {
    "name": "ipython",
    "version": 3
   },
   "file_extension": ".py",
   "mimetype": "text/x-python",
   "name": "python",
   "nbconvert_exporter": "python",
   "pygments_lexer": "ipython3",
   "version": "3.11.4"
  }
 },
 "nbformat": 4,
 "nbformat_minor": 5
}
